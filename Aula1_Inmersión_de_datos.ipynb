{
  "nbformat": 4,
  "nbformat_minor": 0,
  "metadata": {
    "colab": {
      "provenance": [],
      "mount_file_id": "1ktYZ5i1KFgDfQMvNtIa7F0sBqrmhFkHj",
      "authorship_tag": "ABX9TyMPw+gJhMJ1ERpC87/B1XdJ",
      "include_colab_link": true
    },
    "kernelspec": {
      "name": "python3",
      "display_name": "Python 3"
    },
    "language_info": {
      "name": "python"
    }
  },
  "cells": [
    {
      "cell_type": "markdown",
      "metadata": {
        "id": "view-in-github",
        "colab_type": "text"
      },
      "source": [
        "<a href=\"https://colab.research.google.com/github/Daddycamach66/Inmersion-de-datos/blob/main/Aula1_Inmersi%C3%B3n_de_datos.ipynb\" target=\"_parent\"><img src=\"https://colab.research.google.com/assets/colab-badge.svg\" alt=\"Open In Colab\"/></a>"
      ]
    },
    {
      "cell_type": "code",
      "source": [
        "from google.colab import drive\n",
        "drive.mount('/content/drive')"
      ],
      "metadata": {
        "colab": {
          "base_uri": "https://localhost:8080/"
        },
        "id": "t0Pnk8CQ8WDx",
        "outputId": "0354bd24-87c6-43db-e2da-eca79ab60294"
      },
      "execution_count": null,
      "outputs": [
        {
          "output_type": "stream",
          "name": "stdout",
          "text": [
            "Drive already mounted at /content/drive; to attempt to forcibly remount, call drive.mount(\"/content/drive\", force_remount=True).\n"
          ]
        }
      ]
    },
    {
      "cell_type": "code",
      "execution_count": null,
      "metadata": {
        "colab": {
          "base_uri": "https://localhost:8080/",
          "height": 563
        },
        "id": "5ZDCm_Ua7Tsz",
        "outputId": "343e4376-fb78-48d0-eca8-4a0099e93fff"
      },
      "outputs": [
        {
          "output_type": "execute_result",
          "data": {
            "text/plain": [
              "          Tipo                                 Descripcion  Habitaciones  \\\n",
              "0  Apartamento  Apartamento en venta en Zona Noroccidental             3   \n",
              "1         Casa                   Casa en venta en Castilla             4   \n",
              "2  Apartamento     Apartamento en venta en Chico Reservado             3   \n",
              "3  Apartamento             Apartamento en venta en Usaquén             3   \n",
              "4  Apartamento         Apartamento en venta en Bella Suiza             2   \n",
              "5  Apartamento         Apartamento en venta en Bella Suiza             1   \n",
              "6  Apartamento         Apartamento en venta en Bella Suiza             1   \n",
              "7  Apartamento         Apartamento en venta en Bella Suiza             3   \n",
              "8  Apartamento            Apartamento en venta en El Chicó             3   \n",
              "9  Apartamento         Apartamento en venta en Bella Suiza             2   \n",
              "\n",
              "   Baños  Área              Barrio                                    UPZ  \\\n",
              "0      2    70  Zona Noroccidental     CHAPINERO: Pardo Rubio + Chapinero   \n",
              "1      3   170            Castilla            KENNEDY: Castilla + Bavaria   \n",
              "2      3   144     Chico Reservado     CHAPINERO: Chicó Lago + El Refugio   \n",
              "3      2   154             Usaquén                                Usaquén   \n",
              "4      3   128         Bella Suiza  USAQUÉN: Country Club + Santa Bárbara   \n",
              "5      2    62         Bella Suiza  USAQUÉN: Country Club + Santa Bárbara   \n",
              "6      2    62         Bella Suiza  USAQUÉN: Country Club + Santa Bárbara   \n",
              "7      4   212         Bella Suiza  USAQUÉN: Country Club + Santa Bárbara   \n",
              "8      2   159            El Chicó     CHAPINERO: Chicó Lago + El Refugio   \n",
              "9      2    80         Bella Suiza  USAQUÉN: Country Club + Santa Bárbara   \n",
              "\n",
              "             Valor  \n",
              "0    $ 360.000.000  \n",
              "1    $ 670.000.000  \n",
              "2  $ 1.120.000.000  \n",
              "3    $ 890.000.000  \n",
              "4    $ 970.000.000  \n",
              "5    $ 510.000.000  \n",
              "6    $ 500.000.000  \n",
              "7  $ 2.350.000.000  \n",
              "8    $ 850.000.000  \n",
              "9    $ 642.000.000  "
            ],
            "text/html": [
              "\n",
              "  <div id=\"df-77624321-8bc1-4fb8-b472-6ea7d982f2ed\">\n",
              "    <div class=\"colab-df-container\">\n",
              "      <div>\n",
              "<style scoped>\n",
              "    .dataframe tbody tr th:only-of-type {\n",
              "        vertical-align: middle;\n",
              "    }\n",
              "\n",
              "    .dataframe tbody tr th {\n",
              "        vertical-align: top;\n",
              "    }\n",
              "\n",
              "    .dataframe thead th {\n",
              "        text-align: right;\n",
              "    }\n",
              "</style>\n",
              "<table border=\"1\" class=\"dataframe\">\n",
              "  <thead>\n",
              "    <tr style=\"text-align: right;\">\n",
              "      <th></th>\n",
              "      <th>Tipo</th>\n",
              "      <th>Descripcion</th>\n",
              "      <th>Habitaciones</th>\n",
              "      <th>Baños</th>\n",
              "      <th>Área</th>\n",
              "      <th>Barrio</th>\n",
              "      <th>UPZ</th>\n",
              "      <th>Valor</th>\n",
              "    </tr>\n",
              "  </thead>\n",
              "  <tbody>\n",
              "    <tr>\n",
              "      <th>0</th>\n",
              "      <td>Apartamento</td>\n",
              "      <td>Apartamento en venta en Zona Noroccidental</td>\n",
              "      <td>3</td>\n",
              "      <td>2</td>\n",
              "      <td>70</td>\n",
              "      <td>Zona Noroccidental</td>\n",
              "      <td>CHAPINERO: Pardo Rubio + Chapinero</td>\n",
              "      <td>$ 360.000.000</td>\n",
              "    </tr>\n",
              "    <tr>\n",
              "      <th>1</th>\n",
              "      <td>Casa</td>\n",
              "      <td>Casa en venta en Castilla</td>\n",
              "      <td>4</td>\n",
              "      <td>3</td>\n",
              "      <td>170</td>\n",
              "      <td>Castilla</td>\n",
              "      <td>KENNEDY: Castilla + Bavaria</td>\n",
              "      <td>$ 670.000.000</td>\n",
              "    </tr>\n",
              "    <tr>\n",
              "      <th>2</th>\n",
              "      <td>Apartamento</td>\n",
              "      <td>Apartamento en venta en Chico Reservado</td>\n",
              "      <td>3</td>\n",
              "      <td>3</td>\n",
              "      <td>144</td>\n",
              "      <td>Chico Reservado</td>\n",
              "      <td>CHAPINERO: Chicó Lago + El Refugio</td>\n",
              "      <td>$ 1.120.000.000</td>\n",
              "    </tr>\n",
              "    <tr>\n",
              "      <th>3</th>\n",
              "      <td>Apartamento</td>\n",
              "      <td>Apartamento en venta en Usaquén</td>\n",
              "      <td>3</td>\n",
              "      <td>2</td>\n",
              "      <td>154</td>\n",
              "      <td>Usaquén</td>\n",
              "      <td>Usaquén</td>\n",
              "      <td>$ 890.000.000</td>\n",
              "    </tr>\n",
              "    <tr>\n",
              "      <th>4</th>\n",
              "      <td>Apartamento</td>\n",
              "      <td>Apartamento en venta en Bella Suiza</td>\n",
              "      <td>2</td>\n",
              "      <td>3</td>\n",
              "      <td>128</td>\n",
              "      <td>Bella Suiza</td>\n",
              "      <td>USAQUÉN: Country Club + Santa Bárbara</td>\n",
              "      <td>$ 970.000.000</td>\n",
              "    </tr>\n",
              "    <tr>\n",
              "      <th>5</th>\n",
              "      <td>Apartamento</td>\n",
              "      <td>Apartamento en venta en Bella Suiza</td>\n",
              "      <td>1</td>\n",
              "      <td>2</td>\n",
              "      <td>62</td>\n",
              "      <td>Bella Suiza</td>\n",
              "      <td>USAQUÉN: Country Club + Santa Bárbara</td>\n",
              "      <td>$ 510.000.000</td>\n",
              "    </tr>\n",
              "    <tr>\n",
              "      <th>6</th>\n",
              "      <td>Apartamento</td>\n",
              "      <td>Apartamento en venta en Bella Suiza</td>\n",
              "      <td>1</td>\n",
              "      <td>2</td>\n",
              "      <td>62</td>\n",
              "      <td>Bella Suiza</td>\n",
              "      <td>USAQUÉN: Country Club + Santa Bárbara</td>\n",
              "      <td>$ 500.000.000</td>\n",
              "    </tr>\n",
              "    <tr>\n",
              "      <th>7</th>\n",
              "      <td>Apartamento</td>\n",
              "      <td>Apartamento en venta en Bella Suiza</td>\n",
              "      <td>3</td>\n",
              "      <td>4</td>\n",
              "      <td>212</td>\n",
              "      <td>Bella Suiza</td>\n",
              "      <td>USAQUÉN: Country Club + Santa Bárbara</td>\n",
              "      <td>$ 2.350.000.000</td>\n",
              "    </tr>\n",
              "    <tr>\n",
              "      <th>8</th>\n",
              "      <td>Apartamento</td>\n",
              "      <td>Apartamento en venta en El Chicó</td>\n",
              "      <td>3</td>\n",
              "      <td>2</td>\n",
              "      <td>159</td>\n",
              "      <td>El Chicó</td>\n",
              "      <td>CHAPINERO: Chicó Lago + El Refugio</td>\n",
              "      <td>$ 850.000.000</td>\n",
              "    </tr>\n",
              "    <tr>\n",
              "      <th>9</th>\n",
              "      <td>Apartamento</td>\n",
              "      <td>Apartamento en venta en Bella Suiza</td>\n",
              "      <td>2</td>\n",
              "      <td>2</td>\n",
              "      <td>80</td>\n",
              "      <td>Bella Suiza</td>\n",
              "      <td>USAQUÉN: Country Club + Santa Bárbara</td>\n",
              "      <td>$ 642.000.000</td>\n",
              "    </tr>\n",
              "  </tbody>\n",
              "</table>\n",
              "</div>\n",
              "      <button class=\"colab-df-convert\" onclick=\"convertToInteractive('df-77624321-8bc1-4fb8-b472-6ea7d982f2ed')\"\n",
              "              title=\"Convert this dataframe to an interactive table.\"\n",
              "              style=\"display:none;\">\n",
              "        \n",
              "  <svg xmlns=\"http://www.w3.org/2000/svg\" height=\"24px\"viewBox=\"0 0 24 24\"\n",
              "       width=\"24px\">\n",
              "    <path d=\"M0 0h24v24H0V0z\" fill=\"none\"/>\n",
              "    <path d=\"M18.56 5.44l.94 2.06.94-2.06 2.06-.94-2.06-.94-.94-2.06-.94 2.06-2.06.94zm-11 1L8.5 8.5l.94-2.06 2.06-.94-2.06-.94L8.5 2.5l-.94 2.06-2.06.94zm10 10l.94 2.06.94-2.06 2.06-.94-2.06-.94-.94-2.06-.94 2.06-2.06.94z\"/><path d=\"M17.41 7.96l-1.37-1.37c-.4-.4-.92-.59-1.43-.59-.52 0-1.04.2-1.43.59L10.3 9.45l-7.72 7.72c-.78.78-.78 2.05 0 2.83L4 21.41c.39.39.9.59 1.41.59.51 0 1.02-.2 1.41-.59l7.78-7.78 2.81-2.81c.8-.78.8-2.07 0-2.86zM5.41 20L4 18.59l7.72-7.72 1.47 1.35L5.41 20z\"/>\n",
              "  </svg>\n",
              "      </button>\n",
              "      \n",
              "  <style>\n",
              "    .colab-df-container {\n",
              "      display:flex;\n",
              "      flex-wrap:wrap;\n",
              "      gap: 12px;\n",
              "    }\n",
              "\n",
              "    .colab-df-convert {\n",
              "      background-color: #E8F0FE;\n",
              "      border: none;\n",
              "      border-radius: 50%;\n",
              "      cursor: pointer;\n",
              "      display: none;\n",
              "      fill: #1967D2;\n",
              "      height: 32px;\n",
              "      padding: 0 0 0 0;\n",
              "      width: 32px;\n",
              "    }\n",
              "\n",
              "    .colab-df-convert:hover {\n",
              "      background-color: #E2EBFA;\n",
              "      box-shadow: 0px 1px 2px rgba(60, 64, 67, 0.3), 0px 1px 3px 1px rgba(60, 64, 67, 0.15);\n",
              "      fill: #174EA6;\n",
              "    }\n",
              "\n",
              "    [theme=dark] .colab-df-convert {\n",
              "      background-color: #3B4455;\n",
              "      fill: #D2E3FC;\n",
              "    }\n",
              "\n",
              "    [theme=dark] .colab-df-convert:hover {\n",
              "      background-color: #434B5C;\n",
              "      box-shadow: 0px 1px 3px 1px rgba(0, 0, 0, 0.15);\n",
              "      filter: drop-shadow(0px 1px 2px rgba(0, 0, 0, 0.3));\n",
              "      fill: #FFFFFF;\n",
              "    }\n",
              "  </style>\n",
              "\n",
              "      <script>\n",
              "        const buttonEl =\n",
              "          document.querySelector('#df-77624321-8bc1-4fb8-b472-6ea7d982f2ed button.colab-df-convert');\n",
              "        buttonEl.style.display =\n",
              "          google.colab.kernel.accessAllowed ? 'block' : 'none';\n",
              "\n",
              "        async function convertToInteractive(key) {\n",
              "          const element = document.querySelector('#df-77624321-8bc1-4fb8-b472-6ea7d982f2ed');\n",
              "          const dataTable =\n",
              "            await google.colab.kernel.invokeFunction('convertToInteractive',\n",
              "                                                     [key], {});\n",
              "          if (!dataTable) return;\n",
              "\n",
              "          const docLinkHtml = 'Like what you see? Visit the ' +\n",
              "            '<a target=\"_blank\" href=https://colab.research.google.com/notebooks/data_table.ipynb>data table notebook</a>'\n",
              "            + ' to learn more about interactive tables.';\n",
              "          element.innerHTML = '';\n",
              "          dataTable['output_type'] = 'display_data';\n",
              "          await google.colab.output.renderOutput(dataTable, element);\n",
              "          const docLink = document.createElement('div');\n",
              "          docLink.innerHTML = docLinkHtml;\n",
              "          element.appendChild(docLink);\n",
              "        }\n",
              "      </script>\n",
              "    </div>\n",
              "  </div>\n",
              "  "
            ]
          },
          "metadata": {},
          "execution_count": 3
        }
      ],
      "source": [
        "import pandas as pd\n",
        "\n",
        "inmuebles = pd.read_csv('/content/drive/MyDrive/Colab Notebooks/inmuebles_bogota.csv')\n",
        "inmuebles.head(10)"
      ]
    },
    {
      "cell_type": "code",
      "source": [
        "import matplotlib.pyplot as plt\n",
        "import seaborn as sns"
      ],
      "metadata": {
        "id": "G0Qsu4zRnpGG"
      },
      "execution_count": null,
      "outputs": []
    },
    {
      "cell_type": "code",
      "source": [
        "inmuebles.shape\n"
      ],
      "metadata": {
        "colab": {
          "base_uri": "https://localhost:8080/"
        },
        "id": "iPlycKUlGItV",
        "outputId": "6a39ae3f-503b-4ccf-e7bf-7a4d4a16cd59"
      },
      "execution_count": null,
      "outputs": [
        {
          "output_type": "execute_result",
          "data": {
            "text/plain": [
              "(9520, 8)"
            ]
          },
          "metadata": {},
          "execution_count": 5
        }
      ]
    },
    {
      "cell_type": "code",
      "source": [
        "inmuebles.columns\n"
      ],
      "metadata": {
        "colab": {
          "base_uri": "https://localhost:8080/"
        },
        "id": "lQxRtbsDGrUw",
        "outputId": "753dbb5f-60b0-43d6-c16b-d306399bffac"
      },
      "execution_count": null,
      "outputs": [
        {
          "output_type": "execute_result",
          "data": {
            "text/plain": [
              "Index(['Tipo', 'Descripcion', 'Habitaciones', 'Baños', 'Área', 'Barrio', 'UPZ',\n",
              "       'Valor'],\n",
              "      dtype='object')"
            ]
          },
          "metadata": {},
          "execution_count": 6
        }
      ]
    },
    {
      "cell_type": "code",
      "source": [
        "columnas = {'Baños':'Banos',\n",
        "            'Área':'Area'}\n",
        "\n",
        "inmuebles = inmuebles.rename(columns=columnas)\n",
        "inmuebles.sample(10)"
      ],
      "metadata": {
        "colab": {
          "base_uri": "https://localhost:8080/",
          "height": 546
        },
        "id": "Yg9gL79vG05I",
        "outputId": "4316874d-4fdc-4fa5-f4d0-1f789792ebd5"
      },
      "execution_count": null,
      "outputs": [
        {
          "output_type": "execute_result",
          "data": {
            "text/plain": [
              "             Tipo                           Descripcion  Habitaciones  Banos  \\\n",
              "4609  Apartamento      Apartamento en venta en Engativa             3      2   \n",
              "3683  Apartamento      Apartamento en venta en Cedritos             3      2   \n",
              "8182  Apartamento     Apartamento en venta en Chapinero             3      4   \n",
              "9386         Casa              Casa en venta en Kennedy             5      3   \n",
              "6521  Apartamento   Apartamento en venta en Chico Norte             2      2   \n",
              "8043         Casa                 Casa en venta en Suba             4      2   \n",
              "6601  Apartamento       Apartamento en venta en Usaquén             2      2   \n",
              "6382         Casa   Casa en venta en Zona Noroccidental             3      3   \n",
              "9318  Apartamento    Apartamento en venta en Las Nieves             2      1   \n",
              "7807  Apartamento  Apartamento en venta en Gran Granada             3      2   \n",
              "\n",
              "      Area              Barrio                                     UPZ  \\\n",
              "4609    60            Engativa                                Engativá   \n",
              "3683   109            Cedritos                                 Usaquén   \n",
              "8182   165           Chapinero      CHAPINERO: Pardo Rubio + Chapinero   \n",
              "9386   216             Kennedy                         Kennedy Central   \n",
              "6521    62         Chico Norte      CHAPINERO: Chicó Lago + El Refugio   \n",
              "8043   117                Suba                                    Suba   \n",
              "6601    58             Usaquén                                 Usaquén   \n",
              "6382    78  Zona Noroccidental      CHAPINERO: Pardo Rubio + Chapinero   \n",
              "9318    75          Las Nieves  SANTA FE: Las Nieves + Sagrado Corazón   \n",
              "7807    46        Gran Granada                            Garcés Navas   \n",
              "\n",
              "                Valor  \n",
              "4609    $ 260.000.000  \n",
              "3683    $ 550.000.000  \n",
              "8182  $ 1.300.000.000  \n",
              "9386    $ 300.000.000  \n",
              "6521    $ 610.000.000  \n",
              "8043    $ 310.000.000  \n",
              "6601    $ 330.000.000  \n",
              "6382    $ 400.000.000  \n",
              "9318    $ 450.000.000  \n",
              "7807    $ 190.000.000  "
            ],
            "text/html": [
              "\n",
              "  <div id=\"df-086ed7eb-2e14-46b9-8f6a-330dff86d353\">\n",
              "    <div class=\"colab-df-container\">\n",
              "      <div>\n",
              "<style scoped>\n",
              "    .dataframe tbody tr th:only-of-type {\n",
              "        vertical-align: middle;\n",
              "    }\n",
              "\n",
              "    .dataframe tbody tr th {\n",
              "        vertical-align: top;\n",
              "    }\n",
              "\n",
              "    .dataframe thead th {\n",
              "        text-align: right;\n",
              "    }\n",
              "</style>\n",
              "<table border=\"1\" class=\"dataframe\">\n",
              "  <thead>\n",
              "    <tr style=\"text-align: right;\">\n",
              "      <th></th>\n",
              "      <th>Tipo</th>\n",
              "      <th>Descripcion</th>\n",
              "      <th>Habitaciones</th>\n",
              "      <th>Banos</th>\n",
              "      <th>Area</th>\n",
              "      <th>Barrio</th>\n",
              "      <th>UPZ</th>\n",
              "      <th>Valor</th>\n",
              "    </tr>\n",
              "  </thead>\n",
              "  <tbody>\n",
              "    <tr>\n",
              "      <th>4609</th>\n",
              "      <td>Apartamento</td>\n",
              "      <td>Apartamento en venta en Engativa</td>\n",
              "      <td>3</td>\n",
              "      <td>2</td>\n",
              "      <td>60</td>\n",
              "      <td>Engativa</td>\n",
              "      <td>Engativá</td>\n",
              "      <td>$ 260.000.000</td>\n",
              "    </tr>\n",
              "    <tr>\n",
              "      <th>3683</th>\n",
              "      <td>Apartamento</td>\n",
              "      <td>Apartamento en venta en Cedritos</td>\n",
              "      <td>3</td>\n",
              "      <td>2</td>\n",
              "      <td>109</td>\n",
              "      <td>Cedritos</td>\n",
              "      <td>Usaquén</td>\n",
              "      <td>$ 550.000.000</td>\n",
              "    </tr>\n",
              "    <tr>\n",
              "      <th>8182</th>\n",
              "      <td>Apartamento</td>\n",
              "      <td>Apartamento en venta en Chapinero</td>\n",
              "      <td>3</td>\n",
              "      <td>4</td>\n",
              "      <td>165</td>\n",
              "      <td>Chapinero</td>\n",
              "      <td>CHAPINERO: Pardo Rubio + Chapinero</td>\n",
              "      <td>$ 1.300.000.000</td>\n",
              "    </tr>\n",
              "    <tr>\n",
              "      <th>9386</th>\n",
              "      <td>Casa</td>\n",
              "      <td>Casa en venta en Kennedy</td>\n",
              "      <td>5</td>\n",
              "      <td>3</td>\n",
              "      <td>216</td>\n",
              "      <td>Kennedy</td>\n",
              "      <td>Kennedy Central</td>\n",
              "      <td>$ 300.000.000</td>\n",
              "    </tr>\n",
              "    <tr>\n",
              "      <th>6521</th>\n",
              "      <td>Apartamento</td>\n",
              "      <td>Apartamento en venta en Chico Norte</td>\n",
              "      <td>2</td>\n",
              "      <td>2</td>\n",
              "      <td>62</td>\n",
              "      <td>Chico Norte</td>\n",
              "      <td>CHAPINERO: Chicó Lago + El Refugio</td>\n",
              "      <td>$ 610.000.000</td>\n",
              "    </tr>\n",
              "    <tr>\n",
              "      <th>8043</th>\n",
              "      <td>Casa</td>\n",
              "      <td>Casa en venta en Suba</td>\n",
              "      <td>4</td>\n",
              "      <td>2</td>\n",
              "      <td>117</td>\n",
              "      <td>Suba</td>\n",
              "      <td>Suba</td>\n",
              "      <td>$ 310.000.000</td>\n",
              "    </tr>\n",
              "    <tr>\n",
              "      <th>6601</th>\n",
              "      <td>Apartamento</td>\n",
              "      <td>Apartamento en venta en Usaquén</td>\n",
              "      <td>2</td>\n",
              "      <td>2</td>\n",
              "      <td>58</td>\n",
              "      <td>Usaquén</td>\n",
              "      <td>Usaquén</td>\n",
              "      <td>$ 330.000.000</td>\n",
              "    </tr>\n",
              "    <tr>\n",
              "      <th>6382</th>\n",
              "      <td>Casa</td>\n",
              "      <td>Casa en venta en Zona Noroccidental</td>\n",
              "      <td>3</td>\n",
              "      <td>3</td>\n",
              "      <td>78</td>\n",
              "      <td>Zona Noroccidental</td>\n",
              "      <td>CHAPINERO: Pardo Rubio + Chapinero</td>\n",
              "      <td>$ 400.000.000</td>\n",
              "    </tr>\n",
              "    <tr>\n",
              "      <th>9318</th>\n",
              "      <td>Apartamento</td>\n",
              "      <td>Apartamento en venta en Las Nieves</td>\n",
              "      <td>2</td>\n",
              "      <td>1</td>\n",
              "      <td>75</td>\n",
              "      <td>Las Nieves</td>\n",
              "      <td>SANTA FE: Las Nieves + Sagrado Corazón</td>\n",
              "      <td>$ 450.000.000</td>\n",
              "    </tr>\n",
              "    <tr>\n",
              "      <th>7807</th>\n",
              "      <td>Apartamento</td>\n",
              "      <td>Apartamento en venta en Gran Granada</td>\n",
              "      <td>3</td>\n",
              "      <td>2</td>\n",
              "      <td>46</td>\n",
              "      <td>Gran Granada</td>\n",
              "      <td>Garcés Navas</td>\n",
              "      <td>$ 190.000.000</td>\n",
              "    </tr>\n",
              "  </tbody>\n",
              "</table>\n",
              "</div>\n",
              "      <button class=\"colab-df-convert\" onclick=\"convertToInteractive('df-086ed7eb-2e14-46b9-8f6a-330dff86d353')\"\n",
              "              title=\"Convert this dataframe to an interactive table.\"\n",
              "              style=\"display:none;\">\n",
              "        \n",
              "  <svg xmlns=\"http://www.w3.org/2000/svg\" height=\"24px\"viewBox=\"0 0 24 24\"\n",
              "       width=\"24px\">\n",
              "    <path d=\"M0 0h24v24H0V0z\" fill=\"none\"/>\n",
              "    <path d=\"M18.56 5.44l.94 2.06.94-2.06 2.06-.94-2.06-.94-.94-2.06-.94 2.06-2.06.94zm-11 1L8.5 8.5l.94-2.06 2.06-.94-2.06-.94L8.5 2.5l-.94 2.06-2.06.94zm10 10l.94 2.06.94-2.06 2.06-.94-2.06-.94-.94-2.06-.94 2.06-2.06.94z\"/><path d=\"M17.41 7.96l-1.37-1.37c-.4-.4-.92-.59-1.43-.59-.52 0-1.04.2-1.43.59L10.3 9.45l-7.72 7.72c-.78.78-.78 2.05 0 2.83L4 21.41c.39.39.9.59 1.41.59.51 0 1.02-.2 1.41-.59l7.78-7.78 2.81-2.81c.8-.78.8-2.07 0-2.86zM5.41 20L4 18.59l7.72-7.72 1.47 1.35L5.41 20z\"/>\n",
              "  </svg>\n",
              "      </button>\n",
              "      \n",
              "  <style>\n",
              "    .colab-df-container {\n",
              "      display:flex;\n",
              "      flex-wrap:wrap;\n",
              "      gap: 12px;\n",
              "    }\n",
              "\n",
              "    .colab-df-convert {\n",
              "      background-color: #E8F0FE;\n",
              "      border: none;\n",
              "      border-radius: 50%;\n",
              "      cursor: pointer;\n",
              "      display: none;\n",
              "      fill: #1967D2;\n",
              "      height: 32px;\n",
              "      padding: 0 0 0 0;\n",
              "      width: 32px;\n",
              "    }\n",
              "\n",
              "    .colab-df-convert:hover {\n",
              "      background-color: #E2EBFA;\n",
              "      box-shadow: 0px 1px 2px rgba(60, 64, 67, 0.3), 0px 1px 3px 1px rgba(60, 64, 67, 0.15);\n",
              "      fill: #174EA6;\n",
              "    }\n",
              "\n",
              "    [theme=dark] .colab-df-convert {\n",
              "      background-color: #3B4455;\n",
              "      fill: #D2E3FC;\n",
              "    }\n",
              "\n",
              "    [theme=dark] .colab-df-convert:hover {\n",
              "      background-color: #434B5C;\n",
              "      box-shadow: 0px 1px 3px 1px rgba(0, 0, 0, 0.15);\n",
              "      filter: drop-shadow(0px 1px 2px rgba(0, 0, 0, 0.3));\n",
              "      fill: #FFFFFF;\n",
              "    }\n",
              "  </style>\n",
              "\n",
              "      <script>\n",
              "        const buttonEl =\n",
              "          document.querySelector('#df-086ed7eb-2e14-46b9-8f6a-330dff86d353 button.colab-df-convert');\n",
              "        buttonEl.style.display =\n",
              "          google.colab.kernel.accessAllowed ? 'block' : 'none';\n",
              "\n",
              "        async function convertToInteractive(key) {\n",
              "          const element = document.querySelector('#df-086ed7eb-2e14-46b9-8f6a-330dff86d353');\n",
              "          const dataTable =\n",
              "            await google.colab.kernel.invokeFunction('convertToInteractive',\n",
              "                                                     [key], {});\n",
              "          if (!dataTable) return;\n",
              "\n",
              "          const docLinkHtml = 'Like what you see? Visit the ' +\n",
              "            '<a target=\"_blank\" href=https://colab.research.google.com/notebooks/data_table.ipynb>data table notebook</a>'\n",
              "            + ' to learn more about interactive tables.';\n",
              "          element.innerHTML = '';\n",
              "          dataTable['output_type'] = 'display_data';\n",
              "          await google.colab.output.renderOutput(dataTable, element);\n",
              "          const docLink = document.createElement('div');\n",
              "          docLink.innerHTML = docLinkHtml;\n",
              "          element.appendChild(docLink);\n",
              "        }\n",
              "      </script>\n",
              "    </div>\n",
              "  </div>\n",
              "  "
            ]
          },
          "metadata": {},
          "execution_count": 7
        }
      ]
    },
    {
      "cell_type": "code",
      "source": [
        "inmuebles.info()"
      ],
      "metadata": {
        "colab": {
          "base_uri": "https://localhost:8080/"
        },
        "id": "1niOkPGSMQVH",
        "outputId": "b8711eab-b15e-49fa-9da4-8a6a5049cea4"
      },
      "execution_count": null,
      "outputs": [
        {
          "output_type": "stream",
          "name": "stdout",
          "text": [
            "<class 'pandas.core.frame.DataFrame'>\n",
            "RangeIndex: 9520 entries, 0 to 9519\n",
            "Data columns (total 8 columns):\n",
            " #   Column        Non-Null Count  Dtype \n",
            "---  ------        --------------  ----- \n",
            " 0   Tipo          9520 non-null   object\n",
            " 1   Descripcion   9520 non-null   object\n",
            " 2   Habitaciones  9520 non-null   int64 \n",
            " 3   Banos         9520 non-null   int64 \n",
            " 4   Area          9520 non-null   int64 \n",
            " 5   Barrio        9520 non-null   object\n",
            " 6   UPZ           9478 non-null   object\n",
            " 7   Valor         9520 non-null   object\n",
            "dtypes: int64(3), object(5)\n",
            "memory usage: 595.1+ KB\n"
          ]
        }
      ]
    },
    {
      "cell_type": "code",
      "source": [
        "inmuebles.iloc[300]"
      ],
      "metadata": {
        "colab": {
          "base_uri": "https://localhost:8080/"
        },
        "id": "D_LY0ylTMcLR",
        "outputId": "20333818-c524-460c-86dd-c696dff82987"
      },
      "execution_count": null,
      "outputs": [
        {
          "output_type": "execute_result",
          "data": {
            "text/plain": [
              "Tipo                                Apartamento\n",
              "Descripcion     Apartamento en venta en Kennedy\n",
              "Habitaciones                                  2\n",
              "Banos                                         1\n",
              "Area                                         42\n",
              "Barrio                                  Kennedy\n",
              "UPZ                             Kennedy Central\n",
              "Valor                             $ 116.100.000\n",
              "Name: 300, dtype: object"
            ]
          },
          "metadata": {},
          "execution_count": 9
        }
      ]
    },
    {
      "cell_type": "code",
      "source": [
        "inmuebles.iloc[300:306]"
      ],
      "metadata": {
        "colab": {
          "base_uri": "https://localhost:8080/",
          "height": 386
        },
        "id": "yBp3SFHHZY95",
        "outputId": "5af483a5-45ca-4e1b-dad7-921b78b5ded1"
      },
      "execution_count": null,
      "outputs": [
        {
          "output_type": "execute_result",
          "data": {
            "text/plain": [
              "            Tipo                          Descripcion  Habitaciones  Banos  \\\n",
              "300  Apartamento      Apartamento en venta en Kennedy             2      1   \n",
              "301  Apartamento  Apartamento en venta en Chico Norte             2      2   \n",
              "302  Apartamento      Apartamento en venta en Kennedy             3      2   \n",
              "303  Apartamento      Apartamento en venta en Kennedy             3      2   \n",
              "304  Apartamento     Apartamento en venta en Cedritos             4      4   \n",
              "305  Apartamento     Apartamento en venta en Cedritos             3      3   \n",
              "\n",
              "     Area       Barrio                                 UPZ          Valor  \n",
              "300    42      Kennedy                     Kennedy Central  $ 116.100.000  \n",
              "301    95  Chico Norte  CHAPINERO: Chicó Lago + El Refugio  $ 980.000.000  \n",
              "302    54      Kennedy                     Kennedy Central  $ 237.000.000  \n",
              "303    67      Kennedy                     Kennedy Central  $ 320.000.000  \n",
              "304   132     Cedritos                             Usaquén  $ 530.000.000  \n",
              "305   108     Cedritos                             Usaquén  $ 503.000.000  "
            ],
            "text/html": [
              "\n",
              "  <div id=\"df-c54adc1c-f255-4c6c-9e46-3f77b822b518\">\n",
              "    <div class=\"colab-df-container\">\n",
              "      <div>\n",
              "<style scoped>\n",
              "    .dataframe tbody tr th:only-of-type {\n",
              "        vertical-align: middle;\n",
              "    }\n",
              "\n",
              "    .dataframe tbody tr th {\n",
              "        vertical-align: top;\n",
              "    }\n",
              "\n",
              "    .dataframe thead th {\n",
              "        text-align: right;\n",
              "    }\n",
              "</style>\n",
              "<table border=\"1\" class=\"dataframe\">\n",
              "  <thead>\n",
              "    <tr style=\"text-align: right;\">\n",
              "      <th></th>\n",
              "      <th>Tipo</th>\n",
              "      <th>Descripcion</th>\n",
              "      <th>Habitaciones</th>\n",
              "      <th>Banos</th>\n",
              "      <th>Area</th>\n",
              "      <th>Barrio</th>\n",
              "      <th>UPZ</th>\n",
              "      <th>Valor</th>\n",
              "    </tr>\n",
              "  </thead>\n",
              "  <tbody>\n",
              "    <tr>\n",
              "      <th>300</th>\n",
              "      <td>Apartamento</td>\n",
              "      <td>Apartamento en venta en Kennedy</td>\n",
              "      <td>2</td>\n",
              "      <td>1</td>\n",
              "      <td>42</td>\n",
              "      <td>Kennedy</td>\n",
              "      <td>Kennedy Central</td>\n",
              "      <td>$ 116.100.000</td>\n",
              "    </tr>\n",
              "    <tr>\n",
              "      <th>301</th>\n",
              "      <td>Apartamento</td>\n",
              "      <td>Apartamento en venta en Chico Norte</td>\n",
              "      <td>2</td>\n",
              "      <td>2</td>\n",
              "      <td>95</td>\n",
              "      <td>Chico Norte</td>\n",
              "      <td>CHAPINERO: Chicó Lago + El Refugio</td>\n",
              "      <td>$ 980.000.000</td>\n",
              "    </tr>\n",
              "    <tr>\n",
              "      <th>302</th>\n",
              "      <td>Apartamento</td>\n",
              "      <td>Apartamento en venta en Kennedy</td>\n",
              "      <td>3</td>\n",
              "      <td>2</td>\n",
              "      <td>54</td>\n",
              "      <td>Kennedy</td>\n",
              "      <td>Kennedy Central</td>\n",
              "      <td>$ 237.000.000</td>\n",
              "    </tr>\n",
              "    <tr>\n",
              "      <th>303</th>\n",
              "      <td>Apartamento</td>\n",
              "      <td>Apartamento en venta en Kennedy</td>\n",
              "      <td>3</td>\n",
              "      <td>2</td>\n",
              "      <td>67</td>\n",
              "      <td>Kennedy</td>\n",
              "      <td>Kennedy Central</td>\n",
              "      <td>$ 320.000.000</td>\n",
              "    </tr>\n",
              "    <tr>\n",
              "      <th>304</th>\n",
              "      <td>Apartamento</td>\n",
              "      <td>Apartamento en venta en Cedritos</td>\n",
              "      <td>4</td>\n",
              "      <td>4</td>\n",
              "      <td>132</td>\n",
              "      <td>Cedritos</td>\n",
              "      <td>Usaquén</td>\n",
              "      <td>$ 530.000.000</td>\n",
              "    </tr>\n",
              "    <tr>\n",
              "      <th>305</th>\n",
              "      <td>Apartamento</td>\n",
              "      <td>Apartamento en venta en Cedritos</td>\n",
              "      <td>3</td>\n",
              "      <td>3</td>\n",
              "      <td>108</td>\n",
              "      <td>Cedritos</td>\n",
              "      <td>Usaquén</td>\n",
              "      <td>$ 503.000.000</td>\n",
              "    </tr>\n",
              "  </tbody>\n",
              "</table>\n",
              "</div>\n",
              "      <button class=\"colab-df-convert\" onclick=\"convertToInteractive('df-c54adc1c-f255-4c6c-9e46-3f77b822b518')\"\n",
              "              title=\"Convert this dataframe to an interactive table.\"\n",
              "              style=\"display:none;\">\n",
              "        \n",
              "  <svg xmlns=\"http://www.w3.org/2000/svg\" height=\"24px\"viewBox=\"0 0 24 24\"\n",
              "       width=\"24px\">\n",
              "    <path d=\"M0 0h24v24H0V0z\" fill=\"none\"/>\n",
              "    <path d=\"M18.56 5.44l.94 2.06.94-2.06 2.06-.94-2.06-.94-.94-2.06-.94 2.06-2.06.94zm-11 1L8.5 8.5l.94-2.06 2.06-.94-2.06-.94L8.5 2.5l-.94 2.06-2.06.94zm10 10l.94 2.06.94-2.06 2.06-.94-2.06-.94-.94-2.06-.94 2.06-2.06.94z\"/><path d=\"M17.41 7.96l-1.37-1.37c-.4-.4-.92-.59-1.43-.59-.52 0-1.04.2-1.43.59L10.3 9.45l-7.72 7.72c-.78.78-.78 2.05 0 2.83L4 21.41c.39.39.9.59 1.41.59.51 0 1.02-.2 1.41-.59l7.78-7.78 2.81-2.81c.8-.78.8-2.07 0-2.86zM5.41 20L4 18.59l7.72-7.72 1.47 1.35L5.41 20z\"/>\n",
              "  </svg>\n",
              "      </button>\n",
              "      \n",
              "  <style>\n",
              "    .colab-df-container {\n",
              "      display:flex;\n",
              "      flex-wrap:wrap;\n",
              "      gap: 12px;\n",
              "    }\n",
              "\n",
              "    .colab-df-convert {\n",
              "      background-color: #E8F0FE;\n",
              "      border: none;\n",
              "      border-radius: 50%;\n",
              "      cursor: pointer;\n",
              "      display: none;\n",
              "      fill: #1967D2;\n",
              "      height: 32px;\n",
              "      padding: 0 0 0 0;\n",
              "      width: 32px;\n",
              "    }\n",
              "\n",
              "    .colab-df-convert:hover {\n",
              "      background-color: #E2EBFA;\n",
              "      box-shadow: 0px 1px 2px rgba(60, 64, 67, 0.3), 0px 1px 3px 1px rgba(60, 64, 67, 0.15);\n",
              "      fill: #174EA6;\n",
              "    }\n",
              "\n",
              "    [theme=dark] .colab-df-convert {\n",
              "      background-color: #3B4455;\n",
              "      fill: #D2E3FC;\n",
              "    }\n",
              "\n",
              "    [theme=dark] .colab-df-convert:hover {\n",
              "      background-color: #434B5C;\n",
              "      box-shadow: 0px 1px 3px 1px rgba(0, 0, 0, 0.15);\n",
              "      filter: drop-shadow(0px 1px 2px rgba(0, 0, 0, 0.3));\n",
              "      fill: #FFFFFF;\n",
              "    }\n",
              "  </style>\n",
              "\n",
              "      <script>\n",
              "        const buttonEl =\n",
              "          document.querySelector('#df-c54adc1c-f255-4c6c-9e46-3f77b822b518 button.colab-df-convert');\n",
              "        buttonEl.style.display =\n",
              "          google.colab.kernel.accessAllowed ? 'block' : 'none';\n",
              "\n",
              "        async function convertToInteractive(key) {\n",
              "          const element = document.querySelector('#df-c54adc1c-f255-4c6c-9e46-3f77b822b518');\n",
              "          const dataTable =\n",
              "            await google.colab.kernel.invokeFunction('convertToInteractive',\n",
              "                                                     [key], {});\n",
              "          if (!dataTable) return;\n",
              "\n",
              "          const docLinkHtml = 'Like what you see? Visit the ' +\n",
              "            '<a target=\"_blank\" href=https://colab.research.google.com/notebooks/data_table.ipynb>data table notebook</a>'\n",
              "            + ' to learn more about interactive tables.';\n",
              "          element.innerHTML = '';\n",
              "          dataTable['output_type'] = 'display_data';\n",
              "          await google.colab.output.renderOutput(dataTable, element);\n",
              "          const docLink = document.createElement('div');\n",
              "          docLink.innerHTML = docLinkHtml;\n",
              "          element.appendChild(docLink);\n",
              "        }\n",
              "      </script>\n",
              "    </div>\n",
              "  </div>\n",
              "  "
            ]
          },
          "metadata": {},
          "execution_count": 10
        }
      ]
    },
    {
      "cell_type": "code",
      "source": [
        "inmuebles['Valor'][300]"
      ],
      "metadata": {
        "colab": {
          "base_uri": "https://localhost:8080/",
          "height": 35
        },
        "id": "Q9UOECqnZtUV",
        "outputId": "ec4aebbf-4e79-4990-b946-0ffe8034dc07"
      },
      "execution_count": null,
      "outputs": [
        {
          "output_type": "execute_result",
          "data": {
            "text/plain": [
              "'$ 116.100.000'"
            ],
            "application/vnd.google.colaboratory.intrinsic+json": {
              "type": "string"
            }
          },
          "metadata": {},
          "execution_count": 11
        }
      ]
    },
    {
      "cell_type": "code",
      "source": [
        "inmuebles['Valor'][300:306]"
      ],
      "metadata": {
        "colab": {
          "base_uri": "https://localhost:8080/"
        },
        "id": "peLmN_LSZ8Vh",
        "outputId": "55929225-5a3f-4d2d-e124-b298fd31aea9"
      },
      "execution_count": null,
      "outputs": [
        {
          "output_type": "execute_result",
          "data": {
            "text/plain": [
              "300    $ 116.100.000\n",
              "301    $ 980.000.000\n",
              "302    $ 237.000.000\n",
              "303    $ 320.000.000\n",
              "304    $ 530.000.000\n",
              "305    $ 503.000.000\n",
              "Name: Valor, dtype: object"
            ]
          },
          "metadata": {},
          "execution_count": 12
        }
      ]
    },
    {
      "cell_type": "code",
      "source": [
        "type(inmuebles['Valor'][300:306])"
      ],
      "metadata": {
        "colab": {
          "base_uri": "https://localhost:8080/"
        },
        "id": "LhvEZcVUaFI0",
        "outputId": "1e4a6b89-00e1-4882-c804-6093f88f3c77"
      },
      "execution_count": null,
      "outputs": [
        {
          "output_type": "execute_result",
          "data": {
            "text/plain": [
              "pandas.core.series.Series"
            ]
          },
          "metadata": {},
          "execution_count": 13
        }
      ]
    },
    {
      "cell_type": "code",
      "source": [
        "inmuebles.columns"
      ],
      "metadata": {
        "colab": {
          "base_uri": "https://localhost:8080/"
        },
        "id": "FeeV5i_saLQ7",
        "outputId": "fb5699c4-f91e-45fc-8e24-07529974fb69"
      },
      "execution_count": null,
      "outputs": [
        {
          "output_type": "execute_result",
          "data": {
            "text/plain": [
              "Index(['Tipo', 'Descripcion', 'Habitaciones', 'Banos', 'Area', 'Barrio', 'UPZ',\n",
              "       'Valor'],\n",
              "      dtype='object')"
            ]
          },
          "metadata": {},
          "execution_count": 14
        }
      ]
    },
    {
      "cell_type": "code",
      "source": [
        "inmuebles['Area'].mean()"
      ],
      "metadata": {
        "colab": {
          "base_uri": "https://localhost:8080/"
        },
        "id": "xpwQQMGeaSRK",
        "outputId": "2bf0b4f4-dfb9-4996-bf81-0e58b67e63f0"
      },
      "execution_count": null,
      "outputs": [
        {
          "output_type": "execute_result",
          "data": {
            "text/plain": [
              "146.66470588235293"
            ]
          },
          "metadata": {},
          "execution_count": 15
        }
      ]
    },
    {
      "cell_type": "code",
      "source": [
        "print(inmuebles.sample(100))"
      ],
      "metadata": {
        "colab": {
          "base_uri": "https://localhost:8080/"
        },
        "id": "WtgtYb33aine",
        "outputId": "4e39d9bf-069e-4c46-ba80-d49a03112be7"
      },
      "execution_count": null,
      "outputs": [
        {
          "output_type": "stream",
          "name": "stdout",
          "text": [
            "             Tipo                              Descripcion  Habitaciones  \\\n",
            "5065  Apartamento  Apartamento en venta en Chico Reservado             2   \n",
            "7746         Casa          Casa en venta en Barrios Unidos             5   \n",
            "6985  Apartamento       Apartamento en venta en La Calleja             1   \n",
            "5446  Apartamento     Apartamento en venta en Los Mártires             2   \n",
            "9323  Apartamento          Apartamento en venta en Usaquén             2   \n",
            "...           ...                                      ...           ...   \n",
            "3528  Apartamento         Apartamento en venta en Engativa             3   \n",
            "2196  Apartamento          Apartamento en venta en Usaquén             1   \n",
            "688          Casa                    Casa en venta en Bosa             3   \n",
            "1122  Apartamento         Apartamento en venta en Cedritos             3   \n",
            "5824  Apartamento          Apartamento en venta en Kennedy             3   \n",
            "\n",
            "      Banos  Area           Barrio                                    UPZ  \\\n",
            "5065      3   105  Chico Reservado     CHAPINERO: Chicó Lago + El Refugio   \n",
            "7746      4   140   Barrios Unidos                              Los Andes   \n",
            "6985      2    70       La Calleja  USAQUÉN: Country Club + Santa Bárbara   \n",
            "5446      1    37     Los Mártires                              La Sabana   \n",
            "9323      2    93          Usaquén                                Usaquén   \n",
            "...     ...   ...              ...                                    ...   \n",
            "3528      2    60         Engativa                               Engativá   \n",
            "2196      1    42          Usaquén                                Usaquén   \n",
            "688       1    48             Bosa                           Bosa Central   \n",
            "1122      2    80         Cedritos                                Usaquén   \n",
            "5824      1    42          Kennedy                        Kennedy Central   \n",
            "\n",
            "              Valor  \n",
            "5065  $ 790.000.000  \n",
            "7746  $ 650.000.000  \n",
            "6985  $ 474.000.000  \n",
            "5446  $ 188.000.000  \n",
            "9323  $ 840.000.000  \n",
            "...             ...  \n",
            "3528  $ 245.000.000  \n",
            "2196  $ 350.000.000  \n",
            "688   $ 160.000.000  \n",
            "1122  $ 348.000.000  \n",
            "5824  $ 170.000.000  \n",
            "\n",
            "[100 rows x 8 columns]\n"
          ]
        }
      ]
    },
    {
      "cell_type": "code",
      "source": [
        "inmuebles_barrio = inmuebles[inmuebles['Barrio'] == 'Chico Reservado']\n",
        "print(inmuebles_barrio)"
      ],
      "metadata": {
        "colab": {
          "base_uri": "https://localhost:8080/"
        },
        "id": "o3IUpHZmars1",
        "outputId": "6a3b83c5-79f3-4147-e77e-4539f26104d0"
      },
      "execution_count": null,
      "outputs": [
        {
          "output_type": "stream",
          "name": "stdout",
          "text": [
            "             Tipo                              Descripcion  Habitaciones  \\\n",
            "2     Apartamento  Apartamento en venta en Chico Reservado             3   \n",
            "39    Apartamento  Apartamento en venta en Chico Reservado             1   \n",
            "72    Apartamento  Apartamento en venta en Chico Reservado             1   \n",
            "126   Apartamento  Apartamento en venta en Chico Reservado             3   \n",
            "143   Apartamento  Apartamento en venta en Chico Reservado             2   \n",
            "...           ...                                      ...           ...   \n",
            "9299  Apartamento  Apartamento en venta en Chico Reservado             3   \n",
            "9335  Apartamento  Apartamento en venta en Chico Reservado             3   \n",
            "9341  Apartamento  Apartamento en venta en Chico Reservado             2   \n",
            "9472  Apartamento  Apartamento en venta en Chico Reservado             3   \n",
            "9506  Apartamento  Apartamento en venta en Chico Reservado             3   \n",
            "\n",
            "      Banos  Area           Barrio                                 UPZ  \\\n",
            "2         3   144  Chico Reservado  CHAPINERO: Chicó Lago + El Refugio   \n",
            "39        1    64  Chico Reservado  CHAPINERO: Chicó Lago + El Refugio   \n",
            "72        1    64  Chico Reservado  CHAPINERO: Chicó Lago + El Refugio   \n",
            "126       4   150  Chico Reservado  CHAPINERO: Chicó Lago + El Refugio   \n",
            "143       4   104  Chico Reservado  CHAPINERO: Chicó Lago + El Refugio   \n",
            "...     ...   ...              ...                                 ...   \n",
            "9299      3   148  Chico Reservado  CHAPINERO: Chicó Lago + El Refugio   \n",
            "9335      3   176  Chico Reservado  CHAPINERO: Chicó Lago + El Refugio   \n",
            "9341      3   118  Chico Reservado  CHAPINERO: Chicó Lago + El Refugio   \n",
            "9472      1    49  Chico Reservado  CHAPINERO: Chicó Lago + El Refugio   \n",
            "9506      4   390  Chico Reservado  CHAPINERO: Chicó Lago + El Refugio   \n",
            "\n",
            "                Valor  \n",
            "2     $ 1.120.000.000  \n",
            "39      $ 495.000.000  \n",
            "72      $ 495.000.000  \n",
            "126   $ 1.300.000.000  \n",
            "143   $ 1.100.000.000  \n",
            "...               ...  \n",
            "9299    $ 780.000.000  \n",
            "9335    $ 850.000.000  \n",
            "9341    $ 700.000.000  \n",
            "9472    $ 200.000.000  \n",
            "9506  $ 3.200.000.000  \n",
            "\n",
            "[225 rows x 8 columns]\n"
          ]
        }
      ]
    },
    {
      "cell_type": "code",
      "source": [
        "inmuebles.Barrio == 'Chico Reservado'"
      ],
      "metadata": {
        "colab": {
          "base_uri": "https://localhost:8080/"
        },
        "id": "6QKzrPG7bQTW",
        "outputId": "d4e98586-4b0d-46dc-b782-5c2261cef050"
      },
      "execution_count": null,
      "outputs": [
        {
          "output_type": "execute_result",
          "data": {
            "text/plain": [
              "0       False\n",
              "1       False\n",
              "2        True\n",
              "3       False\n",
              "4       False\n",
              "        ...  \n",
              "9515    False\n",
              "9516    False\n",
              "9517    False\n",
              "9518    False\n",
              "9519    False\n",
              "Name: Barrio, Length: 9520, dtype: bool"
            ]
          },
          "metadata": {},
          "execution_count": 18
        }
      ]
    },
    {
      "cell_type": "code",
      "source": [
        "sum((inmuebles.Barrio == 'Chico Reservado'))"
      ],
      "metadata": {
        "colab": {
          "base_uri": "https://localhost:8080/"
        },
        "id": "0oWaCWwnblA_",
        "outputId": "28ab0eee-abb2-44ac-f409-3cd40a5981fb"
      },
      "execution_count": null,
      "outputs": [
        {
          "output_type": "execute_result",
          "data": {
            "text/plain": [
              "225"
            ]
          },
          "metadata": {},
          "execution_count": 19
        }
      ]
    },
    {
      "cell_type": "code",
      "source": [
        "inmuebles_barrio.count()"
      ],
      "metadata": {
        "colab": {
          "base_uri": "https://localhost:8080/"
        },
        "id": "ajaooi6RbzKM",
        "outputId": "6d3847ca-12e3-4776-9241-8e9b4d69c951"
      },
      "execution_count": null,
      "outputs": [
        {
          "output_type": "execute_result",
          "data": {
            "text/plain": [
              "Tipo            225\n",
              "Descripcion     225\n",
              "Habitaciones    225\n",
              "Banos           225\n",
              "Area            225\n",
              "Barrio          225\n",
              "UPZ             225\n",
              "Valor           225\n",
              "dtype: int64"
            ]
          },
          "metadata": {},
          "execution_count": 20
        }
      ]
    },
    {
      "cell_type": "code",
      "source": [
        "inmuebles_chico = (inmuebles.Barrio == 'Chico Reservado')\n",
        "inmuebles_chico"
      ],
      "metadata": {
        "colab": {
          "base_uri": "https://localhost:8080/"
        },
        "id": "fKFLENhib5tC",
        "outputId": "b7957b1d-7d6d-4506-e4cd-f46c931a54c3"
      },
      "execution_count": null,
      "outputs": [
        {
          "output_type": "execute_result",
          "data": {
            "text/plain": [
              "0       False\n",
              "1       False\n",
              "2        True\n",
              "3       False\n",
              "4       False\n",
              "        ...  \n",
              "9515    False\n",
              "9516    False\n",
              "9517    False\n",
              "9518    False\n",
              "9519    False\n",
              "Name: Barrio, Length: 9520, dtype: bool"
            ]
          },
          "metadata": {},
          "execution_count": 21
        }
      ]
    },
    {
      "cell_type": "code",
      "source": [
        "chico_resv = inmuebles[inmuebles_chico]\n",
        "chico_resv"
      ],
      "metadata": {
        "colab": {
          "base_uri": "https://localhost:8080/",
          "height": 641
        },
        "id": "mz7IKtOKcP1v",
        "outputId": "18b8e536-7775-4008-c4c0-249cc4eda342"
      },
      "execution_count": null,
      "outputs": [
        {
          "output_type": "execute_result",
          "data": {
            "text/plain": [
              "             Tipo                              Descripcion  Habitaciones  \\\n",
              "2     Apartamento  Apartamento en venta en Chico Reservado             3   \n",
              "39    Apartamento  Apartamento en venta en Chico Reservado             1   \n",
              "72    Apartamento  Apartamento en venta en Chico Reservado             1   \n",
              "126   Apartamento  Apartamento en venta en Chico Reservado             3   \n",
              "143   Apartamento  Apartamento en venta en Chico Reservado             2   \n",
              "...           ...                                      ...           ...   \n",
              "9299  Apartamento  Apartamento en venta en Chico Reservado             3   \n",
              "9335  Apartamento  Apartamento en venta en Chico Reservado             3   \n",
              "9341  Apartamento  Apartamento en venta en Chico Reservado             2   \n",
              "9472  Apartamento  Apartamento en venta en Chico Reservado             3   \n",
              "9506  Apartamento  Apartamento en venta en Chico Reservado             3   \n",
              "\n",
              "      Banos  Area           Barrio                                 UPZ  \\\n",
              "2         3   144  Chico Reservado  CHAPINERO: Chicó Lago + El Refugio   \n",
              "39        1    64  Chico Reservado  CHAPINERO: Chicó Lago + El Refugio   \n",
              "72        1    64  Chico Reservado  CHAPINERO: Chicó Lago + El Refugio   \n",
              "126       4   150  Chico Reservado  CHAPINERO: Chicó Lago + El Refugio   \n",
              "143       4   104  Chico Reservado  CHAPINERO: Chicó Lago + El Refugio   \n",
              "...     ...   ...              ...                                 ...   \n",
              "9299      3   148  Chico Reservado  CHAPINERO: Chicó Lago + El Refugio   \n",
              "9335      3   176  Chico Reservado  CHAPINERO: Chicó Lago + El Refugio   \n",
              "9341      3   118  Chico Reservado  CHAPINERO: Chicó Lago + El Refugio   \n",
              "9472      1    49  Chico Reservado  CHAPINERO: Chicó Lago + El Refugio   \n",
              "9506      4   390  Chico Reservado  CHAPINERO: Chicó Lago + El Refugio   \n",
              "\n",
              "                Valor  \n",
              "2     $ 1.120.000.000  \n",
              "39      $ 495.000.000  \n",
              "72      $ 495.000.000  \n",
              "126   $ 1.300.000.000  \n",
              "143   $ 1.100.000.000  \n",
              "...               ...  \n",
              "9299    $ 780.000.000  \n",
              "9335    $ 850.000.000  \n",
              "9341    $ 700.000.000  \n",
              "9472    $ 200.000.000  \n",
              "9506  $ 3.200.000.000  \n",
              "\n",
              "[225 rows x 8 columns]"
            ],
            "text/html": [
              "\n",
              "  <div id=\"df-3b834bbc-3a67-4f23-86fb-ce1154eeabcf\">\n",
              "    <div class=\"colab-df-container\">\n",
              "      <div>\n",
              "<style scoped>\n",
              "    .dataframe tbody tr th:only-of-type {\n",
              "        vertical-align: middle;\n",
              "    }\n",
              "\n",
              "    .dataframe tbody tr th {\n",
              "        vertical-align: top;\n",
              "    }\n",
              "\n",
              "    .dataframe thead th {\n",
              "        text-align: right;\n",
              "    }\n",
              "</style>\n",
              "<table border=\"1\" class=\"dataframe\">\n",
              "  <thead>\n",
              "    <tr style=\"text-align: right;\">\n",
              "      <th></th>\n",
              "      <th>Tipo</th>\n",
              "      <th>Descripcion</th>\n",
              "      <th>Habitaciones</th>\n",
              "      <th>Banos</th>\n",
              "      <th>Area</th>\n",
              "      <th>Barrio</th>\n",
              "      <th>UPZ</th>\n",
              "      <th>Valor</th>\n",
              "    </tr>\n",
              "  </thead>\n",
              "  <tbody>\n",
              "    <tr>\n",
              "      <th>2</th>\n",
              "      <td>Apartamento</td>\n",
              "      <td>Apartamento en venta en Chico Reservado</td>\n",
              "      <td>3</td>\n",
              "      <td>3</td>\n",
              "      <td>144</td>\n",
              "      <td>Chico Reservado</td>\n",
              "      <td>CHAPINERO: Chicó Lago + El Refugio</td>\n",
              "      <td>$ 1.120.000.000</td>\n",
              "    </tr>\n",
              "    <tr>\n",
              "      <th>39</th>\n",
              "      <td>Apartamento</td>\n",
              "      <td>Apartamento en venta en Chico Reservado</td>\n",
              "      <td>1</td>\n",
              "      <td>1</td>\n",
              "      <td>64</td>\n",
              "      <td>Chico Reservado</td>\n",
              "      <td>CHAPINERO: Chicó Lago + El Refugio</td>\n",
              "      <td>$ 495.000.000</td>\n",
              "    </tr>\n",
              "    <tr>\n",
              "      <th>72</th>\n",
              "      <td>Apartamento</td>\n",
              "      <td>Apartamento en venta en Chico Reservado</td>\n",
              "      <td>1</td>\n",
              "      <td>1</td>\n",
              "      <td>64</td>\n",
              "      <td>Chico Reservado</td>\n",
              "      <td>CHAPINERO: Chicó Lago + El Refugio</td>\n",
              "      <td>$ 495.000.000</td>\n",
              "    </tr>\n",
              "    <tr>\n",
              "      <th>126</th>\n",
              "      <td>Apartamento</td>\n",
              "      <td>Apartamento en venta en Chico Reservado</td>\n",
              "      <td>3</td>\n",
              "      <td>4</td>\n",
              "      <td>150</td>\n",
              "      <td>Chico Reservado</td>\n",
              "      <td>CHAPINERO: Chicó Lago + El Refugio</td>\n",
              "      <td>$ 1.300.000.000</td>\n",
              "    </tr>\n",
              "    <tr>\n",
              "      <th>143</th>\n",
              "      <td>Apartamento</td>\n",
              "      <td>Apartamento en venta en Chico Reservado</td>\n",
              "      <td>2</td>\n",
              "      <td>4</td>\n",
              "      <td>104</td>\n",
              "      <td>Chico Reservado</td>\n",
              "      <td>CHAPINERO: Chicó Lago + El Refugio</td>\n",
              "      <td>$ 1.100.000.000</td>\n",
              "    </tr>\n",
              "    <tr>\n",
              "      <th>...</th>\n",
              "      <td>...</td>\n",
              "      <td>...</td>\n",
              "      <td>...</td>\n",
              "      <td>...</td>\n",
              "      <td>...</td>\n",
              "      <td>...</td>\n",
              "      <td>...</td>\n",
              "      <td>...</td>\n",
              "    </tr>\n",
              "    <tr>\n",
              "      <th>9299</th>\n",
              "      <td>Apartamento</td>\n",
              "      <td>Apartamento en venta en Chico Reservado</td>\n",
              "      <td>3</td>\n",
              "      <td>3</td>\n",
              "      <td>148</td>\n",
              "      <td>Chico Reservado</td>\n",
              "      <td>CHAPINERO: Chicó Lago + El Refugio</td>\n",
              "      <td>$ 780.000.000</td>\n",
              "    </tr>\n",
              "    <tr>\n",
              "      <th>9335</th>\n",
              "      <td>Apartamento</td>\n",
              "      <td>Apartamento en venta en Chico Reservado</td>\n",
              "      <td>3</td>\n",
              "      <td>3</td>\n",
              "      <td>176</td>\n",
              "      <td>Chico Reservado</td>\n",
              "      <td>CHAPINERO: Chicó Lago + El Refugio</td>\n",
              "      <td>$ 850.000.000</td>\n",
              "    </tr>\n",
              "    <tr>\n",
              "      <th>9341</th>\n",
              "      <td>Apartamento</td>\n",
              "      <td>Apartamento en venta en Chico Reservado</td>\n",
              "      <td>2</td>\n",
              "      <td>3</td>\n",
              "      <td>118</td>\n",
              "      <td>Chico Reservado</td>\n",
              "      <td>CHAPINERO: Chicó Lago + El Refugio</td>\n",
              "      <td>$ 700.000.000</td>\n",
              "    </tr>\n",
              "    <tr>\n",
              "      <th>9472</th>\n",
              "      <td>Apartamento</td>\n",
              "      <td>Apartamento en venta en Chico Reservado</td>\n",
              "      <td>3</td>\n",
              "      <td>1</td>\n",
              "      <td>49</td>\n",
              "      <td>Chico Reservado</td>\n",
              "      <td>CHAPINERO: Chicó Lago + El Refugio</td>\n",
              "      <td>$ 200.000.000</td>\n",
              "    </tr>\n",
              "    <tr>\n",
              "      <th>9506</th>\n",
              "      <td>Apartamento</td>\n",
              "      <td>Apartamento en venta en Chico Reservado</td>\n",
              "      <td>3</td>\n",
              "      <td>4</td>\n",
              "      <td>390</td>\n",
              "      <td>Chico Reservado</td>\n",
              "      <td>CHAPINERO: Chicó Lago + El Refugio</td>\n",
              "      <td>$ 3.200.000.000</td>\n",
              "    </tr>\n",
              "  </tbody>\n",
              "</table>\n",
              "<p>225 rows × 8 columns</p>\n",
              "</div>\n",
              "      <button class=\"colab-df-convert\" onclick=\"convertToInteractive('df-3b834bbc-3a67-4f23-86fb-ce1154eeabcf')\"\n",
              "              title=\"Convert this dataframe to an interactive table.\"\n",
              "              style=\"display:none;\">\n",
              "        \n",
              "  <svg xmlns=\"http://www.w3.org/2000/svg\" height=\"24px\"viewBox=\"0 0 24 24\"\n",
              "       width=\"24px\">\n",
              "    <path d=\"M0 0h24v24H0V0z\" fill=\"none\"/>\n",
              "    <path d=\"M18.56 5.44l.94 2.06.94-2.06 2.06-.94-2.06-.94-.94-2.06-.94 2.06-2.06.94zm-11 1L8.5 8.5l.94-2.06 2.06-.94-2.06-.94L8.5 2.5l-.94 2.06-2.06.94zm10 10l.94 2.06.94-2.06 2.06-.94-2.06-.94-.94-2.06-.94 2.06-2.06.94z\"/><path d=\"M17.41 7.96l-1.37-1.37c-.4-.4-.92-.59-1.43-.59-.52 0-1.04.2-1.43.59L10.3 9.45l-7.72 7.72c-.78.78-.78 2.05 0 2.83L4 21.41c.39.39.9.59 1.41.59.51 0 1.02-.2 1.41-.59l7.78-7.78 2.81-2.81c.8-.78.8-2.07 0-2.86zM5.41 20L4 18.59l7.72-7.72 1.47 1.35L5.41 20z\"/>\n",
              "  </svg>\n",
              "      </button>\n",
              "      \n",
              "  <style>\n",
              "    .colab-df-container {\n",
              "      display:flex;\n",
              "      flex-wrap:wrap;\n",
              "      gap: 12px;\n",
              "    }\n",
              "\n",
              "    .colab-df-convert {\n",
              "      background-color: #E8F0FE;\n",
              "      border: none;\n",
              "      border-radius: 50%;\n",
              "      cursor: pointer;\n",
              "      display: none;\n",
              "      fill: #1967D2;\n",
              "      height: 32px;\n",
              "      padding: 0 0 0 0;\n",
              "      width: 32px;\n",
              "    }\n",
              "\n",
              "    .colab-df-convert:hover {\n",
              "      background-color: #E2EBFA;\n",
              "      box-shadow: 0px 1px 2px rgba(60, 64, 67, 0.3), 0px 1px 3px 1px rgba(60, 64, 67, 0.15);\n",
              "      fill: #174EA6;\n",
              "    }\n",
              "\n",
              "    [theme=dark] .colab-df-convert {\n",
              "      background-color: #3B4455;\n",
              "      fill: #D2E3FC;\n",
              "    }\n",
              "\n",
              "    [theme=dark] .colab-df-convert:hover {\n",
              "      background-color: #434B5C;\n",
              "      box-shadow: 0px 1px 3px 1px rgba(0, 0, 0, 0.15);\n",
              "      filter: drop-shadow(0px 1px 2px rgba(0, 0, 0, 0.3));\n",
              "      fill: #FFFFFF;\n",
              "    }\n",
              "  </style>\n",
              "\n",
              "      <script>\n",
              "        const buttonEl =\n",
              "          document.querySelector('#df-3b834bbc-3a67-4f23-86fb-ce1154eeabcf button.colab-df-convert');\n",
              "        buttonEl.style.display =\n",
              "          google.colab.kernel.accessAllowed ? 'block' : 'none';\n",
              "\n",
              "        async function convertToInteractive(key) {\n",
              "          const element = document.querySelector('#df-3b834bbc-3a67-4f23-86fb-ce1154eeabcf');\n",
              "          const dataTable =\n",
              "            await google.colab.kernel.invokeFunction('convertToInteractive',\n",
              "                                                     [key], {});\n",
              "          if (!dataTable) return;\n",
              "\n",
              "          const docLinkHtml = 'Like what you see? Visit the ' +\n",
              "            '<a target=\"_blank\" href=https://colab.research.google.com/notebooks/data_table.ipynb>data table notebook</a>'\n",
              "            + ' to learn more about interactive tables.';\n",
              "          element.innerHTML = '';\n",
              "          dataTable['output_type'] = 'display_data';\n",
              "          await google.colab.output.renderOutput(dataTable, element);\n",
              "          const docLink = document.createElement('div');\n",
              "          docLink.innerHTML = docLinkHtml;\n",
              "          element.appendChild(docLink);\n",
              "        }\n",
              "      </script>\n",
              "    </div>\n",
              "  </div>\n",
              "  "
            ]
          },
          "metadata": {},
          "execution_count": 22
        }
      ]
    },
    {
      "cell_type": "code",
      "source": [
        "chico_resv['Area'].mean()"
      ],
      "metadata": {
        "colab": {
          "base_uri": "https://localhost:8080/"
        },
        "id": "4daxvKODcfvr",
        "outputId": "8c98cf22-655c-4b0f-945f-d985ecfcc3b4"
      },
      "execution_count": null,
      "outputs": [
        {
          "output_type": "execute_result",
          "data": {
            "text/plain": [
              "142.78666666666666"
            ]
          },
          "metadata": {},
          "execution_count": 23
        }
      ]
    },
    {
      "cell_type": "code",
      "source": [
        "inmuebles.Area.mean()"
      ],
      "metadata": {
        "colab": {
          "base_uri": "https://localhost:8080/"
        },
        "id": "3-DdO4-IdHE4",
        "outputId": "ee92f595-899d-44d4-adbd-38a403745089"
      },
      "execution_count": null,
      "outputs": [
        {
          "output_type": "execute_result",
          "data": {
            "text/plain": [
              "146.66470588235293"
            ]
          },
          "metadata": {},
          "execution_count": 24
        }
      ]
    },
    {
      "cell_type": "code",
      "source": [
        "len(inmuebles.Barrio.value_counts())"
      ],
      "metadata": {
        "colab": {
          "base_uri": "https://localhost:8080/"
        },
        "id": "U63PCkondTaD",
        "outputId": "03291cc7-6631-4606-9fc8-cbe8a37b9820"
      },
      "execution_count": null,
      "outputs": [
        {
          "output_type": "execute_result",
          "data": {
            "text/plain": [
              "149"
            ]
          },
          "metadata": {},
          "execution_count": 25
        }
      ]
    },
    {
      "cell_type": "code",
      "source": [
        "inmuebles.Barrio.value_counts()"
      ],
      "metadata": {
        "colab": {
          "base_uri": "https://localhost:8080/"
        },
        "id": "_sJdMD9Jdnq1",
        "outputId": "a8deb185-166f-4f3a-e9af-0578ac49148e"
      },
      "execution_count": null,
      "outputs": [
        {
          "output_type": "execute_result",
          "data": {
            "text/plain": [
              "Usaquén               1105\n",
              "Zona Noroccidental     877\n",
              "Bosa                   589\n",
              "Kennedy                589\n",
              "Cedritos               554\n",
              "                      ... \n",
              "Colinas De Suba          1\n",
              "La Estanzuela            1\n",
              "Roma                     1\n",
              "Alameda                  1\n",
              "Prado Veraniego          1\n",
              "Name: Barrio, Length: 149, dtype: int64"
            ]
          },
          "metadata": {},
          "execution_count": 26
        }
      ]
    },
    {
      "cell_type": "code",
      "source": [
        "len(inmuebles.UPZ.value_counts())"
      ],
      "metadata": {
        "colab": {
          "base_uri": "https://localhost:8080/"
        },
        "id": "_Q5NZBkldsFS",
        "outputId": "f03eae09-ca8e-4d4f-ec9c-a9bcd0275d8f"
      },
      "execution_count": null,
      "outputs": [
        {
          "output_type": "execute_result",
          "data": {
            "text/plain": [
              "63"
            ]
          },
          "metadata": {},
          "execution_count": 27
        }
      ]
    },
    {
      "cell_type": "code",
      "source": [
        "inmuebles_barrio = inmuebles.Barrio.value_counts()\n",
        "inmuebles_barrio.plot.bar()"
      ],
      "metadata": {
        "colab": {
          "base_uri": "https://localhost:8080/",
          "height": 595
        },
        "id": "AYlYAO49d3AJ",
        "outputId": "412a513c-6dc7-4579-a53a-73e6f2e30b26"
      },
      "execution_count": null,
      "outputs": [
        {
          "output_type": "execute_result",
          "data": {
            "text/plain": [
              "<Axes: >"
            ]
          },
          "metadata": {},
          "execution_count": 28
        },
        {
          "output_type": "display_data",
          "data": {
            "text/plain": [
              "<Figure size 640x480 with 1 Axes>"
            ],
            "image/png": "[encoded data removed]"
          },
          "metadata": {}
        }
      ]
    },
    {
      "cell_type": "code",
      "source": [
        "inmuebles_barrio.head(10).plot.bar()"
      ],
      "metadata": {
        "colab": {
          "base_uri": "https://localhost:8080/",
          "height": 570
        },
        "id": "2PbhKINBew87",
        "outputId": "1197f8fd-e3bc-41b0-da13-6b303ba8f6ec"
      },
      "execution_count": null,
      "outputs": [
        {
          "output_type": "execute_result",
          "data": {
            "text/plain": [
              "<Axes: >"
            ]
          },
          "metadata": {},
          "execution_count": 29
        },
        {
          "output_type": "display_data",
          "data": {
            "text/plain": [
              "<Figure size 640x480 with 1 Axes>"
            ],
            "image/png": "[encoded data removed]"
          },
          "metadata": {}
        }
      ]
    },
    {
      "cell_type": "markdown",
      "source": [
        "Tarea\n",
        "\n",
        "1.   Calcular promedio de área de todos los barrios y realizar gráfico del top10 de estos promedios\n",
        "2.   Tomar otros datos estadísticos, conteo, mediana, valores inimo y maximo\n",
        "\n"
      ],
      "metadata": {
        "id": "6bWF-zRtf68_"
      }
    },
    {
      "cell_type": "code",
      "source": [
        "barrio_area = inmuebles.groupby('Barrio')['Area'].mean()\n",
        "barrio_avg_area = barrio_area.sort_values(ascending=False)\n",
        "barrio_avg_area.head(10).plot.bar()\n"
      ],
      "metadata": {
        "colab": {
          "base_uri": "https://localhost:8080/",
          "height": 600
        },
        "id": "2KvJ-_tkfA3I",
        "outputId": "6da12f5f-da0b-4eb5-af86-dbbc577aa1aa"
      },
      "execution_count": null,
      "outputs": [
        {
          "output_type": "execute_result",
          "data": {
            "text/plain": [
              "<Axes: xlabel='Barrio'>"
            ]
          },
          "metadata": {},
          "execution_count": 30
        },
        {
          "output_type": "display_data",
          "data": {
            "text/plain": [
              "<Figure size 640x480 with 1 Axes>"
            ],
            "image/png": "[encoded data removed]"
          },
          "metadata": {}
        }
      ]
    },
    {
      "cell_type": "code",
      "source": [
        "inmuebles_modelia = inmuebles.Barrio == 'Modelia'\n",
        "inmuebles_modelia"
      ],
      "metadata": {
        "colab": {
          "base_uri": "https://localhost:8080/"
        },
        "id": "mzUfHQwsiePW",
        "outputId": "6fdafc1a-6cdf-4054-c98a-24d228b6c5f7"
      },
      "execution_count": null,
      "outputs": [
        {
          "output_type": "execute_result",
          "data": {
            "text/plain": [
              "0       False\n",
              "1       False\n",
              "2       False\n",
              "3       False\n",
              "4       False\n",
              "        ...  \n",
              "9515    False\n",
              "9516    False\n",
              "9517    False\n",
              "9518    False\n",
              "9519    False\n",
              "Name: Barrio, Length: 9520, dtype: bool"
            ]
          },
          "metadata": {},
          "execution_count": 31
        }
      ]
    },
    {
      "cell_type": "code",
      "source": [
        "modelia = inmuebles[inmuebles_modelia]\n",
        "modelia"
      ],
      "metadata": {
        "colab": {
          "base_uri": "https://localhost:8080/",
          "height": 1000
        },
        "id": "G-od1a_GkTqe",
        "outputId": "6e7a09ae-dfce-41b3-ae91-e7a4d036845c"
      },
      "execution_count": null,
      "outputs": [
        {
          "output_type": "execute_result",
          "data": {
            "text/plain": [
              "             Tipo                      Descripcion  Habitaciones  Banos  \\\n",
              "145          Casa         Casa en venta en Modelia             4      2   \n",
              "1283         Casa         Casa en venta en Modelia             8      4   \n",
              "1295  Apartamento  Apartamento en venta en Modelia             2      2   \n",
              "1363  Apartamento  Apartamento en venta en Modelia             3      2   \n",
              "1416  Apartamento  Apartamento en venta en Modelia             3      2   \n",
              "1665         Casa         Casa en venta en Modelia             3      2   \n",
              "2147         Casa         Casa en venta en Modelia             5      4   \n",
              "2160  Apartamento  Apartamento en venta en Modelia             3      2   \n",
              "2257         Casa         Casa en venta en Modelia             5      4   \n",
              "3092  Apartamento  Apartamento en venta en Modelia             3      3   \n",
              "3164  Apartamento  Apartamento en venta en Modelia             3      3   \n",
              "4138  Apartamento  Apartamento en venta en Modelia             3      3   \n",
              "4201  Apartamento  Apartamento en venta en Modelia             3      3   \n",
              "4513  Apartamento  Apartamento en venta en Modelia             3      2   \n",
              "4577  Apartamento  Apartamento en venta en Modelia             3      2   \n",
              "4913         Casa         Casa en venta en Modelia             5      4   \n",
              "4914         Casa         Casa en venta en Modelia             5      4   \n",
              "5059         Casa         Casa en venta en Modelia             7      6   \n",
              "5584  Apartamento  Apartamento en venta en Modelia             2      1   \n",
              "5666  Apartamento  Apartamento en venta en Modelia             3      3   \n",
              "6315         Casa         Casa en venta en Modelia             4      3   \n",
              "6525  Apartamento  Apartamento en venta en Modelia             2      1   \n",
              "6619         Casa         Casa en venta en Modelia             4      3   \n",
              "6708         Casa         Casa en venta en Modelia             3      2   \n",
              "6786         Casa         Casa en venta en Modelia             3      2   \n",
              "6869         Casa         Casa en venta en Modelia             3      2   \n",
              "6933         Casa         Casa en venta en Modelia             3      3   \n",
              "7028  Apartamento  Apartamento en venta en Modelia             3      3   \n",
              "7073         Casa         Casa en venta en Modelia             4      3   \n",
              "7881  Apartamento  Apartamento en venta en Modelia             3      3   \n",
              "7908         Casa         Casa en venta en Modelia             3      3   \n",
              "7996  Apartamento  Apartamento en venta en Modelia             4      3   \n",
              "8256         Casa         Casa en venta en Modelia             4      4   \n",
              "8377  Apartamento  Apartamento en venta en Modelia             4      3   \n",
              "8562         Casa         Casa en venta en Modelia             5      4   \n",
              "8899  Apartamento  Apartamento en venta en Modelia             3      2   \n",
              "8989         Casa         Casa en venta en Modelia             4      2   \n",
              "9012  Apartamento  Apartamento en venta en Modelia             3      2   \n",
              "9122         Casa         Casa en venta en Modelia             4      2   \n",
              "9326         Casa         Casa en venta en Modelia             5      3   \n",
              "\n",
              "        Area   Barrio       UPZ            Valor  \n",
              "145      200  Modelia  Fontibón    $ 860.000.000  \n",
              "1283     236  Modelia  Fontibón  $ 1.120.000.000  \n",
              "1295      48  Modelia  Fontibón    $ 330.000.000  \n",
              "1363      53  Modelia  Fontibón    $ 287.000.000  \n",
              "1416      87  Modelia  Fontibón    $ 499.990.000  \n",
              "1665     106  Modelia  Fontibón    $ 470.000.000  \n",
              "2147     320  Modelia  Fontibón    $ 750.000.000  \n",
              "2160      78  Modelia  Fontibón    $ 620.000.000  \n",
              "2257     244  Modelia  Fontibón    $ 950.000.000  \n",
              "3092     108  Modelia  Fontibón    $ 670.000.000  \n",
              "3164     108  Modelia  Fontibón    $ 670.000.000  \n",
              "4138      88  Modelia  Fontibón    $ 370.000.000  \n",
              "4201      88  Modelia  Fontibón    $ 370.000.000  \n",
              "4513      78  Modelia  Fontibón    $ 650.000.000  \n",
              "4577      78  Modelia  Fontibón    $ 620.000.000  \n",
              "4913     320  Modelia  Fontibón    $ 750.000.000  \n",
              "4914     320  Modelia  Fontibón    $ 750.000.000  \n",
              "5059     287  Modelia  Fontibón    $ 750.000.000  \n",
              "5584      60  Modelia  Fontibón    $ 260.000.000  \n",
              "5666     108  Modelia  Fontibón    $ 670.000.000  \n",
              "6315     209  Modelia  Fontibón    $ 850.000.000  \n",
              "6525      60  Modelia  Fontibón    $ 260.000.000  \n",
              "6619     209  Modelia  Fontibón    $ 850.000.000  \n",
              "6708     181  Modelia  Fontibón    $ 990.000.000  \n",
              "6786     181  Modelia  Fontibón    $ 990.000.000  \n",
              "6869     181  Modelia  Fontibón    $ 990.000.000  \n",
              "6933     220  Modelia  Fontibón    $ 950.000.000  \n",
              "7028     130  Modelia  Fontibón    $ 620.000.000  \n",
              "7073  166243  Modelia  Fontibón    $ 850.000.000  \n",
              "7881      92  Modelia  Fontibón    $ 610.000.000  \n",
              "7908     275  Modelia  Fontibón    $ 850.000.000  \n",
              "7996     120  Modelia  Fontibón    $ 700.000.000  \n",
              "8256     212  Modelia  Fontibón  $ 1.200.000.000  \n",
              "8377     112  Modelia  Fontibón    $ 560.000.000  \n",
              "8562     400  Modelia  Fontibón    $ 950.000.000  \n",
              "8899      70  Modelia  Fontibón    $ 445.900.000  \n",
              "8989     210  Modelia  Fontibón    $ 795.000.000  \n",
              "9012      70  Modelia  Fontibón    $ 445.900.000  \n",
              "9122     210  Modelia  Fontibón    $ 795.000.000  \n",
              "9326     270  Modelia  Fontibón  $ 1.100.000.000  "
            ],
            "text/html": [
              "\n",
              "  <div id=\"df-6814bc20-0fcd-4583-83a0-dd265f17fda4\">\n",
              "    <div class=\"colab-df-container\">\n",
              "      <div>\n",
              "<style scoped>\n",
              "    .dataframe tbody tr th:only-of-type {\n",
              "        vertical-align: middle;\n",
              "    }\n",
              "\n",
              "    .dataframe tbody tr th {\n",
              "        vertical-align: top;\n",
              "    }\n",
              "\n",
              "    .dataframe thead th {\n",
              "        text-align: right;\n",
              "    }\n",
              "</style>\n",
              "<table border=\"1\" class=\"dataframe\">\n",
              "  <thead>\n",
              "    <tr style=\"text-align: right;\">\n",
              "      <th></th>\n",
              "      <th>Tipo</th>\n",
              "      <th>Descripcion</th>\n",
              "      <th>Habitaciones</th>\n",
              "      <th>Banos</th>\n",
              "      <th>Area</th>\n",
              "      <th>Barrio</th>\n",
              "      <th>UPZ</th>\n",
              "      <th>Valor</th>\n",
              "    </tr>\n",
              "  </thead>\n",
              "  <tbody>\n",
              "    <tr>\n",
              "      <th>145</th>\n",
              "      <td>Casa</td>\n",
              "      <td>Casa en venta en Modelia</td>\n",
              "      <td>4</td>\n",
              "      <td>2</td>\n",
              "      <td>200</td>\n",
              "      <td>Modelia</td>\n",
              "      <td>Fontibón</td>\n",
              "      <td>$ 860.000.000</td>\n",
              "    </tr>\n",
              "    <tr>\n",
              "      <th>1283</th>\n",
              "      <td>Casa</td>\n",
              "      <td>Casa en venta en Modelia</td>\n",
              "      <td>8</td>\n",
              "      <td>4</td>\n",
              "      <td>236</td>\n",
              "      <td>Modelia</td>\n",
              "      <td>Fontibón</td>\n",
              "      <td>$ 1.120.000.000</td>\n",
              "    </tr>\n",
              "    <tr>\n",
              "      <th>1295</th>\n",
              "      <td>Apartamento</td>\n",
              "      <td>Apartamento en venta en Modelia</td>\n",
              "      <td>2</td>\n",
              "      <td>2</td>\n",
              "      <td>48</td>\n",
              "      <td>Modelia</td>\n",
              "      <td>Fontibón</td>\n",
              "      <td>$ 330.000.000</td>\n",
              "    </tr>\n",
              "    <tr>\n",
              "      <th>1363</th>\n",
              "      <td>Apartamento</td>\n",
              "      <td>Apartamento en venta en Modelia</td>\n",
              "      <td>3</td>\n",
              "      <td>2</td>\n",
              "      <td>53</td>\n",
              "      <td>Modelia</td>\n",
              "      <td>Fontibón</td>\n",
              "      <td>$ 287.000.000</td>\n",
              "    </tr>\n",
              "    <tr>\n",
              "      <th>1416</th>\n",
              "      <td>Apartamento</td>\n",
              "      <td>Apartamento en venta en Modelia</td>\n",
              "      <td>3</td>\n",
              "      <td>2</td>\n",
              "      <td>87</td>\n",
              "      <td>Modelia</td>\n",
              "      <td>Fontibón</td>\n",
              "      <td>$ 499.990.000</td>\n",
              "    </tr>\n",
              "    <tr>\n",
              "      <th>1665</th>\n",
              "      <td>Casa</td>\n",
              "      <td>Casa en venta en Modelia</td>\n",
              "      <td>3</td>\n",
              "      <td>2</td>\n",
              "      <td>106</td>\n",
              "      <td>Modelia</td>\n",
              "      <td>Fontibón</td>\n",
              "      <td>$ 470.000.000</td>\n",
              "    </tr>\n",
              "    <tr>\n",
              "      <th>2147</th>\n",
              "      <td>Casa</td>\n",
              "      <td>Casa en venta en Modelia</td>\n",
              "      <td>5</td>\n",
              "      <td>4</td>\n",
              "      <td>320</td>\n",
              "      <td>Modelia</td>\n",
              "      <td>Fontibón</td>\n",
              "      <td>$ 750.000.000</td>\n",
              "    </tr>\n",
              "    <tr>\n",
              "      <th>2160</th>\n",
              "      <td>Apartamento</td>\n",
              "      <td>Apartamento en venta en Modelia</td>\n",
              "      <td>3</td>\n",
              "      <td>2</td>\n",
              "      <td>78</td>\n",
              "      <td>Modelia</td>\n",
              "      <td>Fontibón</td>\n",
              "      <td>$ 620.000.000</td>\n",
              "    </tr>\n",
              "    <tr>\n",
              "      <th>2257</th>\n",
              "      <td>Casa</td>\n",
              "      <td>Casa en venta en Modelia</td>\n",
              "      <td>5</td>\n",
              "      <td>4</td>\n",
              "      <td>244</td>\n",
              "      <td>Modelia</td>\n",
              "      <td>Fontibón</td>\n",
              "      <td>$ 950.000.000</td>\n",
              "    </tr>\n",
              "    <tr>\n",
              "      <th>3092</th>\n",
              "      <td>Apartamento</td>\n",
              "      <td>Apartamento en venta en Modelia</td>\n",
              "      <td>3</td>\n",
              "      <td>3</td>\n",
              "      <td>108</td>\n",
              "      <td>Modelia</td>\n",
              "      <td>Fontibón</td>\n",
              "      <td>$ 670.000.000</td>\n",
              "    </tr>\n",
              "    <tr>\n",
              "      <th>3164</th>\n",
              "      <td>Apartamento</td>\n",
              "      <td>Apartamento en venta en Modelia</td>\n",
              "      <td>3</td>\n",
              "      <td>3</td>\n",
              "      <td>108</td>\n",
              "      <td>Modelia</td>\n",
              "      <td>Fontibón</td>\n",
              "      <td>$ 670.000.000</td>\n",
              "    </tr>\n",
              "    <tr>\n",
              "      <th>4138</th>\n",
              "      <td>Apartamento</td>\n",
              "      <td>Apartamento en venta en Modelia</td>\n",
              "      <td>3</td>\n",
              "      <td>3</td>\n",
              "      <td>88</td>\n",
              "      <td>Modelia</td>\n",
              "      <td>Fontibón</td>\n",
              "      <td>$ 370.000.000</td>\n",
              "    </tr>\n",
              "    <tr>\n",
              "      <th>4201</th>\n",
              "      <td>Apartamento</td>\n",
              "      <td>Apartamento en venta en Modelia</td>\n",
              "      <td>3</td>\n",
              "      <td>3</td>\n",
              "      <td>88</td>\n",
              "      <td>Modelia</td>\n",
              "      <td>Fontibón</td>\n",
              "      <td>$ 370.000.000</td>\n",
              "    </tr>\n",
              "    <tr>\n",
              "      <th>4513</th>\n",
              "      <td>Apartamento</td>\n",
              "      <td>Apartamento en venta en Modelia</td>\n",
              "      <td>3</td>\n",
              "      <td>2</td>\n",
              "      <td>78</td>\n",
              "      <td>Modelia</td>\n",
              "      <td>Fontibón</td>\n",
              "      <td>$ 650.000.000</td>\n",
              "    </tr>\n",
              "    <tr>\n",
              "      <th>4577</th>\n",
              "      <td>Apartamento</td>\n",
              "      <td>Apartamento en venta en Modelia</td>\n",
              "      <td>3</td>\n",
              "      <td>2</td>\n",
              "      <td>78</td>\n",
              "      <td>Modelia</td>\n",
              "      <td>Fontibón</td>\n",
              "      <td>$ 620.000.000</td>\n",
              "    </tr>\n",
              "    <tr>\n",
              "      <th>4913</th>\n",
              "      <td>Casa</td>\n",
              "      <td>Casa en venta en Modelia</td>\n",
              "      <td>5</td>\n",
              "      <td>4</td>\n",
              "      <td>320</td>\n",
              "      <td>Modelia</td>\n",
              "      <td>Fontibón</td>\n",
              "      <td>$ 750.000.000</td>\n",
              "    </tr>\n",
              "    <tr>\n",
              "      <th>4914</th>\n",
              "      <td>Casa</td>\n",
              "      <td>Casa en venta en Modelia</td>\n",
              "      <td>5</td>\n",
              "      <td>4</td>\n",
              "      <td>320</td>\n",
              "      <td>Modelia</td>\n",
              "      <td>Fontibón</td>\n",
              "      <td>$ 750.000.000</td>\n",
              "    </tr>\n",
              "    <tr>\n",
              "      <th>5059</th>\n",
              "      <td>Casa</td>\n",
              "      <td>Casa en venta en Modelia</td>\n",
              "      <td>7</td>\n",
              "      <td>6</td>\n",
              "      <td>287</td>\n",
              "      <td>Modelia</td>\n",
              "      <td>Fontibón</td>\n",
              "      <td>$ 750.000.000</td>\n",
              "    </tr>\n",
              "    <tr>\n",
              "      <th>5584</th>\n",
              "      <td>Apartamento</td>\n",
              "      <td>Apartamento en venta en Modelia</td>\n",
              "      <td>2</td>\n",
              "      <td>1</td>\n",
              "      <td>60</td>\n",
              "      <td>Modelia</td>\n",
              "      <td>Fontibón</td>\n",
              "      <td>$ 260.000.000</td>\n",
              "    </tr>\n",
              "    <tr>\n",
              "      <th>5666</th>\n",
              "      <td>Apartamento</td>\n",
              "      <td>Apartamento en venta en Modelia</td>\n",
              "      <td>3</td>\n",
              "      <td>3</td>\n",
              "      <td>108</td>\n",
              "      <td>Modelia</td>\n",
              "      <td>Fontibón</td>\n",
              "      <td>$ 670.000.000</td>\n",
              "    </tr>\n",
              "    <tr>\n",
              "      <th>6315</th>\n",
              "      <td>Casa</td>\n",
              "      <td>Casa en venta en Modelia</td>\n",
              "      <td>4</td>\n",
              "      <td>3</td>\n",
              "      <td>209</td>\n",
              "      <td>Modelia</td>\n",
              "      <td>Fontibón</td>\n",
              "      <td>$ 850.000.000</td>\n",
              "    </tr>\n",
              "    <tr>\n",
              "      <th>6525</th>\n",
              "      <td>Apartamento</td>\n",
              "      <td>Apartamento en venta en Modelia</td>\n",
              "      <td>2</td>\n",
              "      <td>1</td>\n",
              "      <td>60</td>\n",
              "      <td>Modelia</td>\n",
              "      <td>Fontibón</td>\n",
              "      <td>$ 260.000.000</td>\n",
              "    </tr>\n",
              "    <tr>\n",
              "      <th>6619</th>\n",
              "      <td>Casa</td>\n",
              "      <td>Casa en venta en Modelia</td>\n",
              "      <td>4</td>\n",
              "      <td>3</td>\n",
              "      <td>209</td>\n",
              "      <td>Modelia</td>\n",
              "      <td>Fontibón</td>\n",
              "      <td>$ 850.000.000</td>\n",
              "    </tr>\n",
              "    <tr>\n",
              "      <th>6708</th>\n",
              "      <td>Casa</td>\n",
              "      <td>Casa en venta en Modelia</td>\n",
              "      <td>3</td>\n",
              "      <td>2</td>\n",
              "      <td>181</td>\n",
              "      <td>Modelia</td>\n",
              "      <td>Fontibón</td>\n",
              "      <td>$ 990.000.000</td>\n",
              "    </tr>\n",
              "    <tr>\n",
              "      <th>6786</th>\n",
              "      <td>Casa</td>\n",
              "      <td>Casa en venta en Modelia</td>\n",
              "      <td>3</td>\n",
              "      <td>2</td>\n",
              "      <td>181</td>\n",
              "      <td>Modelia</td>\n",
              "      <td>Fontibón</td>\n",
              "      <td>$ 990.000.000</td>\n",
              "    </tr>\n",
              "    <tr>\n",
              "      <th>6869</th>\n",
              "      <td>Casa</td>\n",
              "      <td>Casa en venta en Modelia</td>\n",
              "      <td>3</td>\n",
              "      <td>2</td>\n",
              "      <td>181</td>\n",
              "      <td>Modelia</td>\n",
              "      <td>Fontibón</td>\n",
              "      <td>$ 990.000.000</td>\n",
              "    </tr>\n",
              "    <tr>\n",
              "      <th>6933</th>\n",
              "      <td>Casa</td>\n",
              "      <td>Casa en venta en Modelia</td>\n",
              "      <td>3</td>\n",
              "      <td>3</td>\n",
              "      <td>220</td>\n",
              "      <td>Modelia</td>\n",
              "      <td>Fontibón</td>\n",
              "      <td>$ 950.000.000</td>\n",
              "    </tr>\n",
              "    <tr>\n",
              "      <th>7028</th>\n",
              "      <td>Apartamento</td>\n",
              "      <td>Apartamento en venta en Modelia</td>\n",
              "      <td>3</td>\n",
              "      <td>3</td>\n",
              "      <td>130</td>\n",
              "      <td>Modelia</td>\n",
              "      <td>Fontibón</td>\n",
              "      <td>$ 620.000.000</td>\n",
              "    </tr>\n",
              "    <tr>\n",
              "      <th>7073</th>\n",
              "      <td>Casa</td>\n",
              "      <td>Casa en venta en Modelia</td>\n",
              "      <td>4</td>\n",
              "      <td>3</td>\n",
              "      <td>166243</td>\n",
              "      <td>Modelia</td>\n",
              "      <td>Fontibón</td>\n",
              "      <td>$ 850.000.000</td>\n",
              "    </tr>\n",
              "    <tr>\n",
              "      <th>7881</th>\n",
              "      <td>Apartamento</td>\n",
              "      <td>Apartamento en venta en Modelia</td>\n",
              "      <td>3</td>\n",
              "      <td>3</td>\n",
              "      <td>92</td>\n",
              "      <td>Modelia</td>\n",
              "      <td>Fontibón</td>\n",
              "      <td>$ 610.000.000</td>\n",
              "    </tr>\n",
              "    <tr>\n",
              "      <th>7908</th>\n",
              "      <td>Casa</td>\n",
              "      <td>Casa en venta en Modelia</td>\n",
              "      <td>3</td>\n",
              "      <td>3</td>\n",
              "      <td>275</td>\n",
              "      <td>Modelia</td>\n",
              "      <td>Fontibón</td>\n",
              "      <td>$ 850.000.000</td>\n",
              "    </tr>\n",
              "    <tr>\n",
              "      <th>7996</th>\n",
              "      <td>Apartamento</td>\n",
              "      <td>Apartamento en venta en Modelia</td>\n",
              "      <td>4</td>\n",
              "      <td>3</td>\n",
              "      <td>120</td>\n",
              "      <td>Modelia</td>\n",
              "      <td>Fontibón</td>\n",
              "      <td>$ 700.000.000</td>\n",
              "    </tr>\n",
              "    <tr>\n",
              "      <th>8256</th>\n",
              "      <td>Casa</td>\n",
              "      <td>Casa en venta en Modelia</td>\n",
              "      <td>4</td>\n",
              "      <td>4</td>\n",
              "      <td>212</td>\n",
              "      <td>Modelia</td>\n",
              "      <td>Fontibón</td>\n",
              "      <td>$ 1.200.000.000</td>\n",
              "    </tr>\n",
              "    <tr>\n",
              "      <th>8377</th>\n",
              "      <td>Apartamento</td>\n",
              "      <td>Apartamento en venta en Modelia</td>\n",
              "      <td>4</td>\n",
              "      <td>3</td>\n",
              "      <td>112</td>\n",
              "      <td>Modelia</td>\n",
              "      <td>Fontibón</td>\n",
              "      <td>$ 560.000.000</td>\n",
              "    </tr>\n",
              "    <tr>\n",
              "      <th>8562</th>\n",
              "      <td>Casa</td>\n",
              "      <td>Casa en venta en Modelia</td>\n",
              "      <td>5</td>\n",
              "      <td>4</td>\n",
              "      <td>400</td>\n",
              "      <td>Modelia</td>\n",
              "      <td>Fontibón</td>\n",
              "      <td>$ 950.000.000</td>\n",
              "    </tr>\n",
              "    <tr>\n",
              "      <th>8899</th>\n",
              "      <td>Apartamento</td>\n",
              "      <td>Apartamento en venta en Modelia</td>\n",
              "      <td>3</td>\n",
              "      <td>2</td>\n",
              "      <td>70</td>\n",
              "      <td>Modelia</td>\n",
              "      <td>Fontibón</td>\n",
              "      <td>$ 445.900.000</td>\n",
              "    </tr>\n",
              "    <tr>\n",
              "      <th>8989</th>\n",
              "      <td>Casa</td>\n",
              "      <td>Casa en venta en Modelia</td>\n",
              "      <td>4</td>\n",
              "      <td>2</td>\n",
              "      <td>210</td>\n",
              "      <td>Modelia</td>\n",
              "      <td>Fontibón</td>\n",
              "      <td>$ 795.000.000</td>\n",
              "    </tr>\n",
              "    <tr>\n",
              "      <th>9012</th>\n",
              "      <td>Apartamento</td>\n",
              "      <td>Apartamento en venta en Modelia</td>\n",
              "      <td>3</td>\n",
              "      <td>2</td>\n",
              "      <td>70</td>\n",
              "      <td>Modelia</td>\n",
              "      <td>Fontibón</td>\n",
              "      <td>$ 445.900.000</td>\n",
              "    </tr>\n",
              "    <tr>\n",
              "      <th>9122</th>\n",
              "      <td>Casa</td>\n",
              "      <td>Casa en venta en Modelia</td>\n",
              "      <td>4</td>\n",
              "      <td>2</td>\n",
              "      <td>210</td>\n",
              "      <td>Modelia</td>\n",
              "      <td>Fontibón</td>\n",
              "      <td>$ 795.000.000</td>\n",
              "    </tr>\n",
              "    <tr>\n",
              "      <th>9326</th>\n",
              "      <td>Casa</td>\n",
              "      <td>Casa en venta en Modelia</td>\n",
              "      <td>5</td>\n",
              "      <td>3</td>\n",
              "      <td>270</td>\n",
              "      <td>Modelia</td>\n",
              "      <td>Fontibón</td>\n",
              "      <td>$ 1.100.000.000</td>\n",
              "    </tr>\n",
              "  </tbody>\n",
              "</table>\n",
              "</div>\n",
              "      <button class=\"colab-df-convert\" onclick=\"convertToInteractive('df-6814bc20-0fcd-4583-83a0-dd265f17fda4')\"\n",
              "              title=\"Convert this dataframe to an interactive table.\"\n",
              "              style=\"display:none;\">\n",
              "        \n",
              "  <svg xmlns=\"http://www.w3.org/2000/svg\" height=\"24px\"viewBox=\"0 0 24 24\"\n",
              "       width=\"24px\">\n",
              "    <path d=\"M0 0h24v24H0V0z\" fill=\"none\"/>\n",
              "    <path d=\"M18.56 5.44l.94 2.06.94-2.06 2.06-.94-2.06-.94-.94-2.06-.94 2.06-2.06.94zm-11 1L8.5 8.5l.94-2.06 2.06-.94-2.06-.94L8.5 2.5l-.94 2.06-2.06.94zm10 10l.94 2.06.94-2.06 2.06-.94-2.06-.94-.94-2.06-.94 2.06-2.06.94z\"/><path d=\"M17.41 7.96l-1.37-1.37c-.4-.4-.92-.59-1.43-.59-.52 0-1.04.2-1.43.59L10.3 9.45l-7.72 7.72c-.78.78-.78 2.05 0 2.83L4 21.41c.39.39.9.59 1.41.59.51 0 1.02-.2 1.41-.59l7.78-7.78 2.81-2.81c.8-.78.8-2.07 0-2.86zM5.41 20L4 18.59l7.72-7.72 1.47 1.35L5.41 20z\"/>\n",
              "  </svg>\n",
              "      </button>\n",
              "      \n",
              "  <style>\n",
              "    .colab-df-container {\n",
              "      display:flex;\n",
              "      flex-wrap:wrap;\n",
              "      gap: 12px;\n",
              "    }\n",
              "\n",
              "    .colab-df-convert {\n",
              "      background-color: #E8F0FE;\n",
              "      border: none;\n",
              "      border-radius: 50%;\n",
              "      cursor: pointer;\n",
              "      display: none;\n",
              "      fill: #1967D2;\n",
              "      height: 32px;\n",
              "      padding: 0 0 0 0;\n",
              "      width: 32px;\n",
              "    }\n",
              "\n",
              "    .colab-df-convert:hover {\n",
              "      background-color: #E2EBFA;\n",
              "      box-shadow: 0px 1px 2px rgba(60, 64, 67, 0.3), 0px 1px 3px 1px rgba(60, 64, 67, 0.15);\n",
              "      fill: #174EA6;\n",
              "    }\n",
              "\n",
              "    [theme=dark] .colab-df-convert {\n",
              "      background-color: #3B4455;\n",
              "      fill: #D2E3FC;\n",
              "    }\n",
              "\n",
              "    [theme=dark] .colab-df-convert:hover {\n",
              "      background-color: #434B5C;\n",
              "      box-shadow: 0px 1px 3px 1px rgba(0, 0, 0, 0.15);\n",
              "      filter: drop-shadow(0px 1px 2px rgba(0, 0, 0, 0.3));\n",
              "      fill: #FFFFFF;\n",
              "    }\n",
              "  </style>\n",
              "\n",
              "      <script>\n",
              "        const buttonEl =\n",
              "          document.querySelector('#df-6814bc20-0fcd-4583-83a0-dd265f17fda4 button.colab-df-convert');\n",
              "        buttonEl.style.display =\n",
              "          google.colab.kernel.accessAllowed ? 'block' : 'none';\n",
              "\n",
              "        async function convertToInteractive(key) {\n",
              "          const element = document.querySelector('#df-6814bc20-0fcd-4583-83a0-dd265f17fda4');\n",
              "          const dataTable =\n",
              "            await google.colab.kernel.invokeFunction('convertToInteractive',\n",
              "                                                     [key], {});\n",
              "          if (!dataTable) return;\n",
              "\n",
              "          const docLinkHtml = 'Like what you see? Visit the ' +\n",
              "            '<a target=\"_blank\" href=https://colab.research.google.com/notebooks/data_table.ipynb>data table notebook</a>'\n",
              "            + ' to learn more about interactive tables.';\n",
              "          element.innerHTML = '';\n",
              "          dataTable['output_type'] = 'display_data';\n",
              "          await google.colab.output.renderOutput(dataTable, element);\n",
              "          const docLink = document.createElement('div');\n",
              "          docLink.innerHTML = docLinkHtml;\n",
              "          element.appendChild(docLink);\n",
              "        }\n",
              "      </script>\n",
              "    </div>\n",
              "  </div>\n",
              "  "
            ]
          },
          "metadata": {},
          "execution_count": 32
        }
      ]
    },
    {
      "cell_type": "code",
      "source": [
        "modelia.groupby('Tipo')['Area'].mean()"
      ],
      "metadata": {
        "colab": {
          "base_uri": "https://localhost:8080/"
        },
        "id": "gw-c-uXbkcNR",
        "outputId": "7608eccd-a1c8-4499-a286-666be60c7894"
      },
      "execution_count": null,
      "outputs": [
        {
          "output_type": "execute_result",
          "data": {
            "text/plain": [
              "Tipo\n",
              "Apartamento      86.105263\n",
              "Casa           8144.476190\n",
              "Name: Area, dtype: float64"
            ]
          },
          "metadata": {},
          "execution_count": 33
        }
      ]
    },
    {
      "cell_type": "code",
      "source": [
        "barrio_mediana = inmuebles.groupby('Barrio')['Area'].median()\n",
        "barrio_mediana"
      ],
      "metadata": {
        "colab": {
          "base_uri": "https://localhost:8080/"
        },
        "id": "ixtJXej8k6wJ",
        "outputId": "3f81fa69-7231-4bd8-ea9b-31c1b2aafab0"
      },
      "execution_count": null,
      "outputs": [
        {
          "output_type": "execute_result",
          "data": {
            "text/plain": [
              "Barrio\n",
              "Alameda                97.0\n",
              "Alhambra              164.0\n",
              "Andes Norte           108.0\n",
              "Antonio Nariño         72.0\n",
              "Barrancas              75.0\n",
              "                      ...  \n",
              "Villa Maria           222.0\n",
              "Villas De Granada      64.0\n",
              "Villemar               59.0\n",
              "Zona Franca            54.0\n",
              "Zona Noroccidental     78.0\n",
              "Name: Area, Length: 149, dtype: float64"
            ]
          },
          "metadata": {},
          "execution_count": 34
        }
      ]
    },
    {
      "cell_type": "code",
      "source": [
        "barrio_avg_a = inmuebles.groupby('Barrio')['Area'].mean()\n",
        "barrio_avg_a"
      ],
      "metadata": {
        "colab": {
          "base_uri": "https://localhost:8080/"
        },
        "id": "bSbSito5CK5S",
        "outputId": "3592bd6c-3bab-42dd-b0ae-cf4e9d77b2a3"
      },
      "execution_count": null,
      "outputs": [
        {
          "output_type": "execute_result",
          "data": {
            "text/plain": [
              "Barrio\n",
              "Alameda                97.000000\n",
              "Alhambra              190.411765\n",
              "Andes Norte           124.857143\n",
              "Antonio Nariño        163.062500\n",
              "Barrancas              70.200000\n",
              "                         ...    \n",
              "Villa Maria           207.153846\n",
              "Villas De Granada      86.590909\n",
              "Villemar               76.888889\n",
              "Zona Franca            54.000000\n",
              "Zona Noroccidental    135.785633\n",
              "Name: Area, Length: 149, dtype: float64"
            ]
          },
          "metadata": {},
          "execution_count": 43
        }
      ]
    },
    {
      "cell_type": "code",
      "source": [
        "print(inmuebles['Area'].describe())"
      ],
      "metadata": {
        "colab": {
          "base_uri": "https://localhost:8080/"
        },
        "id": "QwR1FcMylV10",
        "outputId": "aa4c3805-123a-4a0e-deca-e350fc503574"
      },
      "execution_count": null,
      "outputs": [
        {
          "output_type": "stream",
          "name": "stdout",
          "text": [
            "count      9520.000000\n",
            "mean        146.664706\n",
            "std        1731.379622\n",
            "min           2.000000\n",
            "25%          57.000000\n",
            "50%          80.000000\n",
            "75%         135.000000\n",
            "max      166243.000000\n",
            "Name: Area, dtype: float64\n"
          ]
        }
      ]
    },
    {
      "cell_type": "code",
      "source": [
        "print(inmuebles['Valor'].describe())"
      ],
      "metadata": {
        "colab": {
          "base_uri": "https://localhost:8080/"
        },
        "id": "9Qx9vVx0mQ6T",
        "outputId": "03e35ed9-1d99-4e5b-e270-c37fb01278ee"
      },
      "execution_count": null,
      "outputs": [
        {
          "output_type": "stream",
          "name": "stdout",
          "text": [
            "count              9520\n",
            "unique             1039\n",
            "top       $ 450.000.000\n",
            "freq                128\n",
            "Name: Valor, dtype: object\n"
          ]
        }
      ]
    },
    {
      "cell_type": "code",
      "source": [
        "modelia['Area'].hist(bins=10)\n",
        "plt.show()"
      ],
      "metadata": {
        "colab": {
          "base_uri": "https://localhost:8080/",
          "height": 430
        },
        "id": "Z28TqvoLBKEd",
        "outputId": "1cf5ce6f-6af2-4be6-d383-a2acc19cbfc3"
      },
      "execution_count": null,
      "outputs": [
        {
          "output_type": "display_data",
          "data": {
            "text/plain": [
              "<Figure size 640x480 with 1 Axes>"
            ],
            "image/png": "[encoded data removed]"
          },
          "metadata": {}
        }
      ]
    },
    {
      "cell_type": "markdown",
      "source": [
        "Hay un error o bien un dato anormal afectando mi muestra o mis datos"
      ],
      "metadata": {
        "id": "NRrHf12IBiAP"
      }
    },
    {
      "cell_type": "markdown",
      "source": [
        "CLASE 2: Tratamiento de variables y visualización\n",
        "\n"
      ],
      "metadata": {
        "id": "UZCTy86u_1_z"
      }
    },
    {
      "cell_type": "code",
      "source": [
        "inmuebles.sample(5)"
      ],
      "metadata": {
        "id": "mekng-JznC8h",
        "colab": {
          "base_uri": "https://localhost:8080/",
          "height": 337
        },
        "outputId": "fff2912c-7eb6-4e0a-cbbd-9c9523d44399"
      },
      "execution_count": null,
      "outputs": [
        {
          "output_type": "execute_result",
          "data": {
            "text/plain": [
              "             Tipo                              Descripcion  Habitaciones  \\\n",
              "6575  Apartamento         Apartamento en venta en Engativa             2   \n",
              "72    Apartamento  Apartamento en venta en Chico Reservado             1   \n",
              "3192  Apartamento    Apartamento en venta en Santa Barbara             3   \n",
              "8899  Apartamento          Apartamento en venta en Modelia             3   \n",
              "9415         Casa               Casa en venta en Pasadena              6   \n",
              "\n",
              "      Banos  Area           Barrio                                    UPZ  \\\n",
              "6575      2    48         Engativa                               Engativá   \n",
              "72        1    64  Chico Reservado     CHAPINERO: Chicó Lago + El Refugio   \n",
              "3192      2    98    Santa Barbara  USAQUÉN: Country Club + Santa Bárbara   \n",
              "8899      2    70          Modelia                               Fontibón   \n",
              "9415      4   220        Pasadena                                     NaN   \n",
              "\n",
              "                Valor  \n",
              "6575    $ 210.000.000  \n",
              "72      $ 495.000.000  \n",
              "3192    $ 599.900.000  \n",
              "8899    $ 445.900.000  \n",
              "9415  $ 1.170.000.000  "
            ],
            "text/html": [
              "\n",
              "  <div id=\"df-bec59d8b-efcd-481a-8d55-89ccf81aa574\">\n",
              "    <div class=\"colab-df-container\">\n",
              "      <div>\n",
              "<style scoped>\n",
              "    .dataframe tbody tr th:only-of-type {\n",
              "        vertical-align: middle;\n",
              "    }\n",
              "\n",
              "    .dataframe tbody tr th {\n",
              "        vertical-align: top;\n",
              "    }\n",
              "\n",
              "    .dataframe thead th {\n",
              "        text-align: right;\n",
              "    }\n",
              "</style>\n",
              "<table border=\"1\" class=\"dataframe\">\n",
              "  <thead>\n",
              "    <tr style=\"text-align: right;\">\n",
              "      <th></th>\n",
              "      <th>Tipo</th>\n",
              "      <th>Descripcion</th>\n",
              "      <th>Habitaciones</th>\n",
              "      <th>Banos</th>\n",
              "      <th>Area</th>\n",
              "      <th>Barrio</th>\n",
              "      <th>UPZ</th>\n",
              "      <th>Valor</th>\n",
              "    </tr>\n",
              "  </thead>\n",
              "  <tbody>\n",
              "    <tr>\n",
              "      <th>6575</th>\n",
              "      <td>Apartamento</td>\n",
              "      <td>Apartamento en venta en Engativa</td>\n",
              "      <td>2</td>\n",
              "      <td>2</td>\n",
              "      <td>48</td>\n",
              "      <td>Engativa</td>\n",
              "      <td>Engativá</td>\n",
              "      <td>$ 210.000.000</td>\n",
              "    </tr>\n",
              "    <tr>\n",
              "      <th>72</th>\n",
              "      <td>Apartamento</td>\n",
              "      <td>Apartamento en venta en Chico Reservado</td>\n",
              "      <td>1</td>\n",
              "      <td>1</td>\n",
              "      <td>64</td>\n",
              "      <td>Chico Reservado</td>\n",
              "      <td>CHAPINERO: Chicó Lago + El Refugio</td>\n",
              "      <td>$ 495.000.000</td>\n",
              "    </tr>\n",
              "    <tr>\n",
              "      <th>3192</th>\n",
              "      <td>Apartamento</td>\n",
              "      <td>Apartamento en venta en Santa Barbara</td>\n",
              "      <td>3</td>\n",
              "      <td>2</td>\n",
              "      <td>98</td>\n",
              "      <td>Santa Barbara</td>\n",
              "      <td>USAQUÉN: Country Club + Santa Bárbara</td>\n",
              "      <td>$ 599.900.000</td>\n",
              "    </tr>\n",
              "    <tr>\n",
              "      <th>8899</th>\n",
              "      <td>Apartamento</td>\n",
              "      <td>Apartamento en venta en Modelia</td>\n",
              "      <td>3</td>\n",
              "      <td>2</td>\n",
              "      <td>70</td>\n",
              "      <td>Modelia</td>\n",
              "      <td>Fontibón</td>\n",
              "      <td>$ 445.900.000</td>\n",
              "    </tr>\n",
              "    <tr>\n",
              "      <th>9415</th>\n",
              "      <td>Casa</td>\n",
              "      <td>Casa en venta en Pasadena</td>\n",
              "      <td>6</td>\n",
              "      <td>4</td>\n",
              "      <td>220</td>\n",
              "      <td>Pasadena</td>\n",
              "      <td>NaN</td>\n",
              "      <td>$ 1.170.000.000</td>\n",
              "    </tr>\n",
              "  </tbody>\n",
              "</table>\n",
              "</div>\n",
              "      <button class=\"colab-df-convert\" onclick=\"convertToInteractive('df-bec59d8b-efcd-481a-8d55-89ccf81aa574')\"\n",
              "              title=\"Convert this dataframe to an interactive table.\"\n",
              "              style=\"display:none;\">\n",
              "        \n",
              "  <svg xmlns=\"http://www.w3.org/2000/svg\" height=\"24px\"viewBox=\"0 0 24 24\"\n",
              "       width=\"24px\">\n",
              "    <path d=\"M0 0h24v24H0V0z\" fill=\"none\"/>\n",
              "    <path d=\"M18.56 5.44l.94 2.06.94-2.06 2.06-.94-2.06-.94-.94-2.06-.94 2.06-2.06.94zm-11 1L8.5 8.5l.94-2.06 2.06-.94-2.06-.94L8.5 2.5l-.94 2.06-2.06.94zm10 10l.94 2.06.94-2.06 2.06-.94-2.06-.94-.94-2.06-.94 2.06-2.06.94z\"/><path d=\"M17.41 7.96l-1.37-1.37c-.4-.4-.92-.59-1.43-.59-.52 0-1.04.2-1.43.59L10.3 9.45l-7.72 7.72c-.78.78-.78 2.05 0 2.83L4 21.41c.39.39.9.59 1.41.59.51 0 1.02-.2 1.41-.59l7.78-7.78 2.81-2.81c.8-.78.8-2.07 0-2.86zM5.41 20L4 18.59l7.72-7.72 1.47 1.35L5.41 20z\"/>\n",
              "  </svg>\n",
              "      </button>\n",
              "      \n",
              "  <style>\n",
              "    .colab-df-container {\n",
              "      display:flex;\n",
              "      flex-wrap:wrap;\n",
              "      gap: 12px;\n",
              "    }\n",
              "\n",
              "    .colab-df-convert {\n",
              "      background-color: #E8F0FE;\n",
              "      border: none;\n",
              "      border-radius: 50%;\n",
              "      cursor: pointer;\n",
              "      display: none;\n",
              "      fill: #1967D2;\n",
              "      height: 32px;\n",
              "      padding: 0 0 0 0;\n",
              "      width: 32px;\n",
              "    }\n",
              "\n",
              "    .colab-df-convert:hover {\n",
              "      background-color: #E2EBFA;\n",
              "      box-shadow: 0px 1px 2px rgba(60, 64, 67, 0.3), 0px 1px 3px 1px rgba(60, 64, 67, 0.15);\n",
              "      fill: #174EA6;\n",
              "    }\n",
              "\n",
              "    [theme=dark] .colab-df-convert {\n",
              "      background-color: #3B4455;\n",
              "      fill: #D2E3FC;\n",
              "    }\n",
              "\n",
              "    [theme=dark] .colab-df-convert:hover {\n",
              "      background-color: #434B5C;\n",
              "      box-shadow: 0px 1px 3px 1px rgba(0, 0, 0, 0.15);\n",
              "      filter: drop-shadow(0px 1px 2px rgba(0, 0, 0, 0.3));\n",
              "      fill: #FFFFFF;\n",
              "    }\n",
              "  </style>\n",
              "\n",
              "      <script>\n",
              "        const buttonEl =\n",
              "          document.querySelector('#df-bec59d8b-efcd-481a-8d55-89ccf81aa574 button.colab-df-convert');\n",
              "        buttonEl.style.display =\n",
              "          google.colab.kernel.accessAllowed ? 'block' : 'none';\n",
              "\n",
              "        async function convertToInteractive(key) {\n",
              "          const element = document.querySelector('#df-bec59d8b-efcd-481a-8d55-89ccf81aa574');\n",
              "          const dataTable =\n",
              "            await google.colab.kernel.invokeFunction('convertToInteractive',\n",
              "                                                     [key], {});\n",
              "          if (!dataTable) return;\n",
              "\n",
              "          const docLinkHtml = 'Like what you see? Visit the ' +\n",
              "            '<a target=\"_blank\" href=https://colab.research.google.com/notebooks/data_table.ipynb>data table notebook</a>'\n",
              "            + ' to learn more about interactive tables.';\n",
              "          element.innerHTML = '';\n",
              "          dataTable['output_type'] = 'display_data';\n",
              "          await google.colab.output.renderOutput(dataTable, element);\n",
              "          const docLink = document.createElement('div');\n",
              "          docLink.innerHTML = docLinkHtml;\n",
              "          element.appendChild(docLink);\n",
              "        }\n",
              "      </script>\n",
              "    </div>\n",
              "  </div>\n",
              "  "
            ]
          },
          "metadata": {},
          "execution_count": 40
        }
      ]
    },
    {
      "cell_type": "code",
      "source": [
        "inmuebles.info()"
      ],
      "metadata": {
        "colab": {
          "base_uri": "https://localhost:8080/"
        },
        "id": "x2aK0-KIAUJ9",
        "outputId": "5d52bb1f-fedb-4a46-b724-e662952bc831"
      },
      "execution_count": null,
      "outputs": [
        {
          "output_type": "stream",
          "name": "stdout",
          "text": [
            "<class 'pandas.core.frame.DataFrame'>\n",
            "RangeIndex: 9520 entries, 0 to 9519\n",
            "Data columns (total 8 columns):\n",
            " #   Column        Non-Null Count  Dtype \n",
            "---  ------        --------------  ----- \n",
            " 0   Tipo          9520 non-null   object\n",
            " 1   Descripcion   9520 non-null   object\n",
            " 2   Habitaciones  9520 non-null   int64 \n",
            " 3   Banos         9520 non-null   int64 \n",
            " 4   Area          9520 non-null   int64 \n",
            " 5   Barrio        9520 non-null   object\n",
            " 6   UPZ           9478 non-null   object\n",
            " 7   Valor         9520 non-null   object\n",
            "dtypes: int64(3), object(5)\n",
            "memory usage: 595.1+ KB\n"
          ]
        }
      ]
    },
    {
      "cell_type": "code",
      "source": [
        "type(inmuebles.Valor[0])"
      ],
      "metadata": {
        "colab": {
          "base_uri": "https://localhost:8080/"
        },
        "id": "yAE3v2w_B0m3",
        "outputId": "42d10c5d-1f88-4846-ee0d-7e4e049ffe37"
      },
      "execution_count": null,
      "outputs": [
        {
          "output_type": "execute_result",
          "data": {
            "text/plain": [
              "str"
            ]
          },
          "metadata": {},
          "execution_count": 46
        }
      ]
    },
    {
      "cell_type": "markdown",
      "source": [
        "Al ser un str no puedo usar operaciones numéricas"
      ],
      "metadata": {
        "id": "-emqqKlGDDkm"
      }
    },
    {
      "cell_type": "code",
      "source": [
        "inmuebles.Valor[0].split()"
      ],
      "metadata": {
        "colab": {
          "base_uri": "https://localhost:8080/"
        },
        "id": "_ddSq5J0C1Fl",
        "outputId": "134132ff-1c68-433c-801c-111ab7c11d5b"
      },
      "execution_count": null,
      "outputs": [
        {
          "output_type": "execute_result",
          "data": {
            "text/plain": [
              "['$', '360.000.000']"
            ]
          },
          "metadata": {},
          "execution_count": 47
        }
      ]
    },
    {
      "cell_type": "code",
      "source": [
        "valor = inmuebles.Valor.str.split(expand=True)\n",
        "inmuebles['Moneda'] = valor[0]\n",
        "inmuebles['Precio'] = valor[1]\n",
        "inmuebles.sample(3)"
      ],
      "metadata": {
        "colab": {
          "base_uri": "https://localhost:8080/",
          "height": 257
        },
        "id": "q_L5AzP3DdUp",
        "outputId": "7b8d0ae4-75ff-4b9a-abe8-5045aab44581"
      },
      "execution_count": null,
      "outputs": [
        {
          "output_type": "execute_result",
          "data": {
            "text/plain": [
              "             Tipo                           Descripcion  Habitaciones  Banos  \\\n",
              "441   Apartamento   Apartamento en venta en Teusaquillo             2      1   \n",
              "1890  Apartamento  Apartamento en venta en Gran America             2      2   \n",
              "4331  Apartamento      Apartamento en venta en El Chicó             3      3   \n",
              "\n",
              "      Area        Barrio                                 UPZ          Valor  \\\n",
              "441     51   Teusaquillo                         Teusaquillo  $ 290.000.000   \n",
              "1890    35  Gran America                      Quinta Paredes  $ 250.000.000   \n",
              "4331   120      El Chicó  CHAPINERO: Chicó Lago + El Refugio  $ 590.000.000   \n",
              "\n",
              "     Moneda       Precio  \n",
              "441       $  290.000.000  \n",
              "1890      $  250.000.000  \n",
              "4331      $  590.000.000  "
            ],
            "text/html": [
              "\n",
              "  <div id=\"df-0f6da99c-3add-4af1-b074-11e4020def27\">\n",
              "    <div class=\"colab-df-container\">\n",
              "      <div>\n",
              "<style scoped>\n",
              "    .dataframe tbody tr th:only-of-type {\n",
              "        vertical-align: middle;\n",
              "    }\n",
              "\n",
              "    .dataframe tbody tr th {\n",
              "        vertical-align: top;\n",
              "    }\n",
              "\n",
              "    .dataframe thead th {\n",
              "        text-align: right;\n",
              "    }\n",
              "</style>\n",
              "<table border=\"1\" class=\"dataframe\">\n",
              "  <thead>\n",
              "    <tr style=\"text-align: right;\">\n",
              "      <th></th>\n",
              "      <th>Tipo</th>\n",
              "      <th>Descripcion</th>\n",
              "      <th>Habitaciones</th>\n",
              "      <th>Banos</th>\n",
              "      <th>Area</th>\n",
              "      <th>Barrio</th>\n",
              "      <th>UPZ</th>\n",
              "      <th>Valor</th>\n",
              "      <th>Moneda</th>\n",
              "      <th>Precio</th>\n",
              "    </tr>\n",
              "  </thead>\n",
              "  <tbody>\n",
              "    <tr>\n",
              "      <th>441</th>\n",
              "      <td>Apartamento</td>\n",
              "      <td>Apartamento en venta en Teusaquillo</td>\n",
              "      <td>2</td>\n",
              "      <td>1</td>\n",
              "      <td>51</td>\n",
              "      <td>Teusaquillo</td>\n",
              "      <td>Teusaquillo</td>\n",
              "      <td>$ 290.000.000</td>\n",
              "      <td>$</td>\n",
              "      <td>290.000.000</td>\n",
              "    </tr>\n",
              "    <tr>\n",
              "      <th>1890</th>\n",
              "      <td>Apartamento</td>\n",
              "      <td>Apartamento en venta en Gran America</td>\n",
              "      <td>2</td>\n",
              "      <td>2</td>\n",
              "      <td>35</td>\n",
              "      <td>Gran America</td>\n",
              "      <td>Quinta Paredes</td>\n",
              "      <td>$ 250.000.000</td>\n",
              "      <td>$</td>\n",
              "      <td>250.000.000</td>\n",
              "    </tr>\n",
              "    <tr>\n",
              "      <th>4331</th>\n",
              "      <td>Apartamento</td>\n",
              "      <td>Apartamento en venta en El Chicó</td>\n",
              "      <td>3</td>\n",
              "      <td>3</td>\n",
              "      <td>120</td>\n",
              "      <td>El Chicó</td>\n",
              "      <td>CHAPINERO: Chicó Lago + El Refugio</td>\n",
              "      <td>$ 590.000.000</td>\n",
              "      <td>$</td>\n",
              "      <td>590.000.000</td>\n",
              "    </tr>\n",
              "  </tbody>\n",
              "</table>\n",
              "</div>\n",
              "      <button class=\"colab-df-convert\" onclick=\"convertToInteractive('df-0f6da99c-3add-4af1-b074-11e4020def27')\"\n",
              "              title=\"Convert this dataframe to an interactive table.\"\n",
              "              style=\"display:none;\">\n",
              "        \n",
              "  <svg xmlns=\"http://www.w3.org/2000/svg\" height=\"24px\"viewBox=\"0 0 24 24\"\n",
              "       width=\"24px\">\n",
              "    <path d=\"M0 0h24v24H0V0z\" fill=\"none\"/>\n",
              "    <path d=\"M18.56 5.44l.94 2.06.94-2.06 2.06-.94-2.06-.94-.94-2.06-.94 2.06-2.06.94zm-11 1L8.5 8.5l.94-2.06 2.06-.94-2.06-.94L8.5 2.5l-.94 2.06-2.06.94zm10 10l.94 2.06.94-2.06 2.06-.94-2.06-.94-.94-2.06-.94 2.06-2.06.94z\"/><path d=\"M17.41 7.96l-1.37-1.37c-.4-.4-.92-.59-1.43-.59-.52 0-1.04.2-1.43.59L10.3 9.45l-7.72 7.72c-.78.78-.78 2.05 0 2.83L4 21.41c.39.39.9.59 1.41.59.51 0 1.02-.2 1.41-.59l7.78-7.78 2.81-2.81c.8-.78.8-2.07 0-2.86zM5.41 20L4 18.59l7.72-7.72 1.47 1.35L5.41 20z\"/>\n",
              "  </svg>\n",
              "      </button>\n",
              "      \n",
              "  <style>\n",
              "    .colab-df-container {\n",
              "      display:flex;\n",
              "      flex-wrap:wrap;\n",
              "      gap: 12px;\n",
              "    }\n",
              "\n",
              "    .colab-df-convert {\n",
              "      background-color: #E8F0FE;\n",
              "      border: none;\n",
              "      border-radius: 50%;\n",
              "      cursor: pointer;\n",
              "      display: none;\n",
              "      fill: #1967D2;\n",
              "      height: 32px;\n",
              "      padding: 0 0 0 0;\n",
              "      width: 32px;\n",
              "    }\n",
              "\n",
              "    .colab-df-convert:hover {\n",
              "      background-color: #E2EBFA;\n",
              "      box-shadow: 0px 1px 2px rgba(60, 64, 67, 0.3), 0px 1px 3px 1px rgba(60, 64, 67, 0.15);\n",
              "      fill: #174EA6;\n",
              "    }\n",
              "\n",
              "    [theme=dark] .colab-df-convert {\n",
              "      background-color: #3B4455;\n",
              "      fill: #D2E3FC;\n",
              "    }\n",
              "\n",
              "    [theme=dark] .colab-df-convert:hover {\n",
              "      background-color: #434B5C;\n",
              "      box-shadow: 0px 1px 3px 1px rgba(0, 0, 0, 0.15);\n",
              "      filter: drop-shadow(0px 1px 2px rgba(0, 0, 0, 0.3));\n",
              "      fill: #FFFFFF;\n",
              "    }\n",
              "  </style>\n",
              "\n",
              "      <script>\n",
              "        const buttonEl =\n",
              "          document.querySelector('#df-0f6da99c-3add-4af1-b074-11e4020def27 button.colab-df-convert');\n",
              "        buttonEl.style.display =\n",
              "          google.colab.kernel.accessAllowed ? 'block' : 'none';\n",
              "\n",
              "        async function convertToInteractive(key) {\n",
              "          const element = document.querySelector('#df-0f6da99c-3add-4af1-b074-11e4020def27');\n",
              "          const dataTable =\n",
              "            await google.colab.kernel.invokeFunction('convertToInteractive',\n",
              "                                                     [key], {});\n",
              "          if (!dataTable) return;\n",
              "\n",
              "          const docLinkHtml = 'Like what you see? Visit the ' +\n",
              "            '<a target=\"_blank\" href=https://colab.research.google.com/notebooks/data_table.ipynb>data table notebook</a>'\n",
              "            + ' to learn more about interactive tables.';\n",
              "          element.innerHTML = '';\n",
              "          dataTable['output_type'] = 'display_data';\n",
              "          await google.colab.output.renderOutput(dataTable, element);\n",
              "          const docLink = document.createElement('div');\n",
              "          docLink.innerHTML = docLinkHtml;\n",
              "          element.appendChild(docLink);\n",
              "        }\n",
              "      </script>\n",
              "    </div>\n",
              "  </div>\n",
              "  "
            ]
          },
          "metadata": {},
          "execution_count": 50
        }
      ]
    },
    {
      "cell_type": "code",
      "source": [
        "inmuebles.info()"
      ],
      "metadata": {
        "colab": {
          "base_uri": "https://localhost:8080/"
        },
        "id": "6wsFBnL_D719",
        "outputId": "624c3a8f-87e6-4363-85e4-27acff6a535c"
      },
      "execution_count": null,
      "outputs": [
        {
          "output_type": "stream",
          "name": "stdout",
          "text": [
            "<class 'pandas.core.frame.DataFrame'>\n",
            "RangeIndex: 9520 entries, 0 to 9519\n",
            "Data columns (total 10 columns):\n",
            " #   Column        Non-Null Count  Dtype \n",
            "---  ------        --------------  ----- \n",
            " 0   Tipo          9520 non-null   object\n",
            " 1   Descripcion   9520 non-null   object\n",
            " 2   Habitaciones  9520 non-null   int64 \n",
            " 3   Banos         9520 non-null   int64 \n",
            " 4   Area          9520 non-null   int64 \n",
            " 5   Barrio        9520 non-null   object\n",
            " 6   UPZ           9478 non-null   object\n",
            " 7   Valor         9520 non-null   object\n",
            " 8   Moneda        9520 non-null   object\n",
            " 9   Precio        9520 non-null   object\n",
            "dtypes: int64(3), object(7)\n",
            "memory usage: 743.9+ KB\n"
          ]
        }
      ]
    },
    {
      "cell_type": "code",
      "source": [
        "inmuebles['Precio'].sum()"
      ],
      "metadata": {
        "colab": {
          "base_uri": "https://localhost:8080/",
          "height": 178
        },
        "id": "ajIHlB9EE1bq",
        "outputId": "7c6b0245-7742-40c2-e0c0-297d67a60d3e"
      },
      "execution_count": null,
      "outputs": [
        {
          "output_type": "execute_result",
          "data": {
            "text/plain": [
              "'360.000.000670.000.0001.120.000.000890.000.000970.000.000510.000.000500.000.0002.350.000.000850.000.000642.000.000652.000.000168.000.000205.000.000300.000.000680.000.0002.519.000.000420.000.000620.000.000239.000.0001.600.000.000420.000.000625.000.0002.799.000.0001.450.000.0002.000.000.000670.000.0001.800.000.000469.000.000580.000.000445.000.000261.500.000278.000.000258.000.000520.000.000200.000.000129.000.000350.000.000290.500.000750.000.000495.000.000285.000.000900.000.0001.800.000.000990.000.000418.000.000349.000.000565.000.000370.000.000259.000.000310.000.000354.000.000372.000.000500.000.000420.000.0001.050.000.000185.000.000349.000.000515.000.000287.000.000265.000.000500.000.000261.500.000300.000.000278.000.000258.000.000520.000.000350.000.000290.500.000129.000.000200.000.000750.000.000418.000.000495.000.000349.000.000310.000.000565.000.000370.000.000259.000.000354.000.000285.000.000420.000.000372.000.000500.000.000185.000.0001.050.000.000349.000.0001.800.000.000900.000.000990.000.000225.000.000148.000.000331.500.000300.000.0001.030.000.000195.000.000200.000.000168.000.000323.000.000275.000.000510.000.000176.000.000680.000.000680.000.000217.000.0001.050.000.000375.000.000458.000.0002.000.000.000425.000.000318.000.000660.000.000730.000.000140.000.000343.000.000385.000.0001.300.000.0001.195.000.000519.000.000350.000.000202.000.000429.000.000640.000.000435.000.000610.000.000650.000.000421.000.0001.300.000.000155.000.000530.000.000330.000.000225.000.000143.000.000245.500.000433.000.000315.000.000450.000.000350.000.000205.000.0001.200.000.000169.000.000375.000.000460.000.000308.000.0001.100.000.000400.000.000860.000.0001.650.000.000565.000.000238.000.000503.000.000330.000.000400.000.0001.650.000.000580.000.000503.000.000635.000.000499.000.000371.000.000179.000.000348.200.000238.000.000173.000.000257.000.0001.100.000.000298.500.000680.000.000680.000.000217.000.0001.050.000.000375.000.000660.000.000318.000.000458.000.000425.000.0002.000.000.000343.000.000730.000.000140.000.0001.300.000.000385.000.000369.000.000366.000.000378.000.000355.000.000700.000.000990.000.000600.000.000516.000.000350.000.000475.000.000749.000.0001.195.000.000498.000.000269.000.000153.000.000335.000.000399.000.000373.000.000415.000.0001.550.000.000460.000.000225.000.000200.000.000234.000.000199.000.000450.000.0001.400.000.000202.000.000350.000.000519.000.000310.000.000355.000.000545.000.000720.000.000650.000.000343.000.000127.000.000370.000.000162.000.0001.560.000.000136.000.000265.000.000131.000.000416.000.000161.000.000900.000.000389.000.000190.000.000139.000.000319.000.000327.000.000474.500.000308.000.000720.000.000310.000.000177.500.0001.200.000.000380.000.000210.000.0001.290.000.000320.000.000445.000.000340.000.000510.000.000465.000.000220.000.000337.000.000260.000.000445.000.000290.000.000342.514.000625.000.000490.000.000350.000.000444.150.000360.000.000370.000.000150.000.000232.500.000271.000.000450.000.000163.500.000390.000.000300.000.000406.000.000465.000.000390.000.000175.000.000445.000.000422.000.000690.000.000445.000.000357.000.000465.000.000164.000.000300.000.000406.000.0001.700.000.000570.000.000460.000.000960.000.000510.000.000520.000.000142.000.000750.000.000160.000.000445.000.000570.000.000319.981.523510.000.000380.000.000134.000.000120.000.000460.000.000560.000.000351.000.0001.390.000.000422.000.000260.000.000980.000.000116.100.000980.000.000237.000.000320.000.000530.000.000503.000.000117.000.0001.300.000.000477.000.000450.000.000515.000.000730.000.000600.000.000480.000.000560.000.000308.000.000365.000.0001.200.000.000371.000.000850.000.000428.000.000421.000.000650.000.000295.000.000144.000.000280.000.000162.000.000620.000.0001.200.000.000360.000.000350.000.000650.000.000560.000.000295.000.000413.500.0001.200.000.000370.000.000600.000.000390.000.000447.500.000132.000.000180.000.000285.000.000620.000.000400.000.0001.380.000.000335.238.800820.000.000545.000.000217.000.000495.000.000330.000.000570.000.000280.000.0002.000.000.000390.000.000311.000.000164.000.000510.000.000319.000.000510.000.000303.960.000387.000.000390.000.000315.000.000245.000.000136.000.000151.000.000129.500.000150.000.000360.000.000141.000.000371.000.000272.000.000113.000.000237.000.000122.000.000243.000.000420.000.000125.000.000134.000.000177.000.000116.000.000930.000.000390.000.000490.000.000449.964.000650.000.000420.000.000600.000.000800.000.000134.000.000298.000.000315.000.000162.000.0002.570.000.000375.000.000400.000.000330.000.000447.500.000167.500.000125.000.000400.000.000310.000.000287.000.000516.000.000416.000.000144.000.000192.000.000290.000.000121.500.000413.500.000570.000.000110.000.000508.000.000124.000.000185.000.000290.000.000495.000.000750.000.000327.000.000390.000.000290.000.000310.000.000278.000.000330.000.000490.000.000249.000.000180.000.000370.000.000134.000.000450.000.000340.000.000144.000.000120.000.000131.000.000138.000.000357.000.000316.000.000162.000.000155.000.000290.000.000474.000.000295.000.000127.000.000390.000.000262.000.000117.000.0001.200.000.000990.000.000383.045.000371.000.000516.500.000750.000.000282.000.000371.000.000110.000.000144.000.000357.000.000134.000.000160.000.000850.000.000120.000.000116.000.000250.000.000111.000.000107.000.000123.000.000347.000.000400.000.000300.000.000141.000.000277.000.000420.000.000275.000.000850.000.000390.000.000445.000.000310.000.000277.000.000290.000.000347.000.000123.000.000340.000.000156.000.000395.000.000245.000.000130.000.000136.000.000476.500.000476.500.000225.000.000165.000.000451.000.000307.000.000138.000.000180.000.000620.000.000398.000.000276.000.000750.000.000245.000.000555.000.000450.000.000370.000.000162.000.000173.000.000629.000.000220.000.000390.000.000390.000.000314.000.000170.000.000200.000.000251.000.000168.000.000200.000.000340.000.000103.000.000230.000.0001.200.000.000355.000.000600.000.000378.300.0001.900.000.000160.000.000650.000.000102.000.000148.000.000500.000.000131.000.000142.000.000389.000.000522.500.000465.000.0001.250.000.000235.000.000164.000.000416.000.000318.000.000180.000.000390.000.000258.500.000205.000.000192.000.000522.500.000235.000.0001.250.000.000240.000.000320.000.000116.100.000224.000.000192.000.000250.000.000500.000.000345.000.000256.500.000323.000.000150.000.000245.000.000850.000.000127.000.000210.000.000354.000.000281.000.000200.000.000500.000.000300.000.000400.000.000330.000.000163.000.000430.000.000330.000.000320.000.000281.000.000850.000.000210.000.000127.000.000260.000.000525.000.000760.000.000387.000.000360.000.000246.000.000319.000.000190.000.000500.000.0001.400.000.000491.000.000970.000.000145.000.000420.000.000660.000.000515.000.000520.000.000770.000.000495.000.000160.000.000134.000.000489.900.000310.000.000270.000.000600.000.000261.500.000440.000.000372.000.000270.000.000880.000.000500.000.000590.000.000615.000.000131.000.000131.000.000131.000.000145.000.000125.000.000820.000.000319.000.000131.000.000142.000.000150.000.000125.000.000261.500.000248.000.000311.000.000620.000.000491.000.000460.000.000416.000.000216.000.000505.000.000492.000.000408.000.000245.000.000550.000.000177.000.000575.000.000270.000.000150.000.000270.000.000750.000.000880.000.000215.625.000176.000.000404.000.000250.000.000237.000.000340.000.000466.000.0002.900.000.000168.000.000168.000.000508.000.000160.000.000230.000.000426.000.000520.000.0003.500.000.000535.000.000373.000.000354.000.000245.000.000250.000.000500.000.000256.500.000210.000.000850.000.000525.000.000760.000.000260.000.000163.000.000430.000.000320.000.000330.000.000246.000.000300.000.000387.000.000360.000.000220.000.000193.000.000410.000.000247.990.000127.000.000281.000.000345.000.000183.000.000319.000.000500.000.000160.000.000270.000.000435.600.000491.000.000565.000.000159.000.000500.000.000322.000.000186.000.000444.000.000390.000.000202.000.000175.000.000190.000.000175.000.000386.990.000163.000.000530.000.000298.000.000238.000.000550.000.000145.000.000163.000.000570.000.000425.000.000330.700.000485.000.000500.000.000150.500.000367.000.000371.000.000394.500.000680.000.000600.000.000420.000.0001.650.000.000478.000.0001.350.000.000460.000.000455.000.000950.000.000620.000.000730.000.000800.000.000115.000.000503.000.000351.000.000325.000.000520.000.000330.000.000660.000.000570.000.000970.000.000450.000.000730.000.000400.000.000165.000.000630.000.000280.000.000315.000.000780.000.000138.000.000220.000.000300.000.000140.000.000425.000.000149.000.000163.000.000225.000.000332.000.000355.000.000136.000.000233.000.000350.000.000310.000.000450.000.000500.000.000340.000.000430.000.000258.000.000300.000.000745.000.000410.000.000440.000.000260.000.000600.000.000685.000.000870.000.000565.000.000460.000.000215.000.000400.000.000460.000.000215.000.000205.000.000280.000.000170.000.0001.050.000.000285.000.000530.000.0001.200.000.000800.000.000280.000.000280.000.000240.000.000290.000.000600.000.000250.000.000160.000.000550.000.000240.000.000315.000.000280.000.000400.000.000750.000.000520.000.000250.000.000440.000.000960.000.0002.200.000.000630.000.000970.000.0003.500.000.000265.500.000394.058.882220.000.000380.000.000509.395.301389.227.370300.000.000252.000.000233.000.000350.000.000175.000.000275.000.000330.000.000160.000.000510.000.000510.000.000495.000.000272.000.000312.000.000255.000.000317.000.000365.000.000510.000.000473.000.000272.000.000326.000.000245.000.000130.000.000250.000.000700.000.000444.000.000296.000.000565.000.000335.000.000498.000.000495.000.000342.000.000505.000.000295.000.000150.000.000450.000.000300.000.000534.000.000390.000.000500.000.000560.000.000490.000.000480.000.000190.000.000580.000.000118.000.000110.000.000420.000.000195.000.000491.000.0001.110.000.000350.000.000310.000.000490.000.0001.399.000.000400.000.000815.000.000160.000.000300.000.000280.000.000295.000.000175.000.000360.000.000550.000.000900.000.000519.000.000495.000.000840.000.0002.200.000.000720.000.000350.000.0001.350.000.000320.000.000650.000.000868.000.000305.000.000475.000.0001.200.000.000125.000.0001.800.000.000370.000.000480.000.000880.000.000483.000.000329.000.000198.000.000483.000.000530.000.000500.000.000491.000.000479.000.000519.000.000178.000.000491.000.000168.000.0001.000.000.000340.500.000366.000.000265.000.000500.000.000210.000.000388.000.000413.500.000282.000.000298.000.000350.000.000915.000.000240.000.000450.000.000237.000.000212.500.000535.000.000451.000.000499.800.000535.000.000550.000.000296.000.000530.000.000421.000.000435.800.000561.000.000167.000.000600.000.000530.000.0001.295.000.000474.500.000500.000.000347.000.000257.000.000315.000.000375.000.000311.000.000490.000.000600.000.000350.000.000330.000.000330.000.000490.000.000550.000.000850.000.000620.000.0001.200.000.000325.000.000460.000.000125.000.0001.550.000.000165.000.000750.000.000280.000.000220.000.000850.000.000155.000.000290.000.000212.500.000190.080.000390.000.000136.000.0001.250.000.000155.000.0001.300.000.0001.250.000.000278.000.000580.000.000340.000.000580.000.0001.500.000.000385.000.000355.000.000445.000.000740.000.0001.190.000.000173.000.000950.000.000355.000.000870.000.000740.000.000445.000.0001.500.000.000385.000.000640.000.000225.000.000137.000.000184.900.000154.000.000340.000.000104.000.000356.000.000460.000.000382.100.0001.700.000.000485.000.000370.000.000438.000.000230.000.000181.000.000113.000.000418.000.000311.000.000162.000.000176.000.000390.000.000136.000.0001.250.000.000155.000.0001.300.000.0001.250.000.000278.000.000580.000.000340.000.000580.000.0001.500.000.000385.000.000355.000.000445.000.000740.000.0001.190.000.000950.000.000144.000.000480.000.0001.080.000.0001.050.000.000178.000.000173.000.000870.000.000154.000.000340.000.000104.000.000225.000.000640.000.000184.900.000240.000.000400.000.000380.000.000260.000.000290.000.0001.350.000.000290.000.000530.000.000540.000.000290.000.000648.000.000300.000.000600.000.000520.000.000520.000.0001.200.000.000470.000.000250.000.000350.000.000322.000.000230.000.000435.000.000289.000.000168.000.000665.000.0004.200.000.000435.000.000580.000.000950.000.000350.000.000749.000.0001.100.000.000720.000.000360.000.0001.400.000.0001.200.000.000260.000.000315.000.000485.000.000380.000.000395.000.000145.000.000795.000.000215.000.0006.100.000.000370.000.000460.000.000910.000.000936.000.000270.000.000415.000.000399.000.000650.000.000970.000.0001.750.000.000510.000.000970.000.0008.800.000.000230.000.000600.000.000630.000.000200.000.000750.000.000489.000.000300.000.000155.500.0001.800.000.0002.100.000.000690.000.000499.000.000330.000.000495.000.000520.000.000470.000.000425.000.000480.000.000348.000.0001.300.000.000980.000.000950.000.000850.000.000650.000.0001.300.000.000260.000.000470.000.000495.000.000665.000.000980.000.000680.000.000495.000.000430.000.000800.000.0001.000.000.000890.000.0001.050.000.000525.000.000290.000.0001.100.000.000380.000.000560.000.000565.000.000570.000.000810.000.000340.000.000420.000.000465.000.000380.000.000484.000.000180.000.000160.000.000160.000.000980.000.000790.000.000790.000.000580.000.000200.000.000890.000.000680.000.000500.000.000400.000.0001.390.000.000220.000.0001.300.000.000280.000.000340.000.000347.000.000980.000.000175.000.000400.000.000825.000.000550.000.0002.000.000.000300.000.0001.100.000.000168.000.000600.000.000390.000.000390.000.000120.000.000390.000.000400.000.000140.580.0001.340.000.000360.000.0001.600.000.0001.200.000.000299.500.000850.000.000322.000.000600.000.000178.000.000160.000.0001.150.000.000290.000.0001.360.000.000601.000.000620.000.000417.780.000422.000.000350.000.000260.000.000280.000.000316.000.000357.000.000630.000.000317.000.000750.000.000220.000.000245.000.000247.000.000319.500.000250.000.000920.000.0003.600.000.000610.000.000430.000.000600.000.000178.000.000160.000.0001.150.000.000290.000.0001.360.000.000601.000.000620.000.000417.780.000422.000.000350.000.000260.000.000280.000.000225.000.000485.000.000325.000.000257.000.000129.000.000135.000.000296.000.000185.000.000209.500.000320.000.000236.000.000144.000.000149.000.000110.000.000335.000.000750.000.000510.000.000135.000.000185.000.000296.000.000209.500.000244.000.000425.000.0002.200.000.000371.000.000245.000.000275.000.000245.000.0001.350.000.000280.000.0002.150.000.000477.000.000675.000.000720.000.0001.250.000.000340.000.000260.000.000549.000.000400.000.000425.000.000280.000.000300.000.000264.000.000550.000.000620.000.000350.000.000245.000.000408.000.0001.120.000.000200.000.000320.000.0003.000.000.000404.000.000549.000.000618.000.0004.200.000.000406.000.000310.000.000810.000.0002.750.000.000330.000.000450.000.0001.800.000.000135.000.0001.650.000.000690.000.0008.550.000.000180.000.000249.000.000347.000.0003.900.000.000610.000.000160.500.000255.000.0003.300.000.000335.000.000189.000.000385.000.000189.000.000240.000.000294.000.000520.000.000475.000.000990.000.000289.000.000495.000.000666.000.000560.000.000518.000.0001.500.000.000170.000.000210.000.000178.000.0001.630.000.000450.000.000435.600.000257.000.000830.000.000485.000.000550.000.000530.000.000290.000.000380.000.000270.000.000480.000.000650.000.000187.000.000200.000.000205.000.000222.750.000486.000.000540.000.000130.000.000587.000.000150.000.000416.790.0001.250.000.000320.000.000540.000.000469.755.000138.000.000300.000.000300.000.0001.050.000.000430.000.000153.000.000420.750.000310.000.000287.000.000634.000.000125.000.000225.000.000374.500.000800.000.000900.000.000640.000.000210.000.000800.000.000327.000.000471.990.000519.800.000282.000.000311.000.000377.350.000316.000.000500.000.000528.000.000398.000.000300.000.000258.000.000356.000.000399.000.000336.000.000545.000.000570.000.000340.000.000451.000.000253.500.000370.990.000440.000.000385.000.000336.000.000357.400.000417.990.000480.650.000550.000.0002.200.000.000440.000.000357.400.000550.000.000163.000.000260.000.000417.990.000670.000.000379.990.000290.000.000500.000.000319.500.000180.000.000290.000.000472.000.000499.990.000559.947.000477.000.000270.000.000292.000.000419.990.000495.000.007276.000.000462.000.000288.000.000480.000.000479.030.000480.000.000534.000.000350.000.000458.000.000522.400.000480.000.000450.000.000322.000.000420.000.000395.990.0001.300.000.000685.000.000491.000.000520.000.000380.000.000633.900.000485.000.000530.000.000213.000.0002.500.000.000466.000.000160.000.000680.000.000432.990.000292.000.000170.000.000310.000.000570.000.000535.000.0001.250.000.000515.000.0002.700.000.000195.000.000325.000.000210.000.000350.000.000192.500.000337.000.000350.000.000311.000.0001.300.000.000940.000.000280.000.000340.000.000550.000.000472.000.000510.000.000380.000.000255.000.000290.000.000390.000.0001.400.000.000330.000.000140.000.000155.000.000680.000.0001.100.000.000360.000.000425.000.000147.000.000190.000.000120.000.000420.000.000505.000.000130.000.0001.380.000.000420.000.000550.000.000420.000.000310.000.000580.000.000980.000.000270.000.000435.000.000900.000.000490.000.000380.000.000660.000.000850.000.0001.550.000.000390.000.000230.000.000620.000.000180.000.000900.000.000660.000.000455.000.000450.000.000700.000.0002.300.000.000280.000.000930.000.000850.000.000980.000.000480.000.000840.000.000410.000.000520.000.000390.000.000535.000.000374.000.000117.000.000520.000.000274.600.000362.000.000601.000.000200.000.000183.000.000260.000.000230.000.000130.000.000300.000.000495.000.000170.000.000650.000.000485.200.000840.000.000520.000.0003.300.000.000420.000.000699.000.0001.150.000.000480.000.000282.000.000450.000.000365.000.000800.000.000483.000.000514.990.000500.000.000850.000.000350.000.000280.000.0003.300.000.000340.000.000609.800.000346.990.000339.000.000116.000.000230.000.0001.100.000.000680.000.000133.200.000423.000.000586.700.0001.080.000.000748.900.000339.000.000370.000.000270.000.000500.000.000268.000.000310.000.000372.760.0001.150.000.0001.500.000.000486.990.000282.000.000450.000.0001.600.000.000305.000.000800.000.000420.000.000480.000.000250.000.000315.000.000120.000.000290.000.000365.000.000800.000.000483.000.000500.000.000346.990.000339.000.000609.800.000514.990.000340.000.000133.200.000680.000.000339.000.0001.100.000.0003.300.000.000445.000.000190.000.000210.000.000510.000.000477.000.000290.000.000406.000.000267.990.000423.000.000296.000.000268.000.000165.000.000500.000.000255.000.000142.000.000365.000.000167.000.000375.000.000287.990.000498.900.000740.000.000270.000.000305.000.000580.000.000327.000.000214.830.0001.500.000.000350.000.000530.000.000310.000.0001.150.000.000372.760.0001.800.000.000520.000.000165.000.000160.000.000600.000.000170.000.000820.000.0001.200.000.000883.000.000750.000.000495.000.000300.000.000220.000.000365.000.000630.000.000490.000.000485.000.000580.000.0001.340.000.000665.000.000490.000.000580.000.000375.000.000470.000.000266.000.000485.000.0001.700.000.0001.400.000.000398.000.000540.000.000350.000.000960.000.000650.000.000420.000.000165.000.000360.000.000850.000.000795.000.000410.000.0001.100.000.000498.000.000345.000.000780.000.000195.000.000295.000.000600.000.000190.000.000193.000.000610.000.000950.000.000700.000.000395.000.000320.000.000560.000.000275.000.000800.000.000360.000.000750.000.000202.000.000565.000.000490.000.000465.000.000300.000.000780.000.000170.000.0001.200.000.000450.000.000770.000.000345.000.0001.300.000.000387.000.000850.000.000200.000.0001.700.000.000699.000.000800.000.000275.000.000265.000.000650.000.000347.000.000560.000.000275.000.000800.000.000331.500.000296.000.000288.000.000410.000.000240.000.000350.000.000235.000.000182.000.000685.000.000830.000.0001.000.000.000740.000.000845.000.000860.000.0003.300.000.000950.000.000720.000.000250.000.000350.000.000235.000.0001.550.000.000365.000.000509.395.301495.000.000400.000.0001.144.253.0001.379.000.0001.393.529.000260.000.000642.437.0001.226.400.000155.000.000175.000.000169.000.000150.000.000360.000.000125.000.000500.000.000365.000.000330.000.000530.000.000485.000.000500.000.000515.000.000518.000.000409.365.000515.000.000447.500.000504.900.000500.000.000360.000.000480.000.0001.789.000.000747.552.8001.400.000.000153.000.000430.000.000490.000.00013.200.000.000900.000.000698.000.0001.385.733.652450.000.0001.200.000.0002.190.000.000875.000.0001.300.000.000500.000.000504.900.000447.500.000360.000.000165.000.000595.000.0001.344.332.0001.860.000.000550.000.000594.000.000711.582.986680.000.0002.333.673.498845.000.000620.000.000385.000.0001.722.400.0001.250.000.0001.250.000.000989.000.000340.000.000225.000.000820.000.000650.000.0001.350.000.000700.000.000450.000.000550.000.000430.000.000280.000.000160.000.000320.000.0002.400.000.000195.000.000200.000.000650.000.000200.000.0001.500.000.000160.000.0001.500.000.000420.000.000450.000.000490.000.0001.800.000.000490.000.000238.000.000870.000.000285.000.000630.000.000990.000.000220.000.000485.000.000235.000.000249.900.000492.134.0001.400.000.000525.000.000820.000.000695.000.000630.000.0001.600.000.000470.500.000243.000.000495.000.000440.000.000157.200.0001.700.000.000375.000.000143.000.000900.000.000630.000.000750.000.000490.000.0002.000.000.000490.000.0001.359.000.0001.100.000.000270.000.000398.800.000878.200.000340.000.000363.000.000260.000.000260.000.000290.000.000600.000.000555.000.000730.000.000500.000.000340.000.000520.000.000750.000.000463.000.0002.300.000.000288.000.000231.298.464450.000.0001.100.000.000250.000.000380.000.000425.000.000750.000.000350.000.0001.200.000.000241.280.000330.000.000232.483.200890.000.000240.000.000486.000.000236.000.000939.275.008750.000.000750.000.000645.000.000395.500.000420.000.000170.000.000390.000.000285.000.000480.000.000260.000.000590.000.000270.000.000630.000.000765.000.000510.000.000386.000.000253.100.000360.000.000374.500.000415.000.000439.000.000144.000.000462.500.000449.000.000450.000.000872.000.000370.000.000142.500.000146.500.000147.000.000164.000.000325.000.000396.000.000396.000.000430.000.000488.000.000750.000.000406.500.000415.000.000579.000.000660.000.0001.500.000.000900.000.000640.000.000379.000.000580.000.0001.580.000.0002.800.000.000700.000.000345.000.000600.000.0005.299.999.744240.000.000432.000.000680.000.000630.000.000335.000.000233.000.000310.000.00094.500.000220.000.000310.000.000410.000.000466.000.000385.000.000415.000.000185.000.000298.500.000930.000.000820.000.000700.000.000425.000.0002.300.000.000850.000.000370.000.0002.600.000.000800.000.000828.400.000310.000.000160.000.0001.100.000.000365.000.000599.000.000220.000.000350.000.0001.350.000.000250.000.000165.000.000520.000.000950.000.000365.000.000690.000.000158.000.000410.000.000580.000.000237.000.000220.000.0001.300.000.000380.000.000594.000.0001.900.000.0001.690.000.0002.400.000.000320.000.0001.300.000.0002.200.000.0002.500.000.0001.050.000.0001.180.000.000360.000.000590.000.000740.607.900250.000.0002.950.000.0001.180.000.000280.000.000639.000.0002.300.000.000144.000.000890.000.000580.000.0001.350.000.000895.000.0002.600.000.000100.000.000270.000.000340.000.000438.000.000780.000.000111.500.000229.000.000350.000.000150.000.000380.000.000170.000.000338.000.000384.000.000311.000.000469.000.000800.000.000170.000.000235.000.000449.500.000270.164.320680.000.000419.000.000680.000.00094.500.000628.000.000520.000.000360.000.000160.000.000460.000.000320.000.000640.000.0001.484.999.936330.000.000750.000.0002.500.000.000670.000.0001.200.000.000400.000.000750.000.000390.000.000800.000.000580.000.000550.000.000165.000.000580.000.000750.000.000990.000.000345.000.0003.200.000.000350.000.000610.000.000599.000.000205.000.000279.280.1601.400.000.0003.149.100.0323.149.100.032280.000.000251.000.0001.200.000.000500.000.000500.000.0005.800.000.000379.000.000680.000.000240.000.000377.000.000197.000.000590.000.0003.627.099.9041.150.000.000230.000.000260.000.0001.700.000.000134.135.000109.700.000324.100.000430.000.0001.100.000.000310.000.000220.000.000425.000.000230.000.000440.000.0003.400.000.000415.000.0001.200.000.000590.000.000280.000.000255.000.0001.600.000.0001.000.000.000331.000.000720.000.000160.000.000200.000.000474.000.000320.000.000500.000.000430.000.0002.200.000.000776.000.000400.000.000450.000.000370.000.000370.000.000175.000.000175.000.0001.650.000.000165.000.000950.000.0001.200.000.000850.000.000700.000.000599.000.000330.000.000120.000.000700.000.000150.000.000750.000.000485.000.000450.000.000555.000.0001.100.000.000170.000.000485.000.0005.299.999.744350.000.0001.200.000.000670.000.0001.100.000.000245.000.000620.000.000690.000.000800.000.000950.000.0001.600.000.000199.000.000460.000.000270.000.000730.000.000650.000.000540.000.000530.000.000389.000.000650.000.000610.000.000174.000.000302.000.000620.000.000285.000.000338.000.000388.500.000406.500.0001.195.000.000530.000.000510.000.000248.500.000465.000.0001.150.000.000550.000.000360.000.0001.250.000.000380.000.000600.000.000430.000.000380.000.000590.000.000350.000.000215.000.000233.000.000930.000.000430.000.000340.000.000280.000.000150.000.000185.000.0001.000.000.000850.000.000310.000.000750.000.000223.000.000370.000.000750.000.0002.470.000.128660.000.000360.000.000223.000.000345.000.000590.000.000730.000.000724.460.000499.000.0002.080.000.000320.000.00084.000.000129.800.000332.500.000600.000.000129.800.000670.000.000199.900.0001.250.000.000699.927.0001.500.000.000775.564.000206.375.776145.000.000470.000.000332.500.000280.500.000157.200.000650.000.0001.100.000.000235.000.000330.000.000470.500.000497.391.000395.000.000157.200.000206.375.776350.000.000155.000.000322.000.000795.000.000157.200.000384.000.000249.900.000249.900.000950.000.000650.000.0002.500.000.0002.400.000.000525.000.0001.740.000.000350.000.0001.970.000.000439.300.000980.000.0001.500.000.000340.000.0001.500.000.000595.000.000120.000.000435.000.000332.000.000575.000.00099.920.000960.000.000770.000.000460.000.0001.000.000.000455.000.000135.000.000897.000.000323.100.000450.000.000250.000.0001.850.000.000152.000.000259.100.000407.342.016130.000.000168.000.0001.246.000.000500.000.000145.000.000120.000.000900.000.0001.200.000.000250.000.000140.000.000385.000.000160.000.000550.000.000580.000.000315.000.000355.000.000400.000.000650.000.000620.000.000400.000.000550.000.000160.000.000731.000.000670.000.0001.050.000.0002.500.000.000750.000.000130.000.000250.000.000160.000.0001.000.000.0001.500.000.000165.000.000615.000.000252.000.000345.000.000550.000.000270.000.000350.000.000350.000.000350.000.000142.000.000249.500.000325.000.000249.000.000298.500.000400.000.0001.330.000.000600.000.000117.000.0001.014.570.000185.000.000185.000.0001.100.000.000470.000.000720.000.0002.095.000.064360.000.0003.200.000.000420.000.000230.000.000233.000.000199.000.000350.000.000320.000.000311.000.000380.000.000100.000.000400.000.000145.000.000474.500.000290.000.000343.000.000620.000.000143.000.000330.000.000197.000.0001.500.000.000498.431.000550.000.000650.000.000327.900.000800.000.000850.000.000690.000.0001.500.000.000900.000.0001.300.000.000830.000.0001.400.000.000340.000.000550.000.000770.000.0002.200.000.0005.500.000.000500.000.0001.600.000.0002.100.000.000350.000.000160.000.0001.450.000.000450.000.000384.500.0001.010.000.000169.500.000275.000.000462.000.000394.500.000368.000.000382.000.000295.000.000155.000.000404.000.0001.250.000.000395.000.000205.000.000453.500.000262.000.000270.000.000420.000.000162.000.000350.000.000384.000.0001.500.000.0001.350.000.000365.000.000310.000.000228.000.000680.000.000310.000.000950.000.000420.000.000430.000.000895.000.000435.000.000897.000.000430.000.000390.000.000360.000.000350.000.000520.000.000330.000.000360.000.0001.090.000.000390.000.0003.300.000.000220.000.000420.000.000790.000.000720.000.000290.000.0004.200.000.000800.000.000520.000.000155.000.000320.000.000136.000.000395.000.000860.000.0002.700.000.000390.000.000995.000.000390.000.0001.500.000.000700.000.000470.000.000140.000.0001.700.000.0002.500.000.000750.000.000280.000.000140.000.000850.000.0001.300.000.00090.000.0003.000.000.000500.000.000120.000.0002.500.000.0002.500.000.000998.000.000914.300.000250.000.000850.000.0001.200.000.000280.000.000580.000.000170.000.000237.000.000245.000.000181.000.000455.000.000150.000.000155.000.000460.000.000540.000.000340.000.000278.000.000790.000.000600.000.000319.000.000177.000.000575.000.000700.000.000132.000.000413.500.000412.000.000120.000.000620.000.0004.200.000.000150.500.000900.000.000230.000.00096.000.000270.000.000270.000.000315.000.000447.500.000150.000.000800.000.000720.000.000440.000.000844.000.000360.000.000200.000.000500.000.0001.500.000.000474.500.0001.500.000.000240.000.000680.000.000660.000.0001.400.000.0004.500.000.000645.000.000980.000.000420.000.000390.000.000240.000.0002.530.000.0005.200.000.000638.000.0001.200.000.0001.100.000.000430.000.0002.400.000.0004.238.000.000380.000.000278.000.000979.999.0001.590.000.000500.000.000850.000.000960.000.000162.000.000400.000.000740.000.0002.250.000.000800.000.000155.000.000580.000.0002.500.000.000357.000.000599.000.0001.950.000.000880.000.000470.000.000147.000.000215.000.0001.700.000.000205.000.000200.000.0003.200.000.000840.000.000743.710.000834.460.000160.000.000270.000.000570.000.000170.000.000990.000.000398.000.0001.400.000.0001.900.000.000720.000.0001.150.000.0001.350.000.000535.000.000500.000.000240.000.0001.200.000.000310.000.000350.000.000320.000.0001.450.000.0002.200.000.000242.000.000350.000.000400.000.000185.000.000485.000.000494.000.000270.000.0001.200.000.000980.000.0001.350.000.000850.000.000256.000.000340.000.000385.000.0002.900.000.000970.000.0001.350.000.000240.000.0007.000.000.0002.650.000.0001.100.000.0002.700.000.0002.500.000.0001.200.000.000230.000.000540.000.000710.000.000610.000.000170.000.0001.700.000.000240.000.0001.299.000.000900.000.000780.000.0002.500.000.000750.000.000495.000.000650.000.0001.000.000.000330.000.000630.000.000850.000.000850.000.000950.000.000900.000.0005.250.000.0001.750.000.000380.000.000960.000.000460.000.0002.755.500.0001.700.000.0001.550.000.000335.000.000590.000.000590.000.000390.000.000265.000.000150.000.000459.000.0002.850.000.000531.000.0001.650.000.0001.200.000.0001.499.999.000405.000.000430.000.000500.000.000560.000.000620.000.000540.000.000550.000.000800.000.000950.000.000525.000.000846.000.000635.000.000345.000.000880.000.000960.000.000460.000.000330.000.000260.000.000430.000.0001.580.000.000540.000.000190.000.000700.000.0003.900.000.0001.200.000.000380.000.000230.000.0001.400.000.000450.000.000920.000.000580.000.000440.000.000980.000.000750.000.000385.000.000450.000.000432.000.000800.000.000410.000.000890.000.000760.000.000206.000.000225.000.0001.800.000.000160.000.000980.000.000592.500.000594.000.000285.000.0001.100.000.0001.800.000.000477.000.000620.000.000650.000.000355.000.000498.000.0001.450.000.000125.000.000660.000.000680.000.000680.000.0001.193.390.000460.000.000795.000.000679.000.000255.000.000190.000.000170.000.000900.000.000530.000.000230.000.000850.000.000450.000.000360.000.000143.000.000806.000.000700.000.000480.000.000500.000.0002.200.000.000280.000.000480.000.000500.000.000508.000.000343.000.000375.000.000310.000.000280.000.000480.000.000350.000.000340.000.000250.000.000260.000.0001.150.000.000300.000.000650.000.000482.000.000129.690.000145.000.000136.000.000150.000.000393.000.000183.000.000136.000.000134.000.000124.000.000129.000.000124.000.000650.000.000155.000.000150.500.000128.000.000128.000.000128.000.000196.000.000196.000.0002.300.000.000690.000.0001.100.000.000550.000.000570.000.000195.000.000350.000.000749.999.999375.000.000535.000.000215.000.000320.000.000160.000.000600.000.000180.000.000130.000.000125.500.000340.000.000131.000.000136.000.000116.000.000136.000.000130.000.000127.500.000145.000.000126.500.000128.500.000155.000.000125.000.000125.000.000150.000.000147.300.000125.730.000150.000.000120.800.000150.000.000102.000.000174.000.000680.000.000720.000.000240.000.000468.270.000145.000.000790.000.0003.807.000.0001.000.000.000450.000.000499.000.000360.000.000310.000.000790.000.000365.000.000210.000.000780.000.000425.000.0001.200.000.0001.000.000.000430.000.000410.000.000700.000.000850.000.0001.500.000.000140.000.000450.000.0001.650.000.0001.250.000.000285.000.000880.000.0001.250.000.000153.000.000850.000.0001.500.000.000323.000.000285.000.000552.600.000430.000.0001.700.000.000182.000.000479.030.000125.000.000176.000.000148.000.000155.000.000136.000.000130.000.000122.000.000148.000.000120.800.000134.000.000125.500.000102.000.000129.000.000450.000.000136.000.000147.300.000332.000.000150.000.000130.000.000205.000.000128.000.000129.000.000126.500.000102.000.000120.800.000131.000.000148.000.000122.000.000142.000.000125.500.000134.000.000125.000.000136.000.000136.000.000126.500.000147.300.000142.000.000280.400.000120.800.000122.000.000125.000.000125.000.000150.000.000136.000.000134.000.000134.000.000159.000.000159.000.000550.000.000880.000.000165.000.0004.250.000.0001.500.000.000600.000.000450.000.000154.000.000550.000.000350.000.000395.000.000464.000.0001.200.000.000160.000.000152.000.000270.000.0009.200.000.000262.000.000543.000.0003.500.000.000275.000.000812.955.500880.000.000745.000.000980.000.0001.500.000.000800.000.000157.000.000150.000.000310.000.000136.000.000153.500.000125.000.000130.000.000128.000.000153.500.000125.500.000134.000.000130.000.000128.000.000150.000.000124.000.000147.300.000131.000.000148.000.000128.000.000128.000.000120.800.000155.000.000134.000.000131.000.000147.300.000124.000.000153.500.000124.000.000129.000.000120.800.000129.000.000129.000.000150.000.000385.000.000188.000.000277.000.000232.000.000285.000.000442.436.000508.000.0003.500.000.000270.000.000411.000.000270.000.000318.000.000298.500.000280.000.000860.000.000116.000.000120.000.0001.100.000.000410.000.000800.000.000516.742.260520.000.000280.000.0001.670.000.0002.000.000.000359.000.0002.900.000.0005.000.000.0001.650.000.0001.070.000.000385.000.000600.000.000299.000.000460.000.000450.000.000354.000.000860.000.000298.500.000280.000.000270.000.000318.000.0001.280.000.0001.900.000.000335.000.000980.000.000450.000.0001.000.000.0002.150.000.0001.100.000.0002.500.000.000400.000.000470.000.000250.000.000510.000.000550.000.000175.000.000650.000.0003.400.000.0001.250.000.0001.100.000.000133.000.000750.000.0001.800.000.000330.000.000188.000.000170.000.000128.000.000540.000.000270.000.000365.000.000382.000.000280.000.000750.000.0001.700.000.000130.000.0001.150.000.000470.000.000350.000.000200.000.0002.200.000.000430.000.000436.000.000429.000.000825.000.000348.000.0001.300.000.000575.000.0001.380.000.000367.500.000251.000.000429.000.000430.000.000436.000.000382.000.000330.000.000380.000.000750.000.000310.000.000800.000.0001.700.000.000750.000.0001.800.000.000280.000.000188.000.000470.000.000200.000.000635.000.000170.000.000778.000.000130.000.0001.150.000.000350.000.000270.000.000365.000.000128.000.000160.000.000540.000.000133.000.000199.000.000750.000.000220.000.000249.000.000365.000.000328.000.000540.000.000460.000.000265.000.000279.400.000377.900.000163.500.000460.000.0003.000.000.000440.000.000345.000.000650.000.0001.250.000.000950.000.0002.800.000.000670.000.000347.000.000760.000.000440.000.000430.000.000820.000.0001.300.000.000139.999.9991.300.000.000749.000.000599.900.0001.500.000.0001.880.000.000890.000.000139.999.999270.000.000420.000.000500.000.000565.000.0001.400.000.000215.000.0001.300.000.000495.000.000865.000.000490.000.000650.000.0002.350.000.0001.600.000.0001.050.000.000745.000.0001.500.000.000360.000.0001.320.000.000295.000.000560.000.000491.000.000695.000.0001.200.000.000422.000.0001.300.000.000590.000.000980.000.0002.190.000.000280.000.000419.600.000160.500.000442.436.000360.000.0001.150.000.0004.000.000.000730.000.0006.500.000.000339.000.000482.000.000405.000.000375.000.000423.000.000500.000.0005.200.000.0001.960.000.000830.000.000980.000.0003.500.000.0001.200.000.0004.800.000.000480.000.0002.800.000.0001.080.000.000950.000.000850.000.000980.000.0001.100.000.000670.000.0001.836.000.000760.000.000440.000.000347.000.000274.000.000290.000.000270.000.0001.300.000.000460.000.0002.190.000.000240.000.000380.000.000215.000.0001.300.000.000495.000.000139.999.999900.000.000390.000.000749.000.000405.084.000458.930.000890.000.0001.880.000.000270.000.000480.000.000545.000.000320.000.000599.900.000815.402.051235.000.000150.000.000510.000.000249.000.000356.000.000303.960.000690.000.000528.000.000739.000.000739.000.000528.000.000850.000.000624.750.000408.000.000462.000.000600.000.000490.000.000462.000.000372.000.000275.000.000115.000.000149.000.000528.000.000310.000.000355.000.000528.000.000739.000.000325.000.000739.000.000320.000.000192.000.0001.100.000.000183.680.000142.000.000390.000.0001.500.000.000150.480.000739.000.000930.000.0002.200.000.000133.000.000212.500.000270.000.000305.000.000270.000.000190.000.000320.000.000210.000.000404.000.000149.000.000190.000.000149.000.000217.000.000111.000.000390.000.000250.000.000650.000.000350.000.000890.000.000320.000.0001.960.000.0005.200.000.0002.500.000.000410.000.000670.000.000650.000.0002.030.000.0001.050.000.0001.490.000.000600.000.000526.000.000483.000.000268.000.000458.000.000273.000.000339.000.000482.000.000315.000.000375.000.000258.000.0001.600.000.0001.050.000.000422.000.000830.000.0003.900.000.000990.000.0004.000.000.000980.000.0005.083.000.0005.400.000.000149.000.0002.700.000.000117.810.000240.000.000210.000.000580.000.0001.600.000.000186.000.000190.000.000110.000.000182.000.000169.000.000205.000.000272.000.000330.000.000295.000.000330.000.000237.000.0001.050.000.000190.000.000295.000.000205.000.000149.000.000126.000.000235.000.000739.000.000404.000.000330.000.000295.000.000500.000.0001.200.000.000739.000.000739.000.000720.000.000739.000.000390.000.000172.000.000250.000.000170.000.000303.960.000303.960.000528.000.000739.000.000311.000.000250.000.000169.000.000258.360.000190.000.000180.000.000205.000.000175.000.000190.000.000190.000.000985.000.000520.000.000900.000.0001.250.000.000650.000.000138.000.000125.000.000123.000.000800.000.000365.000.000170.000.000147.000.000510.000.0001.700.000.000205.000.000212.500.000190.000.0003.200.000.0003.200.000.000739.000.000149.000.0004.750.000.000190.000.000365.000.000212.500.000700.000.000313.000.000850.000.000305.000.000145.000.000739.000.000176.000.000176.000.000176.000.000250.000.000176.000.000170.000.000176.000.000250.000.000169.000.000690.000.0001.890.000.000170.000.000700.000.000165.000.000165.000.000780.000.000207.200.000134.000.000138.000.000115.500.000126.000.000795.000.000499.000.000245.500.000870.000.000634.000.000175.000.000680.000.000900.000.000670.000.000450.000.000500.000.000500.000.000500.000.000175.000.000690.000.000390.000.000390.000.000479.000.000740.000.000390.000.000830.000.000658.000.000820.000.0001.400.000.000550.000.000248.000.000410.000.000420.000.0001.210.000.000260.000.000298.000.000550.000.000171.000.0001.480.000.000870.000.000800.000.000357.000.000300.000.000480.000.000153.000.000147.000.000750.000.000418.000.000600.000.000390.000.000530.000.0001.600.000.000508.000.0001.793.000.0002.095.000.000136.000.000550.000.000870.000.000350.000.000430.000.000550.000.000245.000.000162.000.000680.000.000330.000.000142.000.000119.000.000348.000.000116.000.000119.000.000323.000.000130.000.000130.000.0001.600.000.000228.000.000840.000.000315.000.000325.000.0001.495.000.000397.000.000169.000.000172.000.000176.000.000438.000.000241.200.000528.000.000450.000.000739.000.000739.000.000116.100.000250.000.000172.000.000177.000.000450.000.000310.000.000180.000.000250.000.0001.000.000.000210.000.000380.000.000400.000.0001.890.000.000520.000.000739.000.0001.200.000.000170.000.000395.000.000570.000.000275.000.000190.000.000690.000.000860.000.000795.000.0001.650.000.000630.000.000570.000.000785.000.000250.000.000272.250.000450.000.000455.000.000575.000.000265.000.000750.000.000272.250.000440.000.000500.000.0001.540.000.000119.000.0001.600.000.000475.000.000327.000.000340.000.000710.000.000500.000.000450.000.000440.000.0001.250.000.000590.000.000290.500.000290.500.000171.000.000360.000.000245.000.000245.000.000290.500.0001.590.000.000795.000.000550.000.000350.000.000400.000.000510.000.000690.000.000700.000.000250.000.000169.000.000172.000.000176.000.000116.100.000395.000.000570.000.000275.000.000203.000.000840.000.000466.000.0002.095.000.000550.000.000870.000.0005.000.000.0001.850.000.000194.000.000323.000.000900.000.000950.000.0001.100.000.000285.000.000323.000.000508.000.000720.000.000385.000.000140.000.0001.480.000.0001.190.000.000490.000.000115.000.000670.000.000131.000.000150.000.000300.000.000168.000.000680.000.000160.000.0001.105.000.000354.000.000180.000.000177.000.0001.700.000.000996.000.000121.000.000353.000.000134.000.000115.500.000207.200.000126.000.000498.000.000165.000.000165.000.000780.000.000670.000.000450.000.000500.000.000500.000.000500.000.0001.495.000.0004.000.000.000199.000.000325.000.000840.000.000460.000.000499.500.000430.000.000660.000.0001.790.000.000480.000.000466.000.000466.000.0001.100.000.000508.000.000508.000.000850.000.000230.000.000295.000.000950.000.000550.000.000330.000.000163.000.000339.000.000486.000.000450.000.000260.000.000460.000.0003.000.000.000415.000.000380.000.000136.000.000133.000.000545.000.000760.000.000465.000.000105.000.000134.000.000476.500.000148.000.000360.000.000423.000.000610.000.000400.000.000397.000.000480.000.0001.300.000.00082.170.000354.000.000140.000.000397.000.000430.000.0002.850.000.000466.000.000466.000.0001.100.000.000405.000.000490.000.000508.000.000470.000.000700.000.000508.000.000128.700.000930.000.000660.000.0001.790.000.000480.000.000850.000.000353.000.0001.950.000.000144.000.000144.000.000144.000.000435.000.000585.000.000488.000.000550.000.000153.000.000483.000.000175.000.000245.000.000500.000.000385.000.000285.000.000173.000.000390.500.000550.000.000354.000.000870.000.000449.000.000550.000.000895.000.0001.600.000.000980.000.000360.000.000489.000.000500.000.000620.000.000610.000.000152.000.000650.000.000230.000.000390.000.000330.000.0002.900.000.000850.000.000995.000.000870.000.000634.000.000175.000.000175.000.000207.200.000134.000.000138.000.000115.500.000126.000.000450.000.000500.000.000500.000.000153.000.000500.000.000310.000.000210.000.000475.000.0001.500.000.000485.000.000465.000.0001.495.000.000550.000.000600.000.000425.000.000530.000.0002.200.000.000369.000.000285.000.000300.000.0001.200.000.000300.000.0001.250.000.0001.170.000.000371.000.000300.000.000890.000.000130.000.000499.500.0003.850.000.000460.000.000498.000.000300.000.000480.000.000155.000.000320.000.000217.000.000199.000.0004.000.000.000325.000.000182.000.000200.000.000371.000.000180.180.000720.000.000750.000.000900.000.000650.000.000870.000.000270.000.000213.000.0001.900.000.0002.000.000.000163.000.000620.000.000600.000.0002.100.000.000450.000.000820.000.000750.000.000529.000.000889.000.000319.000.000120.000.000365.000.000360.000.000323.000.000390.000.000390.000.000390.000.000390.000.0002.200.000.000340.000.000720.000.000665.000.0001.350.000.0001.050.000.000270.000.000850.000.000880.000.000150.000.000528.000.000330.000.000525.000.000890.000.000550.000.0001.000.000.000500.000.0002.500.000.0001.200.000.000550.000.000850.000.000400.000.000735.000.0001.250.000.000295.000.000450.000.000514.000.000590.000.000435.000.000630.000.000420.000.000390.000.000390.000.000390.000.000450.000.000140.000.000347.000.000250.000.000165.000.000390.000.000390.000.000130.000.000345.000.0001.500.000.000296.000.000310.000.0001.195.000.000228.000.000585.000.000390.000.000180.000.000470.000.000520.000.000456.000.000390.000.000530.000.000390.000.000390.000.000390.000.000390.000.000250.000.0001.200.000.000278.000.000800.000.000580.000.000390.000.000400.000.000135.000.000720.000.000695.000.000390.500.000490.000.000148.000.000180.000.000176.500.000600.000.0001.290.000.000472.000.000175.000.000380.000.000710.000.000750.000.000390.000.000310.000.000272.250.000137.000.000470.000.000190.000.000400.000.000450.000.000450.000.000515.000.000410.000.000300.000.000650.000.000152.000.000340.000.000173.500.000525.000.0002.700.000.000750.000.000159.000.000159.000.000159.000.000159.000.000437.000.000203.823.000159.000.000437.000.000180.000.000895.000.000645.000.000295.000.000610.000.0001.340.000.000545.000.000331.500.000430.000.000287.000.000990.000.000795.000.000419.600.000196.000.0001.250.000.000360.000.000550.000.000482.000.000335.000.000398.600.000476.500.000515.000.000465.000.0002.300.000.000422.000.000397.000.000411.000.000535.000.000720.000.0001.000.000.000356.000.0001.170.000.000422.000.000560.000.000330.000.000390.500.0001.000.000.000490.000.000163.000.000530.000.000173.000.000422.000.000340.500.000449.500.000850.000.000255.000.000278.000.000395.000.000230.000.000422.000.000400.000.000425.000.000825.000.000298.000.000920.000.000850.000.000900.000.000196.000.0001.100.000.000210.000.000256.000.000320.000.000550.000.0001.500.000.000540.000.000167.000.000153.000.000520.000.000980.000.0004.500.000.0003.300.000.000700.000.0001.615.000.000280.000.0001.250.000.000240.000.000116.000.000265.000.000365.000.000372.760.000358.000.000422.000.000397.000.000720.000.0001.000.000.000356.000.000390.500.0001.000.000.000490.000.000315.000.000355.000.000440.000.000237.000.0001.200.000.000137.000.000470.000.000340.000.000173.500.000400.000.0002.000.000.000422.000.000400.000.000695.000.000770.000.000465.000.000515.000.000465.000.0002.300.000.000116.000.000390.000.000390.000.000630.000.000330.000.0001.050.000.000408.000.000870.000.000409.000.000510.000.000482.000.000430.000.000535.000.0001.250.000.000255.000.000475.000.000177.000.000560.000.000113.000.000675.000.000285.000.000285.000.000142.800.000587.000.000388.000.000430.000.0001.000.000.000372.000.000345.000.000390.000.000700.000.000458.000.0003.800.000.000278.000.000680.000.000730.000.000190.000.000145.000.000220.000.000400.000.000275.000.000316.000.000480.000.000153.000.0001.700.000.000357.000.000470.000.000450.000.000390.000.000390.000.000355.000.000980.000.000134.000.000360.000.000515.000.000214.000.000278.000.000450.000.000270.000.000196.000.000131.000.000255.000.000167.000.0001.250.000.000322.000.0001.100.000.000840.000.0003.800.000.000487.000.000220.000.0001.400.000.0001.700.000.000142.800.000587.000.000388.000.000430.000.0001.000.000.000372.000.000345.000.000390.000.000700.000.000458.000.000404.000.000630.000.0001.036.000.000700.000.000295.000.000330.000.0001.050.000.000408.000.000830.000.0001.395.000.000220.800.000550.000.0001.670.000.000350.000.000375.000.000125.000.000228.000.000408.000.000400.000.000670.000.000690.000.0001.350.000.000338.000.000480.700.000298.000.000500.000.000163.500.000419.600.000172.000.000479.000.000134.000.000437.000.000437.000.0002.700.000.000279.000.000489.000.000220.000.000338.000.0001.100.000.000190.000.000739.000.000190.000.000450.000.000381.000.000950.000.000545.000.000278.000.000169.000.000462.000.0002.200.000.0001.050.000.000479.000.0001.200.000.000739.000.000790.000.000370.000.000440.000.000298.000.000489.000.000880.000.000167.500.000371.000.000595.000.000490.000.000277.000.000168.000.000680.000.000510.000.000158.000.000310.000.000440.000.000165.000.000399.000.000510.000.000282.150.000520.000.000370.260.000373.000.000285.000.0001.000.000.000277.000.000320.000.000387.000.000212.000.000650.000.0001.350.000.000510.000.000260.000.000158.000.000240.000.000158.000.000145.000.000195.000.000158.000.000420.000.000358.000.000323.000.0003.600.000.000545.000.000230.000.000309.000.000624.750.000437.000.000437.000.000310.000.000680.000.000437.000.000570.000.000338.000.0001.100.000.000200.000.000450.000.000119.000.000870.000.000158.000.000170.000.000739.000.000790.000.000370.000.000288.000.000650.000.000489.000.000462.000.000153.000.000408.000.000980.000.000850.000.000524.000.000750.000.000160.500.000177.000.000540.000.0001.150.000.000134.000.000200.000.000528.000.0001.300.000.000528.000.0002.000.000.0001.950.000.000522.500.000130.000.000119.000.000698.000.000175.000.000131.000.000167.000.000249.000.000255.000.000196.000.000207.000.000256.000.000880.000.000624.750.000196.000.000445.000.000115.000.000276.000.000298.000.000550.000.000196.000.000116.820.000550.000.000950.000.000238.000.000820.000.000120.000.000159.000.0001.600.000.000880.000.000445.000.000196.000.000115.000.000256.000.000624.750.000257.000.0001.490.000.000275.000.000600.000.000667.000.000238.000.000480.000.000370.000.000285.000.000195.000.000680.000.0002.000.000.000249.000.000298.500.000207.000.000210.000.000372.000.000205.000.000295.000.0001.450.000.000420.000.000330.000.000330.000.000330.000.000437.000.000437.000.000116.000.0001.200.000.000387.000.000410.000.000483.000.000510.000.000212.000.000277.000.000320.000.000387.000.000650.000.0001.350.000.000510.000.000260.000.000158.000.000240.000.000158.000.000145.000.000145.500.000280.000.000438.000.000474.500.000380.000.000340.000.000517.500.0001.100.000.000290.000.000380.000.000341.000.000320.000.000295.000.000266.000.000485.000.000260.000.000187.000.000595.000.0001.320.000.000750.000.000750.000.000645.000.000395.500.000420.000.000170.000.000390.000.000285.000.000480.000.000260.000.000590.000.000270.000.000630.000.000765.000.000510.000.000386.000.000253.100.000360.000.000374.500.000415.000.000439.000.000144.000.000462.500.000449.000.000450.000.000872.000.000370.000.000142.500.000146.500.000147.000.000164.000.000325.000.000396.000.000396.000.000430.000.000488.000.000750.000.000406.500.000415.000.000579.000.000660.000.0001.500.000.000900.000.000665.000.000395.000.0002.300.000.000390.000.000260.000.000425.000.000690.000.000600.000.000250.000.000800.000.0001.090.000.000540.000.000810.000.000332.500.000214.000.000670.000.000175.000.00085.000.000332.500.000176.000.000235.000.000249.900.000492.134.0001.400.000.000525.000.000820.000.000695.000.000630.000.0001.600.000.000470.500.000850.000.000370.000.0002.600.000.000800.000.000828.400.000310.000.000160.000.0001.100.000.000365.000.000599.000.000220.000.000350.000.0001.350.000.000250.000.000165.000.000520.000.000950.000.000377.000.000800.000.000820.000.000820.000.000690.000.0002.500.000.000240.000.000650.000.000850.000.0001.150.000.000950.000.000950.000.000120.000.000260.000.000290.000.000600.000.000555.000.000730.000.000500.000.000340.000.000520.000.000750.000.000463.000.0002.300.000.000288.000.000231.298.464450.000.0001.100.000.000250.000.000380.000.000425.000.000750.000.000350.000.0001.200.000.000241.280.000330.000.000232.483.200890.000.000240.000.000486.000.000236.000.000939.275.008220.000.000149.600.000620.000.000487.000.000320.000.000664.320.000265.700.0001.150.000.000455.000.0001.000.000.000155.000.000466.000.000330.000.000796.000.000306.200.000124.000.000580.000.000800.000.000820.000.000650.000.000232.483.200389.649.984450.000.000759.000.000410.000.000950.000.000237.716.992260.000.000245.000.000126.050.0002.849.999.872237.716.992260.000.000245.000.000126.050.0002.849.999.872697.000.000340.000.000950.000.000920.000.000650.000.0005.699.999.744885.000.0001.200.000.000330.000.000283.000.0001.400.000.000135.000.000595.000.000215.000.000520.000.000195.500.000780.000.0001.280.000.000338.000.000580.000.0001.250.000.000350.000.000690.000.000511.000.000650.000.000630.000.000475.000.000420.000.000500.000.000125.000.000200.000.0001.250.000.000780.000.000210.000.000250.000.000112.000.000407.342.016518.000.000530.000.000306.000.000235.000.000255.000.0001.150.000.000700.000.000750.000.000185.000.000290.500.000160.000.000560.000.0001.900.000.000465.000.000560.000.000465.000.000129.000.000365.000.000220.000.0001.300.000.000380.000.000594.000.0001.900.000.0001.690.000.0002.400.000.000320.000.0001.300.000.0002.200.000.0002.500.000.0001.050.000.0001.180.000.000360.000.000590.000.000740.607.900250.000.0002.950.000.0001.180.000.000280.000.000639.000.0002.300.000.000144.000.000890.000.000580.000.0001.350.000.000895.000.0002.600.000.000100.000.000270.000.000670.000.0001.100.000.000245.000.000620.000.000690.000.000800.000.000950.000.0001.600.000.000199.000.000460.000.000270.000.000730.000.000650.000.000540.000.000530.000.000389.000.000650.000.000199.000.000240.000.0005.299.999.744360.000.0001.250.000.000680.000.000950.000.000480.000.000435.000.000520.000.000720.000.000250.000.000520.000.000435.000.000520.000.000720.000.000250.000.000520.000.000260.000.000470.000.000330.000.0001.600.000.000950.000.000490.000.000700.000.0001.100.000.000990.000.0002.500.000.0001.200.000.000245.000.000220.000.000335.000.000140.000.000280.000.000599.000.000185.000.0001.000.000.000850.000.000310.000.000750.000.000223.000.000370.000.000750.000.000590.000.000730.000.000724.460.000499.000.0002.080.000.000320.000.00084.000.000129.800.000332.500.000600.000.000129.800.000670.000.000199.900.0001.250.000.000699.927.0001.500.000.000775.564.000345.000.000206.375.776145.000.000470.000.000332.500.000280.500.000157.200.000650.000.0001.100.000.000235.000.000330.000.000470.500.000497.391.000331.000.000720.000.000160.000.000200.000.000474.000.000320.000.000500.000.000430.000.0002.200.000.000776.000.000400.000.000450.000.000370.000.000370.000.000175.000.000175.000.0001.650.000.000165.000.000950.000.0001.200.000.000850.000.000700.000.000599.000.000330.000.000250.000.000800.000.000358.000.000185.000.000530.000.000350.000.000960.000.000770.000.000460.000.0001.000.000.000455.000.000135.000.000897.000.000323.100.000450.000.000250.000.0001.850.000.000152.000.000259.100.000407.342.016130.000.000168.000.0001.246.000.000500.000.000670.000.0002.470.000.128850.000.000270.000.000665.000.000450.000.0001.025.000.00098.000.000329.000.000400.000.0005.200.000.000340.000.0001.250.000.000949.100.0321.250.000.000628.000.000878.200.000425.000.000440.000.000265.000.000240.000.000315.790.016105.000.0001.000.000.000358.500.000120.000.000650.000.000297.500.000300.000.000560.000.000252.000.000345.000.000550.000.000270.000.000350.000.000350.000.000350.000.000142.000.000249.500.000325.000.000249.000.000298.500.000400.000.0001.330.000.000600.000.000117.000.0001.014.570.000185.000.000185.000.0001.100.000.000470.000.000720.000.0002.095.000.064360.000.0003.200.000.000420.000.000230.000.000233.000.000199.000.000350.000.000320.000.000311.000.000380.000.000100.000.000400.000.000145.000.000474.500.000290.000.000343.000.000620.000.000143.000.000330.000.000430.000.000400.000.0001.170.000.0001.900.000.000875.000.000366.000.000980.000.000478.900.0004.300.000.0001.000.000.000470.000.0001.300.000.000520.000.0001.200.000.0006.160.000.000870.000.000420.000.0001.550.000.0001.500.000.0004.000.000.000340.000.000700.000.0001.390.000.000998.000.000157.000.0001.100.000.000490.000.000875.000.000270.000.000610.000.000450.000.000384.500.0001.010.000.000169.500.000275.000.000462.000.000394.500.000368.000.000382.000.000295.000.000155.000.000404.000.0001.250.000.000395.000.000205.000.000453.500.000262.000.000270.000.000420.000.000162.000.000350.000.000384.000.0001.500.000.000650.000.000250.000.000280.000.000560.000.000200.000.0001.700.000.000500.000.00074.300.000144.000.000140.000.00060.000.000400.000.000320.000.000950.000.0001.900.000.0001.120.000.000550.000.000260.000.000450.000.000440.000.0001.350.000.000480.000.000568.000.000145.000.0003.000.000.000155.000.000320.000.000136.000.000395.000.000860.000.0002.700.000.000390.000.000995.000.000390.000.0001.500.000.000700.000.000470.000.000995.000.000390.000.0001.500.000.000700.000.000470.000.000140.000.0001.700.000.0002.500.000.000750.000.000280.000.000140.000.000850.000.0001.300.000.00090.000.0003.000.000.000500.000.000120.000.0002.500.000.0002.500.000.000998.000.000914.300.000250.000.000850.000.0001.200.000.000280.000.000580.000.000170.000.000237.000.000245.000.000181.000.000520.000.000229.000.000135.000.000800.000.000150.000.000596.000.000870.000.000320.000.0001.690.000.000750.000.000750.000.0001.070.000.0001.250.000.0001.690.000.000680.000.000750.000.000800.000.000700.000.000640.000.000618.000.0001.070.000.000320.000.000120.000.000596.000.000897.000.000610.000.000750.000.000320.000.000310.000.000980.000.000117.000.000127.000.000120.000.0003.627.099.90498.000.0001.450.000.000260.000.000264.710.000262.000.000320.000.000229.000.000360.000.000285.500.000252.000.000252.000.000939.275.008435.000.000240.000.000260.000.000125.000.000230.000.000102.000.000550.000.000265.700.000474.000.000215.000.000176.000.000144.000.000170.000.000500.000.000215.000.000176.000.000144.000.000170.000.000500.000.000232.000.000420.500.000409.500.000480.000.000315.000.000990.000.000670.000.000975.000.0001.600.000.0001.450.000.000633.710.0001.900.000.000743.710.000633.710.0002.400.000.0001.550.000.0008.358.000.000743.710.000834.460.000160.000.000270.000.000570.000.000170.000.000990.000.000398.000.000535.000.000500.000.000240.000.0001.200.000.000310.000.000350.000.000320.000.0001.450.000.0002.200.000.000242.000.000350.000.000400.000.000185.000.000485.000.000494.000.000270.000.0001.200.000.000980.000.0001.350.000.000850.000.000256.000.000340.000.000385.000.0002.900.000.000970.000.0001.350.000.000240.000.0007.000.000.0002.650.000.0001.100.000.0002.700.000.0002.500.000.0001.200.000.000230.000.000540.000.000710.000.000610.000.000170.000.0001.700.000.000240.000.0001.299.000.000900.000.000780.000.0002.500.000.000750.000.000495.000.000650.000.000385.000.0001.400.000.0001.820.000.000460.000.000650.000.0001.250.000.000390.000.000480.000.0001.300.000.000550.000.000280.000.0001.250.000.000140.000.000230.000.000650.000.000790.000.000350.000.000880.000.000750.000.000318.000.0001.100.000.000750.000.0001.100.000.000850.000.000790.000.0001.200.000.0002.150.000.000950.000.000360.000.000550.000.000560.000.000620.000.000540.000.000550.000.000800.000.000950.000.000525.000.000846.000.000635.000.000345.000.000880.000.000960.000.000460.000.0002.400.000.0004.238.000.000380.000.000278.000.000979.999.0001.590.000.000500.000.000850.000.000960.000.000162.000.000400.000.000740.000.0002.250.000.000800.000.000155.000.000580.000.0002.500.000.000357.000.000599.000.0001.950.000.000880.000.000470.000.000147.000.000215.000.0001.700.000.000205.000.000200.000.0003.200.000.000840.000.000567.240.000570.000.000830.000.0001.250.000.000520.000.000890.000.000315.000.000900.000.000335.000.0001.350.000.0002.800.000.000360.000.000450.000.000920.000.000610.000.000950.000.000850.000.000870.000.000280.000.000700.000.000335.000.000550.000.000450.000.000960.000.0001.700.000.000345.000.000485.000.000520.000.000330.000.000750.000.000650.000.000585.000.000750.000.000380.000.0004.000.000.000190.000.000370.000.0001.600.000.000285.000.0001.240.000.000975.000.000410.000.000670.000.000230.000.000345.000.000450.000.000960.000.0006.720.791.000370.000.0003.143.226.0001.833.000.0001.150.000.000399.000.0001.750.000.000340.000.0001.000.000.000330.000.000630.000.000850.000.000850.000.000950.000.0003.950.000.000750.000.000130.000.0002.290.000.000760.000.000800.000.000530.000.000140.000.000380.000.000340.000.000285.000.0002.750.000.000930.000.000820.000.000480.000.000750.000.000400.000.000350.000.0001.160.000.0001.500.000.000460.000.000420.000.000220.000.000285.000.000315.000.000560.000.000220.000.000890.000.000980.000.0001.300.000.000800.000.000650.000.000440.000.000280.000.000430.000.000285.000.000690.000.000220.000.000220.000.000315.000.000220.000.000560.000.000285.000.000410.000.0001.000.000.000350.000.000190.000.000174.000.000680.000.000720.000.000240.000.000468.270.000145.000.000790.000.0003.807.000.0001.000.000.000450.000.000499.000.000360.000.000310.000.00016.000.000.000210.000.0001.200.000.000430.000.000320.000.000375.000.000620.000.000359.000.000400.000.0002.750.000.000425.000.000950.000.000950.000.000600.000.000135.000.000587.000.0001.350.000.000550.000.000630.000.000760.000.000242.000.000615.000.000345.000.000740.000.0001.080.000.000190.000.000255.000.000280.000.000480.000.000350.000.000130.000.000148.000.000155.000.000479.030.000120.800.000134.000.000125.500.000122.000.000148.000.000102.000.000125.000.000125.000.000128.000.000148.000.000129.000.000128.000.000102.000.000131.000.000155.000.000145.000.000153.500.000129.000.000131.000.000125.000.000102.000.000128.500.000145.000.000450.000.000153.500.000129.000.000102.000.000131.000.000129.000.000128.000.000125.000.000155.000.000145.000.000125.000.000102.000.000131.000.000128.500.000145.000.000153.500.000129.000.000148.000.000153.500.000129.000.000450.000.000136.000.000612.000.000159.000.000131.000.000129.690.000130.000.000150.000.000130.000.000129.000.000150.000.000124.000.000150.000.000131.000.000128.000.000125.000.000120.800.000150.000.000102.000.000150.000.000125.500.000122.000.000150.000.000122.000.000120.800.000125.000.000120.800.000134.000.000134.000.000145.000.000130.000.000125.730.000128.000.000145.000.000136.000.000125.000.000155.000.000128.500.000145.000.000129.000.000131.000.000129.000.000129.000.000131.000.000102.000.000130.000.000136.000.000124.000.000130.000.000128.000.000131.000.000136.000.000125.000.000153.500.000129.000.000150.000.000128.000.000127.500.000136.000.000125.500.000130.000.000134.000.000125.000.000125.500.000142.000.000136.000.000125.000.000150.000.000145.000.000125.000.000136.000.000147.300.000128.000.000255.000.000540.000.000240.000.000190.000.000466.000.000498.000.000609.000.000336.000.000730.000.000220.000.0001.150.000.000580.000.000620.000.0001.300.000.000350.000.000670.000.000179.999.999460.000.000651.000.000622.000.000419.999.999280.000.000193.000.000460.000.000179.999.000640.000.000390.000.000536.000.000670.000.000600.000.000136.000.000120.800.000134.000.000134.000.000145.000.000130.000.000125.730.000128.000.000145.000.000120.800.000150.000.000136.000.000125.000.000155.000.000102.000.000150.000.000131.000.000128.500.000145.000.000129.000.000129.000.000120.800.000125.000.000125.000.000153.500.000126.500.000128.500.000155.000.000124.000.000147.300.000380.000.000280.000.000188.000.000770.000.000635.000.000750.000.000600.000.000650.000.000410.000.0001.400.000.000218.000.000449.000.000348.000.0001.300.000.000575.000.0001.380.000.000477.000.000367.500.000251.000.000393.400.000592.000.000165.000.000150.500.000298.000.000140.000.000270.000.000285.000.000500.000.000380.000.000240.000.000685.000.000395.000.000320.000.000360.000.000220.000.000195.000.000345.000.000240.000.000214.000.000370.000.000980.000.000249.000.000534.000.0002.200.000.0001.390.000.0001.700.000.000595.000.000450.000.000180.000.000328.000.000163.500.000460.000.0003.000.000.000408.000.000142.000.000419.600.000116.000.000358.000.000160.500.000442.436.000270.000.000318.000.000298.500.000280.000.000860.000.000116.000.000120.000.0001.100.000.000410.000.000800.000.000516.742.260520.000.000280.000.0001.670.000.0002.000.000.000359.000.0002.900.000.0005.000.000.0001.650.000.0001.070.000.000602.113.626882.532.9461.300.000.000565.000.000995.000.0001.400.000.0002.600.000.000850.000.000480.000.000380.000.0004.600.000.0001.850.000.000750.000.000890.000.000820.000.0001.500.000.000650.000.0001.400.000.000730.000.000460.000.0001.260.000.000416.000.000168.000.000416.000.000510.000.000388.000.000320.000.000319.000.000280.000.000350.000.000261.500.000485.000.000180.000.0001.450.000.000250.000.000408.000.000230.000.000477.000.000280.000.000255.000.000330.000.0001.200.000.000345.000.0002.200.000.000450.000.0003.000.000.000595.000.000260.000.000260.000.000640.000.000385.000.000600.000.000475.000.000825.000.000415.000.000430.000.000460.000.000450.000.0003.500.000.000255.000.000260.000.000261.500.000408.000.000408.000.000116.000.000505.000.000510.000.000167.000.000419.600.000534.000.000445.000.000300.000.000354.000.000299.000.000690.000.000508.000.000442.436.000232.000.000285.000.000277.000.000188.000.000385.000.000489.000.000340.000.000323.000.0001.170.000.000450.000.000580.000.000408.000.000730.000.000280.000.000298.500.000411.000.000270.000.000318.000.000550.000.0001.150.000.0001.200.000.0002.900.000.0002.800.000.000900.000.000290.500.000474.500.0001.100.000.000390.000.000875.000.000375.000.000349.000.0001.300.000.0002.865.000.000406.000.000920.000.000519.000.000500.000.0003.600.000.000280.000.000225.000.000451.000.000350.000.000491.000.0001.550.000.000560.000.0001.250.000.000980.000.0001.250.000.0002.800.000.0002.200.000.0005.500.000.000165.000.000261.500.000405.000.000423.000.000500.000.000550.000.0001.050.000.0001.490.000.000600.000.000273.000.000268.000.000315.000.000458.000.000258.000.000670.000.000274.000.000290.000.000347.000.000346.000.000739.000.000900.000.000316.000.000739.000.000739.000.000350.000.000350.000.000739.000.000528.000.000840.000.0001.000.000.000739.000.000330.000.000418.000.000354.000.000490.000.000980.000.000615.000.0001.500.000.000830.000.0002.500.000.000335.000.0002.150.000.0001.000.000.0001.100.000.000450.000.000980.000.000250.000.0001.800.000.0001.500.000.000295.000.0001.280.000.000920.000.000900.000.000870.000.000750.000.0001.700.000.0001.600.000.000860.000.000116.000.000332.808.000340.000.000411.000.000500.000.0001.550.000.0001.080.000.0002.200.000.0007.500.000.000390.000.000245.000.0002.700.000.0001.000.000.000397.000.0007.000.000.000418.000.000468.000.000422.000.000396.000.0007.200.000.000740.000.000451.000.000350.000.000440.000.000720.000.0001.300.000.0001.300.000.0002.300.000.000900.000.000290.500.000474.500.0002.200.000.000120.000.000116.000.000168.000.0001.150.000.0001.680.000.000680.000.000740.000.0001.850.000.000750.000.000820.000.000890.000.0001.500.000.000460.000.0001.350.000.000435.000.0002.000.000.000145.000.000398.000.000320.000.000950.000.000760.000.000550.000.000450.000.000560.000.000880.000.0001.400.000.000730.000.000650.000.000380.000.000550.000.000416.000.000680.000.000330.000.0002.000.000.000170.000.000390.000.000320.000.000890.000.000450.000.000404.000.000150.000.000850.000.000624.750.000249.000.000142.000.000510.000.000235.000.000950.000.000290.000.000900.000.000180.000.000180.000.000310.000.0001.100.000.000303.960.000303.960.0001.040.000.000350.000.000115.000.000330.000.0002.200.000.000129.000.000205.000.000760.000.000311.000.000739.000.000528.000.000739.000.0001.600.000.0001.300.000.000739.000.000528.000.000134.000.0001.750.000.000350.000.000365.000.000550.000.000330.000.000172.000.000169.000.000250.000.000380.000.000170.000.000210.000.0001.000.000.000311.000.000315.000.000148.000.000190.000.000365.000.000169.000.000177.000.000169.000.000200.000.000190.000.000400.000.000176.000.000177.000.000170.000.000172.000.000241.200.000275.000.000700.000.000690.000.000435.000.000415.000.000190.000.000365.000.000226.000.000116.000.000360.000.000739.000.000739.000.000520.000.000170.000.000510.000.000388.000.000261.500.000485.000.000416.000.000180.000.000230.000.000350.000.000430.000.000550.000.000245.000.000162.000.000680.000.000330.000.000142.000.000119.000.000348.000.000116.000.000119.000.000323.000.000130.000.000130.000.0001.600.000.000228.000.000840.000.000315.000.000325.000.0001.495.000.000397.000.000397.000.000455.000.000575.000.000327.000.000750.000.000272.250.000440.000.000265.000.000510.000.000795.000.000550.000.000785.000.000570.000.000340.000.000475.000.000440.000.000500.000.000450.000.0001.540.000.000171.000.000300.000.0001.250.000.000300.000.000155.000.0001.170.000.000890.000.000130.000.000371.000.000320.000.000217.000.000369.000.000285.000.0003.850.000.000460.000.000530.000.0002.200.000.000499.500.0004.000.000.000138.000.000134.000.000115.500.000126.000.000860.000.000500.000.000634.000.000450.000.000500.000.000500.000.000500.000.000870.000.000680.000.000900.000.000670.000.000245.500.0001.650.000.000630.000.000795.000.000690.000.000499.000.0004.000.000.000199.000.000300.000.0001.200.000.000300.000.0001.170.000.000371.000.0001.250.000.000840.000.000337.110.000130.000.0001.480.000.0001.190.000.000115.000.000285.000.000323.000.000194.000.000323.000.0001.100.000.000670.000.000490.000.000630.000.0003.000.000.000400.000.000300.000.000720.000.000800.000.000508.000.000200.000.000620.000.000168.000.000144.000.000715.000.000850.000.000690.000.000400.000.000550.000.000980.000.000385.000.000380.000.000960.000.000560.000.000175.000.000175.000.000500.000.000225.000.000499.500.000980.000.000500.000.000522.000.000895.000.000140.000.000320.000.000354.000.000186.000.000397.000.000397.000.000397.000.000245.000.000354.000.000397.000.000361.000.000397.000.000397.000.000354.000.000190.000.000420.000.000550.000.000220.000.000500.000.000250.000.000177.000.0001.700.000.000165.000.000850.000.000353.000.000680.000.000400.000.000550.000.0002.600.000.000275.000.000475.000.000355.000.000996.000.000180.000.000121.000.000300.000.000167.000.0001.950.000.000650.000.000530.000.000450.000.000275.000.000550.000.0001.090.000.000210.000.000475.000.000500.000.000735.000.0001.000.000.000290.000.000165.000.000169.000.000176.000.0001.950.000.000144.000.000435.000.000175.000.000390.000.000259.000.000368.000.000310.000.000580.000.000360.000.000278.000.000323.000.000176.500.000278.000.000148.000.000250.000.000295.000.000980.000.000230.000.000950.000.000390.500.000460.000.000545.000.0003.000.000.000460.000.000149.000.000149.000.000700.000.000250.000.000550.000.000498.000.000290.500.000158.000.000337.110.000130.000.000490.000.000800.000.0001.395.000.000250.000.000310.000.000168.000.000600.000.0003.000.000.0002.900.000.000115.000.000194.000.000323.000.000900.000.000950.000.0001.100.000.000285.000.000323.000.000508.000.000720.000.000385.000.000486.000.000255.000.000395.000.0002.000.000.000460.000.000470.000.000190.000.000255.000.000278.000.000400.000.000340.000.000173.500.000525.000.000137.000.000390.500.000180.000.000490.000.000148.000.000278.000.000468.000.000360.000.000255.000.000390.500.000490.000.0001.000.000.000720.000.000265.000.000315.000.000680.000.000730.000.000169.000.000177.000.000177.000.000148.000.000190.000.000380.000.000210.000.0001.040.000.000550.000.000111.000.000217.000.000237.000.000220.000.000322.000.000115.000.000310.000.000134.000.000900.000.000311.000.000149.000.0004.750.000.0003.200.000.0003.200.000.000397.000.000397.000.000397.000.000245.000.000186.000.000354.000.000397.000.000395.000.000390.000.000700.000.0001.250.000.000312.000.000460.000.000475.000.000483.000.000449.500.000173.000.000153.000.000285.000.000173.000.000465.000.000630.000.000849.000.000500.000.000700.000.000475.000.000450.000.0002.600.000.000449.500.0001.250.000.000422.000.000483.000.000350.000.000460.000.000430.000.000550.000.000475.000.000995.000.0004.200.000.000356.000.0001.300.000.000400.000.0002.520.000.000426.000.000390.500.0001.450.000.000491.000.000550.000.0001.000.000.000550.000.000960.000.000353.000.000475.000.000260.000.000515.000.0001.600.000.000255.000.000420.000.0001.800.000.000825.000.000289.900.000449.000.000152.000.000980.000.000860.000.0001.480.000.000870.000.0001.950.000.000148.000.000180.000.0001.158.199.973404.000.000360.000.000315.000.000473.000.000203.000.000203.823.0001.200.000.000143.000.000165.000.000235.000.0001.800.000.000360.000.000275.000.000190.000.000400.000.000145.000.000220.000.000515.000.000468.000.000360.000.000411.000.000535.000.000700.000.000520.000.000515.000.000410.000.000220.000.000144.000.000995.000.000980.000.000820.000.000196.000.000535.000.0001.250.000.000255.000.000475.000.000330.000.000295.000.000475.000.000116.000.000377.900.000310.000.000490.000.0002.000.000.000196.000.000560.000.000113.000.000419.000.000345.000.000136.600.000360.000.000550.000.0001.036.000.000700.000.000295.000.000522.500.000225.000.000275.000.000830.000.000420.000.000167.000.000550.000.000422.000.000356.000.000385.000.000175.000.000245.000.000700.000.000245.000.000910.000.000895.000.0001.600.000.000242.550.000242.550.000580.000.000700.000.000149.000.000430.000.000780.000.000850.000.000500.000.000203.823.000390.000.000330.000.000241.200.000490.000.0001.050.000.000850.000.000500.000.000458.000.000404.000.000795.000.000196.000.000419.600.000825.000.000290.000.000196.000.0001.050.000.0001.150.000.000430.000.000482.000.000630.000.000345.000.000390.000.000700.000.000458.000.000142.800.000372.000.0001.050.000.000408.000.000220.000.0001.700.000.000365.000.000515.000.000357.000.000500.000.000155.000.000700.000.000330.000.000170.000.000180.000.000180.000.000180.000.0001.200.000.0001.850.000.000180.000.000449.000.000255.000.000420.000.000590.000.0001.500.000.000350.000.000620.000.000500.000.000422.000.000134.000.000870.000.000360.000.000489.000.000680.000.000322.000.000300.000.000475.000.000750.000.000390.000.000496.000.000327.000.000265.000.000500.000.000440.000.0001.540.000.000870.000.0001.195.000.000585.000.000400.000.000735.000.000390.000.000390.000.000530.000.000390.000.0001.250.000.000630.000.000456.000.000228.000.000180.000.000470.000.000550.000.000415.000.000380.000.000136.000.000900.000.000995.000.000476.500.000460.000.000155.000.000390.000.000259.000.000368.000.000580.000.000278.000.000323.000.000176.500.000472.000.0001.290.000.000380.000.000710.000.000750.000.000272.250.000310.000.000144.000.000435.000.0001.950.000.000175.000.000520.000.000456.000.000168.000.000950.000.000390.500.000250.000.000460.000.000353.000.000585.000.000488.000.000397.000.000720.000.0001.000.000.0001.150.000.000465.000.000390.000.000535.000.000700.000.000483.000.000449.500.0001.250.000.000460.000.000422.000.000475.000.000475.000.000450.000.0002.600.000.0001.250.000.000390.500.000400.000.000356.000.0001.300.000.000491.000.000550.000.0002.900.000.000850.000.000330.000.000995.000.000203.823.000390.000.000230.000.000600.000.000187.000.000687.000.000419.600.000165.000.000399.000.000510.000.000282.150.000520.000.000370.260.000129.000.000550.000.000487.000.000749.000.000373.000.000153.000.000550.000.000516.000.000322.000.000900.000.000354.000.000650.000.000393.000.000210.000.000144.000.000323.000.000270.000.0001.050.000.0001.250.000.0001.000.000.000230.000.000190.080.000150.000.000640.000.000372.000.000460.000.000550.000.000449.000.000354.000.0003.100.000.000830.000.000310.000.000450.000.000490.000.000380.000.0001.500.000.000470.000.000491.000.000390.000.000460.000.000390.000.000270.000.0001.800.000.000430.000.000550.000.000825.000.000475.000.000995.000.000650.000.000610.000.000152.000.000280.000.000820.000.000260.000.000390.000.000153.000.0001.615.000.000520.000.000475.000.000242.550.000255.000.0001.200.000.000491.000.000400.000.000390.500.000390.500.000475.000.0001.550.000.0001.150.000.0001.050.000.000522.500.000245.000.000630.000.000330.000.0001.050.000.000408.000.000870.000.000409.000.000510.000.000482.000.000430.000.000535.000.000372.760.0001.380.000.000450.000.000440.000.0001.600.000.000280.000.000320.000.000390.000.000177.000.000825.000.0001.550.000.000175.000.000167.000.000153.000.000428.000.000530.000.000358.000.000256.000.000525.000.000153.000.000475.000.000210.000.000365.000.000335.000.000520.000.000550.000.000365.000.000116.000.000265.000.000290.000.000250.000.000360.000.0001.350.000.000375.000.000500.000.000780.000.000667.000.000496.000.000372.000.000295.000.000420.000.000330.000.000330.000.000205.000.000116.000.000437.000.000437.000.000330.000.0001.450.000.000365.000.000830.000.000450.000.000530.000.000290.500.000266.000.0002.550.000.000528.000.000130.000.0001.700.000.000980.000.000629.000.000430.000.000360.000.000220.800.0001.050.000.000850.000.000830.000.000220.800.000500.000.000458.000.000196.000.000196.000.000560.000.000113.000.000345.000.0001.036.000.000377.900.000475.000.000310.000.000475.000.000490.000.0002.000.000.000255.000.000550.000.0001.250.000.000700.000.000295.000.000330.000.000630.000.000142.800.000372.000.0001.050.000.000408.000.000345.000.000390.000.000700.000.000458.000.000680.000.000330.000.000158.000.000510.000.000387.000.000310.000.000455.000.000580.000.000739.000.000335.000.000462.000.0001.100.000.000620.000.000880.000.0002.200.000.0001.050.000.0001.200.000.000595.000.000479.000.000371.000.000347.000.000489.000.000298.000.000207.000.000167.000.000850.000.0001.400.000.000601.000.000483.000.000422.000.000350.000.000404.000.000398.422.000285.000.0002.200.000.0001.250.000.000130.000.000130.000.000479.000.000270.000.0001.050.000.000354.000.000900.000.000129.000.000550.000.000153.000.000550.000.000516.000.000650.000.000749.000.000322.000.000487.000.000260.000.000490.000.000322.000.0001.100.000.000370.000.000990.000.000520.000.0001.050.000.000180.000.000381.000.000285.000.000440.000.000277.000.000168.000.000300.000.000145.000.000850.000.000155.000.000587.000.000450.000.000290.000.000385.000.000137.000.0001.100.000.000119.000.000450.000.000870.000.000158.000.000152.000.000177.000.000525.000.000570.000.000167.500.000880.000.000950.000.000116.000.0001.200.000.000298.000.0001.290.000.000800.000.000127.000.000130.000.0002.180.000.000380.000.0001.100.000.000153.000.000160.500.000112.000.000524.000.000750.000.0002.550.000.000385.000.000408.000.000870.000.000158.000.000850.000.000119.000.000450.000.000170.000.000570.000.000920.000.000620.000.000119.000.0002.700.000.000550.000.000980.000.000440.000.000130.000.000460.000.000380.000.000180.000.000560.000.000895.000.000380.000.0001.200.000.000299.900.000330.000.000530.000.000340.000.000300.000.000195.000.000800.000.000660.000.000990.000.0001.100.000.0006.500.000.000800.000.000258.000.000130.000.000540.000.000480.000.000500.000.000500.000.0004.729.592.0005.500.000.000470.000.0001.400.000.000620.000.000580.000.000400.000.0004.000.000.0001.050.000.000650.000.000920.000.000920.000.000295.000.000269.500.000350.000.000950.000.000420.000.000491.000.000650.000.000495.000.000420.000.000234.000.000189.000.000950.000.000686.000.0001.100.000.0001.750.000.000434.000.000331.000.008700.000.000336.000.000700.000.000950.000.000265.200.000190.000.000425.000.000390.000.000338.000.000165.000.000269.500.000150.500.000450.000.000850.000.000370.000.000635.000.000790.000.000340.000.000320.000.000215.000.000423.000.0001.200.000.000430.000.000380.000.008700.000.000370.000.000718.000.000339.800.000450.000.000635.000.000215.000.000820.000.000339.800.0001.200.000.000450.000.000430.000.0081.200.000.000299.900.000330.000.000340.000.000530.000.000300.000.000195.000.000800.000.000990.000.000660.000.0006.500.000.000800.000.000258.000.0001.100.000.0001.400.000.000500.000.000480.000.000540.000.000470.000.0004.729.592.0005.500.000.000130.000.000500.000.000422.000.000167.000.0001.100.000.000298.000.000650.000.000686.000.0001.750.000.000434.000.000350.000.000420.000.000620.000.000495.000.000405.000.0001.300.000.000650.000.000150.000.000330.000.000400.000.000250.000.000920.000.000650.000.0001.630.000.000546.000.000548.000.000495.000.0004.000.000.000269.500.000234.000.000189.000.000420.000.000495.000.000920.000.000150.000.000330.000.000495.000.000650.000.000950.000.0001.050.000.000189.000.000295.000.000269.500.000920.000.000420.000.000950.000.000500.000.000580.000.0002.400.000.000189.000.000818.000.000950.000.000350.000.000165.000.000530.000.000550.000.000880.000.000182.000.000700.000.000980.000.000650.000.000398.000.000385.000.000340.000.000580.000.000140.000.000380.000.000470.000.000545.000.000337.000.000580.000.000500.000.000498.000.000820.000.000116.000.000131.000.000175.000.000460.000.000170.000.000470.000.0001.300.000.000235.000.000289.000.000425.000.000535.000.000598.000.0001.450.000.000534.000.000860.000.000500.000.000800.000.000330.000.000800.000.000330.000.000535.000.000575.000.000120.000.000380.000.000160.000.000146.500.000230.000.000115.000.000780.000.000474.000.000125.500.000519.000.0001.200.000.000720.000.000330.000.000328.000.000110.533.500132.000.0003.960.000.000199.000.000125.000.000375.000.000215.000.000397.000.000263.000.000146.000.000205.000.000139.000.000265.000.000218.000.000428.000.000500.000.000132.000.000110.533.500199.000.000490.000.000380.000.000520.000.000470.000.000370.000.000380.000.0001.300.000.000260.000.000711.000.000450.000.000340.000.000800.000.000132.000.0001.200.000.000128.000.000530.000.000370.000.000620.000.000525.000.000510.000.0001.100.000.000230.000.000395.000.000860.000.000500.000.000800.000.000330.000.000535.000.000575.000.000230.000.000115.000.000780.000.000474.000.0001.200.000.000720.000.000125.500.000397.000.000330.000.000519.000.000215.000.000263.000.000375.000.000125.000.000146.500.000160.000.000380.000.000120.000.000110.533.500205.000.000328.000.000450.000.000428.000.000218.000.000146.000.000139.000.000132.000.000199.000.000500.000.000490.000.0003.960.000.000250.000.000380.000.000850.000.000265.000.000260.000.0001.300.000.000380.000.000520.000.000450.000.000470.000.000370.000.000711.000.000340.000.000800.000.000132.000.0001.200.000.000128.000.000530.000.000205.000.000445.000.000380.000.000889.698.927270.000.000360.000.000450.000.000298.000.000260.000.00098.000.000187.000.000134.000.000117.000.000200.000.000285.000.000215.000.000244.000.000262.000.000500.000.000468.000.000290.000.000330.000.000116.000.000297.000.000242.000.000327.000.000257.000.000465.000.000337.000.000398.422.000163.000.000257.000.000477.000.000298.500.000131.000.000167.000.000380.000.000110.000.000355.000.000160.000.000222.000.000180.000.000407.000.000154.000.000357.000.000152.000.000187.000.000105.000.000154.000.000124.000.000145.660.000152.000.000245.000.00082.000.000396.000.000132.000.000170.000.000250.000.000340.000.000490.000.000328.000.000199.000.000120.000.000121.000.000110.000.000558.000.000150.000.000330.000.000191.070.000230.000.000180.000.000365.000.000133.000.000136.620.000171.000.000118.500.000186.000.000116.000.000500.000.00092.500.000188.000.000146.000.000200.000.000172.000.000168.000.000129.500.000159.000.000418.000.000423.000.000126.000.000448.000.000162.000.000145.000.000133.000.000152.000.000135.000.000167.000.000230.000.000127.500.000408.000.000290.000.000266.000.000278.000.000143.500.000145.530.000159.000.000186.000.000109.000.000177.000.000340.000.000205.000.000200.000.000142.000.000180.000.000397.000.000153.000.000275.000.000118.000.000320.000.000189.000.000480.700.000445.000.000292.000.000450.000.000240.600.000380.000.000133.000.000152.000.000151.500.000500.000.000327.000.000138.000.000204.930.000116.820.000245.000.000442.436.000348.000.000277.000.000126.000.000205.000.000440.000.000251.000.00099.000.000154.000.000172.000.000249.000.000310.000.000202.000.000369.000.000184.500.00084.150.000134.000.000306.000.000170.000.000295.000.000353.000.000270.000.000177.000.000312.000.000270.000.000202.000.000138.000.000327.000.000116.820.000295.000.000296.000.000204.930.000171.000.000186.000.000120.000.000205.000.000440.000.000500.000.000350.000.000167.000.000251.000.000205.000.000225.000.000176.000.000505.000.000280.000.000262.000.000500.000.000468.000.000290.000.000330.000.000116.000.000297.000.000242.000.000327.000.000257.000.000465.000.000337.000.000244.000.000398.422.00098.000.000187.000.000200.000.000285.000.000215.000.000134.000.000117.000.000163.000.000257.000.000477.000.000182.000.000200.000.000141.000.000170.000.000390.000.000320.000.000180.000.000131.000.000171.000.000298.500.000141.000.000320.000.000125.000.000185.000.000126.000.000145.500.000163.500.000332.000.000210.000.000177.000.000180.000.000610.000.000193.000.000152.000.000160.000.000133.000.000190.000.000153.000.000127.500.00095.000.000322.000.000150.000.000115.000.000162.000.000280.000.000129.000.000140.000.000212.000.000123.000.000138.000.000280.000.000162.000.000182.000.000200.000.000110.000.000115.000.000114.000.000380.000.000165.330.000450.000.000160.000.000143.000.000375.000.000292.000.000230.000.000408.000.000290.000.000320.000.000180.000.000153.000.000278.000.000175.000.000397.000.000240.600.000118.000.000275.000.000482.000.000108.000.000234.000.000125.000.000152.000.000133.000.000380.000.000145.000.000145.000.000365.000.000146.000.000180.000.000171.000.000188.000.000133.000.000136.620.000116.000.000500.000.000118.500.000186.000.00092.500.000496.000.000634.000.000350.000.000126.000.000277.000.000185.869.000186.000.000177.000.000205.000.000440.000.000442.436.000348.000.000500.000.000165.000.000309.000.000138.000.000208.000.000300.000.000483.000.000158.000.000110.500.000103.000.000300.000.000102.000.000309.000.000297.000.000182.000.000190.000.000450.000.000132.000.000119.000.000260.000.000200.000.000131.000.000160.000.000112.000.000253.500.000246.000.000510.000.000127.000.000250.000.000136.600.000270.000.000144.000.000197.000.000249.500.000141.000.000387.000.000300.000.000270.000.000119.000.000265.000.000166.000.000181.000.000190.000.000148.000.000560.000.000400.000.0002.000.000.000550.000.000800.000.000700.000.000340.000.000550.000.000450.000.000195.000.000750.000.000240.000.000450.000.000390.000.0001.500.000.000155.000.000320.000.000780.000.000200.000.000560.000.000800.000.000660.000.000380.000.0001.200.000.000155.000.000460.000.000550.000.000800.000.000700.000.000195.000.0001.100.000.000920.000.000150.000.000210.000.000195.000.000133.000.000120.000.000255.000.0001.700.000.000130.000.000180.000.000750.000.000420.000.000265.000.000140.000.0001.400.000.000320.000.000170.000.000420.000.000630.000.000290.000.000750.000.0001.400.000.000120.000.000133.000.000255.000.000130.000.000180.000.000140.000.000420.000.000265.000.000168.000.000295.000.000250.000.000160.000.000300.000.0001.400.000.000500.000.000300.000.000134.999.998280.000.000420.000.000260.000.000140.000.000290.000.0001.300.000.0001.080.000.000145.000.000190.000.000180.000.000450.000.000990.000.0001.900.000.000200.000.000320.000.000300.000.000600.000.000900.000.000320.000.000250.000.000750.000.000160.000.000230.000.0001.350.000.000395.000.000600.000.000150.000.000620.000.000690.000.0001.300.000.0001.590.000.000220.000.000230.000.000340.000.0001.500.000.0001.050.000.000850.000.0001.700.000.0001.650.000.000539.000.000400.000.000165.000.000290.000.000295.000.000250.000.000140.000.000420.000.000300.000.000134.999.998260.000.000280.000.000300.000.0001.400.000.0002.200.000.000700.000.000930.000.000160.000.000500.000.000450.000.000390.000.0001.080.000.000990.000.000145.000.000780.000.0001.900.000.0001.000.000.000320.000.000990.000.000300.000.000160.000.000750.000.000230.000.0001.050.000.0001.350.000.000560.000.0001.850.000.000350.000.000670.000.000370.000.000280.000.000430.000.000450.000.000505.000.000430.000.000450.000.0001.300.000.0001.590.000.000320.000.000320.000.000395.000.000600.000.000900.000.000250.000.000300.000.000780.000.000162.000.0001.590.000.000340.000.0001.500.000.000220.000.000850.000.000780.000.000115.000.000200.000.000550.000.000430.000.000600.000.000465.000.000650.000.000400.000.0001.200.000.000398.000.000160.000.000680.000.000330.000.000649.000.000700.000.000820.000.000180.000.000390.000.0001.080.000.000990.000.000145.000.000190.000.000450.000.000125.000.000580.000.000535.000.0001.350.000.000190.000.000150.000.0001.100.000.000750.000.000180.000.0001.900.000.000750.000.000880.000.000110.000.0001.050.000.000230.000.000240.000.000660.000.000160.000.000170.000.000460.000.000190.000.000540.000.000700.000.000197.000.000130.000.000680.000.000820.000.000649.000.000180.000.000430.000.000470.000.000187.000.0001.100.000.0001.500.000.000490.000.000370.000.000320.000.000275.000.0001.800.000.000320.000.000380.000.000700.000.000230.000.000290.000.0001.150.000.000115.000.000200.000.000470.000.000550.000.000300.000.000650.000.000230.000.000670.000.000355.000.000430.000.000680.000.000330.000.000950.000.000398.000.000465.000.000600.000.000670.000.000360.000.000580.000.000260.000.000550.000.000185.000.000163.000.000665.000.000750.000.000312.000.000300.000.0001.050.000.000460.000.000560.000.000197.000.000580.000.000535.000.0001.350.000.000180.000.0001.900.000.000600.000.000280.000.000140.000.000160.000.000170.000.000660.000.000230.000.000240.000.000110.000.000540.000.0003.500.000.000188.000.000848.000.0001.150.000.000510.000.000310.000.000145.000.000699.000.000490.000.000200.000.000300.000.000196.000.000570.000.000330.000.000480.000.0001.500.000.000900.000.000480.000.0001.100.000.000698.000.0001.300.000.000400.000.000330.000.000650.000.000340.000.0002.000.000.000155.000.000750.000.000155.000.000760.000.000700.000.000430.000.000160.000.000550.000.000465.000.000600.000.000580.000.000398.000.000330.000.000312.000.000560.000.000490.000.000200.000.000650.000.000900.000.0001.850.000.000130.000.000320.000.000150.000.000190.000.000800.000.000190.000.0001.550.000.000400.000.000650.000.000135.000.000550.000.000700.000.0001.600.000.0001.500.000.000205.000.000649.000.000150.000.000230.000.000730.000.000200.000.000205.000.000430.000.000610.000.000260.000.0001.800.000.0001.300.000.000520.000.000650.000.0001.600.000.0001.300.000.0001.500.000.000430.000.000185.000.000310.000.000400.000.000650.000.000135.000.000240.000.000190.000.000130.000.0001.550.000.000250.000.000390.000.000320.000.000185.000.000310.000.000390.000.000250.000.000500.000.000550.000.000700.000.000649.000.000820.000.000700.000.000150.000.000530.000.000780.000.000286.500.0001.150.000.000650.000.000115.000.000850.000.0001.400.000.000160.000.000520.000.000270.000.000700.000.000200.000.000150.000.000730.000.000230.000.000390.000.0001.300.000.000350.000.000130.000.000390.000.000190.000.0001.550.000.000365.000.000220.000.000310.000.000400.000.000650.000.000135.000.000700.000.0001.600.000.000165.000.000620.000.0001.850.000.000240.000.000800.000.000300.000.000185.000.000290.000.000430.000.000550.000.000650.000.000150.000.000230.000.000700.000.000730.000.000600.000.000290.000.000205.000.000560.000.0001.500.000.000390.000.000200.000.000380.000.000450.000.000155.000.000460.000.000610.000.000800.000.000210.000.000320.000.000195.000.0001.100.000.000920.000.000340.000.000550.000.0002.000.000.000155.000.000150.000.000780.000.000660.000.000550.000.000400.000.000170.000.000420.000.000355.000.000650.000.000600.000.000805.000.000200.000.000850.000.000170.000.000335.000.000250.000.000850.000.000215.000.0001.200.000.000950.000.000510.000.000480.000.000480.000.000235.000.000600.000.000649.999.999650.000.0001.300.000.000300.000.000290.000.000210.000.000125.000.000440.000.000600.000.000175.000.000900.000.000125.000.0001.200.000.000145.000.000130.000.000500.000.000200.000.000590.000.000400.000.000365.000.000130.000.000137.000.000550.000.000185.000.0001.100.000.000430.000.000375.000.000110.000.000110.000.000150.000.000560.000.000468.000.000130.000.0001.950.000.000668.000.000180.000.000400.000.000700.000.000200.000.000340.000.000349.000.000850.000.000300.000.000550.000.0001.300.000.000150.000.000350.000.000430.000.000500.000.000145.000.000600.000.000850.000.0001.700.000.0001.650.000.000539.000.000400.000.000165.000.000290.000.000295.000.000250.000.000140.000.000420.000.000300.000.000134.999.998260.000.000280.000.000300.000.0001.400.000.0002.200.000.000700.000.000930.000.000160.000.000500.000.000450.000.000390.000.0001.080.000.000470.000.000600.000.000320.000.000700.000.000180.000.000850.000.000155.000.000164.000.000490.000.000410.000.000750.000.000130.000.000550.000.000177.600.000560.000.000780.000.000380.000.000160.000.0001.700.000.0001.050.000.000650.000.000170.000.0001.301.265.0001.200.000.000155.000.000185.000.000190.000.000200.000.000190.000.000500.000.000170.000.000155.000.000180.000.000230.000.000380.000.000280.000.000320.000.000320.000.0001.170.000.000450.000.000650.000.000800.000.000245.000.0001.100.000.000850.000.000540.000.000210.000.000225.000.000350.000.000210.000.000310.000.000225.000.000160.000.000170.000.000500.000.000400.000.000110.000.000550.000.000510.000.000950.000.000890.000.000720.000.000480.000.000169.000.000378.000.000290.000.000355.000.000550.000.000170.000.000600.000.000200.000.000630.000.000285.000.000520.000.000170.000.000560.000.000410.000.000800.000.000175.000.000270.000.000140.000.0001.000.000.000120.000.000478.900.000260.000.000650.000.0002.600.000.000170.000.000420.000.000700.000.000380.000.000170.000.000385.000.000530.000.0001.300.000.000160.000.000580.000.000820.000.000180.000.0002.350.000.000948.000.000260.000.000360.000.000385.000.000250.000.000165.000.000308.000.000330.000.000128.000.000850.000.000153.500.000450.000.000530.000.000520.000.000400.000.000600.000.0003.500.000.000400.000.000360.000.000300.000.000850.000.000500.000.000350.000.000750.000.000450.000.000670.000.000270.000.000180.000.000270.000.000450.000.000175.000.000550.000.000140.000.000478.900.000250.000.000800.000.000400.000.000110.000.000230.000.000450.000.000380.000.000530.000.000160.000.000400.000.0001.170.000.000320.000.000153.500.000290.000.000245.000.0003.500.000.000660.000.000230.000.000240.000.000110.000.000540.000.000700.000.000685.000.000180.000.000450.000.000880.000.000230.000.000550.000.000560.000.000120.000.000220.000.000420.000.000190.000.000180.000.000450.000.000180.000.0001.300.000.0001.100.000.000750.000.000310.000.000300.000.000848.000.000145.000.000699.000.000196.000.000570.000.0001.300.000.000200.000.000515.000.000680.000.000155.000.000400.000.000320.000.000140.000.000450.000.0001.300.000.000820.000.000350.000.000530.000.000600.000.000710.000.000168.000.000280.000.000520.000.0001.400.000.000250.000.0001.000.000.000600.000.000130.000.000120.000.000460.000.000620.000.0001.050.000.000240.000.000135.000.000120.000.000135.000.000550.000.000700.000.0001.600.000.0001.500.000.000165.000.000750.000.0001.120.000.000330.000.000620.000.0002.000.000.000155.000.000245.000.000240.000.0001.300.000.000400.000.000220.000.000365.000.000340.000.000480.000.000480.000.0001.100.000.000698.000.000785.000.000700.000.000155.000.0001.000.000.0001.200.000.000300.000.000550.000.000730.000.000135.000.000250.000.000800.000.000660.000.000380.000.000600.000.000480.000.000485.000.000385.000.000500.000.0001.600.000.000309.000.000260.000.0001.300.000.000340.000.000400.000.000590.000.0001.200.000.000550.000.000680.000.000330.000.000240.000.0001.200.000.000240.000.000310.000.000430.000.000198.000.000120.000.000750.000.000155.000.0001.820.000.000420.000.000900.000.000370.000.000230.000.000480.000.000450.000.000380.000.000370.000.000210.000.000850.000.000340.000.000420.000.000497.000.000340.000.000174.999.999430.000.0001.300.000.000240.000.000300.000.000430.000.000300.000.000850.000.000900.000.000420.000.000120.000.0001.000.000.000850.000.000690.000.000250.000.000174.999.9991.250.000.000250.000.000198.000.000850.000.000340.000.000497.000.000420.000.000999.000.000240.000.0001.200.000.000125.000.000380.000.000300.000.000250.000.000485.000.000159.000.000135.000.000302.800.000370.000.000359.000.000279.000.000222.000.000379.000.000465.000.000720.000.000515.000.000640.000.000266.000.000720.000.000640.000.000275.000.000195.000.000165.000.000410.000.000300.000.000650.000.000635.000.000550.000.000140.000.000230.000.000445.000.000270.000.000150.000.000160.000.000440.000.000285.000.000250.000.000600.000.000320.000.000210.000.000780.000.000310.000.000290.000.000410.000.000460.000.000361.000.000395.000.000468.000.000234.000.000285.000.000250.000.000600.000.000361.000.000460.000.000320.000.000290.000.000410.000.000310.000.000210.000.000780.000.000570.000.0002.500.000.000200.000.000270.000.000360.000.000480.000.000590.000.0001.600.000.000850.000.000230.000.000330.000.000800.000.000560.000.000430.000.000265.000.000133.000.000950.000.000275.000.000519.000.0001.100.000.000650.000.000140.000.0001.200.000.000285.000.000250.000.000320.000.000361.000.000460.000.000600.000.000290.000.000410.000.000310.000.000210.000.000780.000.000550.000.000550.000.000180.000.0001.700.000.000252.000.000145.000.000340.000.000175.000.000490.000.000128.000.000165.000.000440.000.000410.000.000850.000.000158.000.0001.950.000.000275.000.000560.000.000225.000.000145.000.000185.000.000116.100.000550.000.000117.000.000260.000.000890.000.000180.000.0001.500.000.000500.000.000300.000.000380.000.000485.000.000360.000.000640.000.000195.000.000565.000.000650.000.000560.000.000596.614.000373.226.000389.708.000456.742.000596.614.000389.708.000373.226.000495.000.000850.000.000900.000.000389.708.000214.900.000347.429.519365.000.000422.000.000580.000.000560.000.0001.030.000.000450.000.000340.200.000150.000.000171.171.000350.000.000420.000.000272.000.000162.000.000255.000.000255.000.000340.000.000405.000.000210.000.000109.385.000395.000.000210.000.000189.600.000190.000.000420.000.000340.000.000500.000.000343.000.000177.000.000281.000.000260.000.0001.690.000.0002.101.242.0001.050.000.000150.000.000456.820.992167.700.000182.800.000192.800.000189.000.000300.000.000410.000.000342.000.000398.800.000300.000.000599.000.000595.000.0001.150.000.138790.000.00010.451.500.0001.995.000.0461.573.191.375406.000.000320.000.000267.000.000450.000.000135.000.00095.000.000160.000.000405.000.000320.000.000405.000.000320.000.000340.000.000109.385.000260.000.000425.000.000515.000.000256.500.000325.000.000340.000.000180.000.000239.000.000345.000.000202.000.000127.000.000175.000.0002.515.535.000650.000.000439.516.0001.000.000.000360.000.000370.000.0001.300.000.000680.000.000450.000.000382.000.000180.000.000222.000.000202.000.000463.000.000420.000.000375.000.000835.000.000460.000.000550.000.000320.000.000330.000.000128.000.000117.000.000260.000.000477.000.0001.600.000.000510.000.000473.000.000485.000.000580.000.000310.000.000180.000.000250.000.000310.000.000200.000.000790.000.000950.000.0005.000.000.0001.100.000.0001.800.000.000550.000.000410.000.000155.000.0001.100.000.0001.000.000.000185.000.000180.000.000138.000.000180.000.000193.000.000650.000.000601.000.0001.310.000.000185.000.000163.000.000355.000.000205.000.000177.500.000370.000.000435.000.000395.000.000195.000.000140.000.000210.000.000810.000.0001.380.000.000700.000.000475.000.000182.000.000355.000.000457.000.000355.000.000120.000.000340.000.000280.000.000453.500.000210.000.000600.000.000210.000.000230.000.000195.000.000202.000.000195.000.000190.000.000470.000.000355.000.000245.000.000453.500.000370.000.000330.000.000150.000.000255.000.000280.000.000324.000.000166.000.000260.000.000453.500.000650.000.000750.000.000190.000.000202.000.000205.000.000205.000.000870.000.000109.000.000205.000.0002.133.000.000202.000.000166.000.000320.000.000120.000.000415.000.000453.500.000400.000.000550.000.0002.800.000.000355.000.000166.000.000185.000.000166.000.000453.500.000353.000.000222.000.000409.000.000463.000.000280.000.000450.000.000629.000.000280.000.000310.000.000125.000.000340.000.000450.000.000650.000.000870.000.000850.000.000434.000.000220.000.0004.100.000.000389.708.000214.900.000142.000.000370.000.000135.000.0001.400.000.000184.500.000142.000.000800.000.000485.000.000380.000.000515.000.000260.000.000460.000.000630.000.000850.000.0002.100.000.000776.000.000650.000.000300.000.000410.000.000342.000.000398.800.000300.000.000599.000.000595.000.0001.150.000.138790.000.00010.451.500.0001.995.000.0461.573.191.375406.000.000320.000.000267.000.000450.000.000135.000.00095.000.000160.000.000405.000.000320.000.000405.000.000320.000.000340.000.000109.385.000260.000.000425.000.000515.000.000256.500.000325.000.0001.100.000.000795.000.000120.000.0001.937.500.000440.000.0002.300.000.000340.000.0001.368.000.0001.368.000.000210.000.000220.000.000650.000.000350.000.000220.000.000300.000.000113.000.000380.000.000450.000.000190.000.000423.000.000193.000.000340.000.0001.800.000.000180.000.000205.000.000239.000.000345.000.000202.000.000127.000.000175.000.0002.515.535.000650.000.000202.000.000222.000.000463.000.000180.000.000439.516.0001.000.000.000360.000.0001.300.000.000680.000.000450.000.000370.000.0001.100.000.000310.000.000310.000.000200.000.000180.000.000580.000.000180.000.000155.000.0001.000.000.000185.000.0001.100.000.000180.000.000138.000.000355.000.000457.000.000210.000.000700.000.000182.000.000177.500.000475.000.000355.000.000475.000.000810.000.0001.380.000.000355.000.000222.000.000195.000.000230.000.000195.000.000195.000.000700.000.000475.000.000182.000.000355.000.000457.000.000355.000.000120.000.000340.000.000280.000.000453.500.000210.000.000600.000.000210.000.000230.000.000195.000.000202.000.000195.000.000195.000.000225.000.000166.000.0001.300.000.000225.000.000166.000.000185.000.000222.000.000149.000.000163.000.000410.000.000211.000.000353.000.000163.000.000600.000.000210.000.000340.000.000410.000.000210.000.000280.000.000453.500.000353.000.000166.000.000166.000.0001.300.000.000202.000.000210.000.000355.000.000245.000.000166.000.000370.000.000453.500.000166.000.000205.000.000270.000.000170.000.000276.000.000463.000.000850.000.000355.000.000210.000.000463.000.000860.000.000353.000.000202.000.000320.000.000650.000.000280.000.000324.000.000453.500.000166.000.000255.000.000245.000.000195.000.000195.000.000195.000.000249.000.000275.000.000170.000.000550.000.0006.400.000.000233.000.000420.000.000990.000.000435.000.000355.000.0001.200.000.000291.000.000695.000.000260.000.000150.000.016990.000.000599.000.000260.000.000150.000.016990.000.000958.000.000276.000.000195.000.000700.000.000245.000.000175.000.000420.000.000300.000.000800.000.000380.000.000340.000.000520.000.000230.000.000980.000.000630.000.000341.550.000502.000.000160.000.000399.000.000445.900.000419.990.000281.900.0002.000.000.0001.300.000.000286.000.0001.550.000.000286.000.000420.000.000375.000.0002.500.000.0003.000.000.000710.000.000312.000.000207.400.000850.000.0001.150.000.0001.590.000.000530.000.0001.750.000.000385.000.0001.200.000.0001.080.000.000560.000.000330.000.000730.000.000760.000.000495.000.000540.000.000540.000.000695.000.0003.961.962.0002.317.500.0001.000.000.000390.000.000295.000.0002.317.500.0001.000.000.0003.961.962.0002.200.000.000950.000.000600.000.000495.000.000340.000.0001.300.000.000756.000.0001.400.000.000850.000.000223.000.000460.000.000435.000.000394.000.000450.000.000720.000.000890.000.000518.990.0001.900.000.000780.000.000460.000.000590.000.000470.000.000550.000.000899.800.000780.000.000785.000.0002.499.900.0001.800.000.000690.000.000388.900.0001.550.000.0001.850.000.000510.000.000526.000.0002.200.000.0001.500.000.000175.000.000549.990.000354.000.0002.500.000.000520.000.000750.000.0001.300.000.000530.000.000630.000.000795.000.0001.700.000.000529.000.000850.000.0002.550.000.000350.000.000795.000.0001.550.000.000425.000.000460.000.000170.000.000160.000.000980.000.000270.000.000650.000.000267.000.000487.000.000389.000.000375.000.000370.000.000420.000.0001.490.000.000245.000.000690.000.000369.990.000385.000.000550.000.000399.000.000160.000.000445.900.000419.990.000281.900.0002.000.000.0001.300.000.000286.000.000375.000.0003.000.000.0002.500.000.0001.550.000.000420.000.000286.000.0003.690.000.000500.000.0003.000.000.0001.300.000.0001.350.000.000360.000.0001.200.000.000420.000.000710.000.000854.000.0002.400.000.000108.000.000494.400.000174.000.000340.000.000324.000.0002.200.000.0003.550.000.000400.000.0001.793.000.0001.650.000.000317.000.000450.000.0001.500.000.000180.000.000550.000.000698.000.0001.200.000.000515.000.000390.000.000495.000.000390.000.000590.000.000985.000.000540.000.000210.000.000290.500.0002.050.000.000290.500.0001.200.000.000483.000.0001.800.000.0002.900.000.000950.000.000495.000.000400.000.000315.000.000405.000.000430.000.0001.949.900.0001.500.000.000459.100.0002.500.000.000359.000.000510.000.0002.100.000.000320.000.0002.000.000.000780.000.0002.500.000.000580.000.000203.000.000740.000.000520.000.0001.400.000.0001.250.000.0003.000.000.0001.690.000.000456.000.0002.500.000.000549.990.000388.900.0002.200.000.0003.800.000.000375.000.0004.620.000.0002.499.900.000870.000.000720.000.0001.850.000.000440.000.000354.000.0001.550.000.000510.000.000526.000.0001.500.000.000435.000.000879.000.000690.000.000920.000.0001.250.000.0003.000.000.000879.000.0001.100.000.000920.000.000435.000.000630.000.000795.000.000795.000.000270.000.000170.000.000160.000.000460.000.0001.700.000.000530.000.000350.000.000750.000.000529.000.000850.000.0001.300.000.000650.000.000267.000.000487.000.0001.550.000.000425.000.0002.550.000.000420.000.000375.000.000370.000.000385.000.000360.000.000420.000.000108.000.0002.400.000.000494.400.0001.200.000.000560.000.000174.000.000149.900.000420.000.000470.000.000457.000.000366.000.000480.000.000280.000.000350.000.000253.000.000457.000.000345.000.000402.000.000483.000.000350.000.000278.000.000199.478.700410.000.000260.000.000332.000.000260.000.000258.000.00079.000.00093.000.000140.000.000666.000.000281.000.000167.000.000355.000.000250.000.000730.000.000170.000.000480.000.000285.000.000158.000.000145.000.000190.000.000250.000.000120.000.000250.000.000280.000.000260.000.000285.000.000275.000.000280.000.000145.000.000300.000.000230.000.000200.000.000145.000.000310.000.0002.800.000.000265.000.000360.000.000850.000.000580.000.000410.000.000530.000.000415.800.000700.000.0001.050.000.000660.000.000305.000.000520.000.000360.000.000170.000.000331.000.0001.500.000.0001.400.000.000799.000.000920.000.000450.000.000780.000.000367.000.000450.000.000579.500.000580.000.000180.000.000416.000.000400.000.000180.000.000526.000.0001.430.000.000260.000.000500.000.0002.800.000.000260.000.000370.000.000455.000.000650.000.000750.000.000390.000.000370.000.000565.000.000360.000.000885.000.000257.000.000220.000.000160.000.000180.000.000200.000.000450.000.0001.850.000.000170.000.000320.000.000200.000.000390.000.000360.000.000565.000.000370.000.000257.000.000885.000.000220.000.000230.000.0001.300.000.000650.000.0001.450.000.000320.000.000550.000.000390.000.000970.000.000750.000.000300.000.0001.050.000.000365.000.000580.000.000305.000.0001.350.000.000750.000.000730.000.000430.000.000256.000.0001.650.000.0001.590.000.000285.000.000285.000.000930.000.000190.000.000950.000.000850.000.000898.000.000680.000.000370.000.0001.400.000.000980.000.000305.000.0001.900.000.0001.450.000.000780.000.0001.950.000.000890.000.000630.000.0002.200.000.0001.180.000.000800.000.000290.000.000250.000.0001.290.000.000220.000.000480.000.000550.000.000410.000.000443.100.000589.740.868345.000.000589.740.8681.400.000.000450.000.000645.853.7021.350.000.0001.300.000.0004.600.000.000840.000.000866.522.476440.000.0001.100.000.000375.000.000810.000.000500.000.000394.000.000459.000.000485.000.000372.000.000470.000.000850.000.000722.000.000620.000.000779.000.0003.500.000.000693.000.000700.000.000990.000.000535.000.000400.000.000720.000.000499.000.000480.000.000530.000.000565.000.000460.000.0002.550.000.0001.190.000.0001.700.000.000624.000.000155.000.000330.000.000250.000.000155.000.0002.000.000.000380.000.000650.000.000160.000.000145.000.000650.000.000300.000.0001.300.000.000208.000.000550.000.000520.000.000360.000.000590.000.000167.000.000160.000.000650.000.000145.000.000650.000.0001.050.000.000550.000.000208.000.0001.300.000.000500.000.000189.000.000300.000.000350.000.000280.000.000300.000.000190.000.000498.000.000650.000.000360.000.000395.000.0001.170.000.000650.000.000310.000.000315.000.000520.000.000700.000.000400.000.000170.000.000750.000.000950.000.000950.000.000400.000.000450.000.000200.000.000200.000.000305.000.000385.000.0002.800.000.000600.000.000310.000.000269.500.000170.000.000650.000.0001.170.000.000395.000.000280.000.000820.000.000700.000.000450.000.000370.000.0001.200.000.000730.000.000300.000.000900.000.000295.000.000374.000.000490.000.000600.000.000490.000.000730.000.000300.000.0001.200.000.0001.500.000.000600.000.000900.000.000750.000.000240.000.000590.000.000820.000.0001.350.000.0002.990.000.000220.000.0001.450.000.000451.500.000140.000.000155.000.000750.000.000170.000.000430.000.000800.000.0001.000.000.000790.000.000390.000.000400.000.000160.000.000700.000.000620.000.000500.000.000182.000.000130.000.000500.000.000245.000.000697.000.000380.000.0001.400.000.000780.000.0001.150.000.000940.000.000300.000.000105.000.000200.000.000990.000.000300.000.000290.000.000375.000.000320.000.000415.000.000320.000.0001.500.000.000550.000.000175.000.000480.000.000541.900.000390.000.000200.000.000500.000.000370.000.000175.000.000580.000.000178.000.000260.000.000690.000.000880.000.0003.950.000.000400.000.000140.000.000160.000.000780.000.000605.000.000372.100.000330.000.000287.000.000380.000.000340.000.0003.200.000.000330.000.000140.000.0001.250.000.000165.000.0001.375.000.000615.000.0001.200.000.000555.000.000290.000.000670.000.000900.000.000335.000.000144.990.000'"
            ],
            "application/vnd.google.colaboratory.intrinsic+json": {
              "type": "string"
            }
          },
          "metadata": {},
          "execution_count": 52
        }
      ]
    },
    {
      "cell_type": "code",
      "source": [
        "inmuebles['Precio'] = inmuebles.Precio.str.replace('.', '', regex=True)"
      ],
      "metadata": {
        "id": "s6yZpCM2FBaf"
      },
      "execution_count": null,
      "outputs": []
    },
    {
      "cell_type": "code",
      "source": [
        "inmuebles[['Precio', 'Barrio']]"
      ],
      "metadata": {
        "colab": {
          "base_uri": "https://localhost:8080/",
          "height": 424
        },
        "id": "I9BEVpogFeKz",
        "outputId": "4aee15e1-d8f9-41b0-f04e-389423a40c76"
      },
      "execution_count": null,
      "outputs": [
        {
          "output_type": "execute_result",
          "data": {
            "text/plain": [
              "          Precio                  Barrio\n",
              "0      360000000      Zona Noroccidental\n",
              "1      670000000                Castilla\n",
              "2     1120000000         Chico Reservado\n",
              "3      890000000                 Usaquén\n",
              "4      970000000             Bella Suiza\n",
              "...          ...                     ...\n",
              "9515   290000000                 Kennedy\n",
              "9516   670000000  Parque Central Bavaria\n",
              "9517   900000000                Restrepo\n",
              "9518   335000000                Engativa\n",
              "9519   144990000                 Tintala\n",
              "\n",
              "[9520 rows x 2 columns]"
            ],
            "text/html": [
              "\n",
              "  <div id=\"df-310eb9bb-050c-43ec-8a49-547083b476f6\">\n",
              "    <div class=\"colab-df-container\">\n",
              "      <div>\n",
              "<style scoped>\n",
              "    .dataframe tbody tr th:only-of-type {\n",
              "        vertical-align: middle;\n",
              "    }\n",
              "\n",
              "    .dataframe tbody tr th {\n",
              "        vertical-align: top;\n",
              "    }\n",
              "\n",
              "    .dataframe thead th {\n",
              "        text-align: right;\n",
              "    }\n",
              "</style>\n",
              "<table border=\"1\" class=\"dataframe\">\n",
              "  <thead>\n",
              "    <tr style=\"text-align: right;\">\n",
              "      <th></th>\n",
              "      <th>Precio</th>\n",
              "      <th>Barrio</th>\n",
              "    </tr>\n",
              "  </thead>\n",
              "  <tbody>\n",
              "    <tr>\n",
              "      <th>0</th>\n",
              "      <td>360000000</td>\n",
              "      <td>Zona Noroccidental</td>\n",
              "    </tr>\n",
              "    <tr>\n",
              "      <th>1</th>\n",
              "      <td>670000000</td>\n",
              "      <td>Castilla</td>\n",
              "    </tr>\n",
              "    <tr>\n",
              "      <th>2</th>\n",
              "      <td>1120000000</td>\n",
              "      <td>Chico Reservado</td>\n",
              "    </tr>\n",
              "    <tr>\n",
              "      <th>3</th>\n",
              "      <td>890000000</td>\n",
              "      <td>Usaquén</td>\n",
              "    </tr>\n",
              "    <tr>\n",
              "      <th>4</th>\n",
              "      <td>970000000</td>\n",
              "      <td>Bella Suiza</td>\n",
              "    </tr>\n",
              "    <tr>\n",
              "      <th>...</th>\n",
              "      <td>...</td>\n",
              "      <td>...</td>\n",
              "    </tr>\n",
              "    <tr>\n",
              "      <th>9515</th>\n",
              "      <td>290000000</td>\n",
              "      <td>Kennedy</td>\n",
              "    </tr>\n",
              "    <tr>\n",
              "      <th>9516</th>\n",
              "      <td>670000000</td>\n",
              "      <td>Parque Central Bavaria</td>\n",
              "    </tr>\n",
              "    <tr>\n",
              "      <th>9517</th>\n",
              "      <td>900000000</td>\n",
              "      <td>Restrepo</td>\n",
              "    </tr>\n",
              "    <tr>\n",
              "      <th>9518</th>\n",
              "      <td>335000000</td>\n",
              "      <td>Engativa</td>\n",
              "    </tr>\n",
              "    <tr>\n",
              "      <th>9519</th>\n",
              "      <td>144990000</td>\n",
              "      <td>Tintala</td>\n",
              "    </tr>\n",
              "  </tbody>\n",
              "</table>\n",
              "<p>9520 rows × 2 columns</p>\n",
              "</div>\n",
              "      <button class=\"colab-df-convert\" onclick=\"convertToInteractive('df-310eb9bb-050c-43ec-8a49-547083b476f6')\"\n",
              "              title=\"Convert this dataframe to an interactive table.\"\n",
              "              style=\"display:none;\">\n",
              "        \n",
              "  <svg xmlns=\"http://www.w3.org/2000/svg\" height=\"24px\"viewBox=\"0 0 24 24\"\n",
              "       width=\"24px\">\n",
              "    <path d=\"M0 0h24v24H0V0z\" fill=\"none\"/>\n",
              "    <path d=\"M18.56 5.44l.94 2.06.94-2.06 2.06-.94-2.06-.94-.94-2.06-.94 2.06-2.06.94zm-11 1L8.5 8.5l.94-2.06 2.06-.94-2.06-.94L8.5 2.5l-.94 2.06-2.06.94zm10 10l.94 2.06.94-2.06 2.06-.94-2.06-.94-.94-2.06-.94 2.06-2.06.94z\"/><path d=\"M17.41 7.96l-1.37-1.37c-.4-.4-.92-.59-1.43-.59-.52 0-1.04.2-1.43.59L10.3 9.45l-7.72 7.72c-.78.78-.78 2.05 0 2.83L4 21.41c.39.39.9.59 1.41.59.51 0 1.02-.2 1.41-.59l7.78-7.78 2.81-2.81c.8-.78.8-2.07 0-2.86zM5.41 20L4 18.59l7.72-7.72 1.47 1.35L5.41 20z\"/>\n",
              "  </svg>\n",
              "      </button>\n",
              "      \n",
              "  <style>\n",
              "    .colab-df-container {\n",
              "      display:flex;\n",
              "      flex-wrap:wrap;\n",
              "      gap: 12px;\n",
              "    }\n",
              "\n",
              "    .colab-df-convert {\n",
              "      background-color: #E8F0FE;\n",
              "      border: none;\n",
              "      border-radius: 50%;\n",
              "      cursor: pointer;\n",
              "      display: none;\n",
              "      fill: #1967D2;\n",
              "      height: 32px;\n",
              "      padding: 0 0 0 0;\n",
              "      width: 32px;\n",
              "    }\n",
              "\n",
              "    .colab-df-convert:hover {\n",
              "      background-color: #E2EBFA;\n",
              "      box-shadow: 0px 1px 2px rgba(60, 64, 67, 0.3), 0px 1px 3px 1px rgba(60, 64, 67, 0.15);\n",
              "      fill: #174EA6;\n",
              "    }\n",
              "\n",
              "    [theme=dark] .colab-df-convert {\n",
              "      background-color: #3B4455;\n",
              "      fill: #D2E3FC;\n",
              "    }\n",
              "\n",
              "    [theme=dark] .colab-df-convert:hover {\n",
              "      background-color: #434B5C;\n",
              "      box-shadow: 0px 1px 3px 1px rgba(0, 0, 0, 0.15);\n",
              "      filter: drop-shadow(0px 1px 2px rgba(0, 0, 0, 0.3));\n",
              "      fill: #FFFFFF;\n",
              "    }\n",
              "  </style>\n",
              "\n",
              "      <script>\n",
              "        const buttonEl =\n",
              "          document.querySelector('#df-310eb9bb-050c-43ec-8a49-547083b476f6 button.colab-df-convert');\n",
              "        buttonEl.style.display =\n",
              "          google.colab.kernel.accessAllowed ? 'block' : 'none';\n",
              "\n",
              "        async function convertToInteractive(key) {\n",
              "          const element = document.querySelector('#df-310eb9bb-050c-43ec-8a49-547083b476f6');\n",
              "          const dataTable =\n",
              "            await google.colab.kernel.invokeFunction('convertToInteractive',\n",
              "                                                     [key], {});\n",
              "          if (!dataTable) return;\n",
              "\n",
              "          const docLinkHtml = 'Like what you see? Visit the ' +\n",
              "            '<a target=\"_blank\" href=https://colab.research.google.com/notebooks/data_table.ipynb>data table notebook</a>'\n",
              "            + ' to learn more about interactive tables.';\n",
              "          element.innerHTML = '';\n",
              "          dataTable['output_type'] = 'display_data';\n",
              "          await google.colab.output.renderOutput(dataTable, element);\n",
              "          const docLink = document.createElement('div');\n",
              "          docLink.innerHTML = docLinkHtml;\n",
              "          element.appendChild(docLink);\n",
              "        }\n",
              "      </script>\n",
              "    </div>\n",
              "  </div>\n",
              "  "
            ]
          },
          "metadata": {},
          "execution_count": 55
        }
      ]
    },
    {
      "cell_type": "code",
      "source": [
        "inmuebles['Precio_Millon'] = inmuebles.Precio.astype('float')/1000000\n",
        "#Quitamos 6 ceros por lo que ya queda como precio en millones\n",
        "inmuebles.info()"
      ],
      "metadata": {
        "colab": {
          "base_uri": "https://localhost:8080/"
        },
        "id": "9IbS9uRrFnLZ",
        "outputId": "93b57114-2e10-401c-e71b-deff914717d4"
      },
      "execution_count": null,
      "outputs": [
        {
          "output_type": "stream",
          "name": "stdout",
          "text": [
            "<class 'pandas.core.frame.DataFrame'>\n",
            "RangeIndex: 9520 entries, 0 to 9519\n",
            "Data columns (total 11 columns):\n",
            " #   Column         Non-Null Count  Dtype  \n",
            "---  ------         --------------  -----  \n",
            " 0   Tipo           9520 non-null   object \n",
            " 1   Descripcion    9520 non-null   object \n",
            " 2   Habitaciones   9520 non-null   int64  \n",
            " 3   Banos          9520 non-null   int64  \n",
            " 4   Area           9520 non-null   int64  \n",
            " 5   Barrio         9520 non-null   object \n",
            " 6   UPZ            9478 non-null   object \n",
            " 7   Valor          9520 non-null   object \n",
            " 8   Moneda         9520 non-null   object \n",
            " 9   Precio         9520 non-null   object \n",
            " 10  Precio_Millon  9520 non-null   float64\n",
            "dtypes: float64(1), int64(3), object(7)\n",
            "memory usage: 818.2+ KB\n"
          ]
        }
      ]
    },
    {
      "cell_type": "code",
      "source": [
        "inmuebles.describe()"
      ],
      "metadata": {
        "colab": {
          "base_uri": "https://localhost:8080/",
          "height": 300
        },
        "id": "Vapg_OUeGZVx",
        "outputId": "52275a25-32f4-490b-8ffc-8b1f3c2074fa"
      },
      "execution_count": null,
      "outputs": [
        {
          "output_type": "execute_result",
          "data": {
            "text/plain": [
              "       Habitaciones        Banos           Area  Precio_Millon\n",
              "count   9520.000000  9520.000000    9520.000000    9520.000000\n",
              "mean       3.072479     2.447899     146.664706     602.062354\n",
              "std        2.049856     1.255314    1731.379622     704.602062\n",
              "min        1.000000     0.000000       2.000000      60.000000\n",
              "25%        2.000000     2.000000      57.000000     250.000000\n",
              "50%        3.000000     2.000000      80.000000     409.182500\n",
              "75%        3.000000     3.000000     135.000000     680.000000\n",
              "max      110.000000     9.000000  166243.000000   16000.000000"
            ],
            "text/html": [
              "\n",
              "  <div id=\"df-b9d7da96-26d2-486f-8c8e-d53c74079c8b\">\n",
              "    <div class=\"colab-df-container\">\n",
              "      <div>\n",
              "<style scoped>\n",
              "    .dataframe tbody tr th:only-of-type {\n",
              "        vertical-align: middle;\n",
              "    }\n",
              "\n",
              "    .dataframe tbody tr th {\n",
              "        vertical-align: top;\n",
              "    }\n",
              "\n",
              "    .dataframe thead th {\n",
              "        text-align: right;\n",
              "    }\n",
              "</style>\n",
              "<table border=\"1\" class=\"dataframe\">\n",
              "  <thead>\n",
              "    <tr style=\"text-align: right;\">\n",
              "      <th></th>\n",
              "      <th>Habitaciones</th>\n",
              "      <th>Banos</th>\n",
              "      <th>Area</th>\n",
              "      <th>Precio_Millon</th>\n",
              "    </tr>\n",
              "  </thead>\n",
              "  <tbody>\n",
              "    <tr>\n",
              "      <th>count</th>\n",
              "      <td>9520.000000</td>\n",
              "      <td>9520.000000</td>\n",
              "      <td>9520.000000</td>\n",
              "      <td>9520.000000</td>\n",
              "    </tr>\n",
              "    <tr>\n",
              "      <th>mean</th>\n",
              "      <td>3.072479</td>\n",
              "      <td>2.447899</td>\n",
              "      <td>146.664706</td>\n",
              "      <td>602.062354</td>\n",
              "    </tr>\n",
              "    <tr>\n",
              "      <th>std</th>\n",
              "      <td>2.049856</td>\n",
              "      <td>1.255314</td>\n",
              "      <td>1731.379622</td>\n",
              "      <td>704.602062</td>\n",
              "    </tr>\n",
              "    <tr>\n",
              "      <th>min</th>\n",
              "      <td>1.000000</td>\n",
              "      <td>0.000000</td>\n",
              "      <td>2.000000</td>\n",
              "      <td>60.000000</td>\n",
              "    </tr>\n",
              "    <tr>\n",
              "      <th>25%</th>\n",
              "      <td>2.000000</td>\n",
              "      <td>2.000000</td>\n",
              "      <td>57.000000</td>\n",
              "      <td>250.000000</td>\n",
              "    </tr>\n",
              "    <tr>\n",
              "      <th>50%</th>\n",
              "      <td>3.000000</td>\n",
              "      <td>2.000000</td>\n",
              "      <td>80.000000</td>\n",
              "      <td>409.182500</td>\n",
              "    </tr>\n",
              "    <tr>\n",
              "      <th>75%</th>\n",
              "      <td>3.000000</td>\n",
              "      <td>3.000000</td>\n",
              "      <td>135.000000</td>\n",
              "      <td>680.000000</td>\n",
              "    </tr>\n",
              "    <tr>\n",
              "      <th>max</th>\n",
              "      <td>110.000000</td>\n",
              "      <td>9.000000</td>\n",
              "      <td>166243.000000</td>\n",
              "      <td>16000.000000</td>\n",
              "    </tr>\n",
              "  </tbody>\n",
              "</table>\n",
              "</div>\n",
              "      <button class=\"colab-df-convert\" onclick=\"convertToInteractive('df-b9d7da96-26d2-486f-8c8e-d53c74079c8b')\"\n",
              "              title=\"Convert this dataframe to an interactive table.\"\n",
              "              style=\"display:none;\">\n",
              "        \n",
              "  <svg xmlns=\"http://www.w3.org/2000/svg\" height=\"24px\"viewBox=\"0 0 24 24\"\n",
              "       width=\"24px\">\n",
              "    <path d=\"M0 0h24v24H0V0z\" fill=\"none\"/>\n",
              "    <path d=\"M18.56 5.44l.94 2.06.94-2.06 2.06-.94-2.06-.94-.94-2.06-.94 2.06-2.06.94zm-11 1L8.5 8.5l.94-2.06 2.06-.94-2.06-.94L8.5 2.5l-.94 2.06-2.06.94zm10 10l.94 2.06.94-2.06 2.06-.94-2.06-.94-.94-2.06-.94 2.06-2.06.94z\"/><path d=\"M17.41 7.96l-1.37-1.37c-.4-.4-.92-.59-1.43-.59-.52 0-1.04.2-1.43.59L10.3 9.45l-7.72 7.72c-.78.78-.78 2.05 0 2.83L4 21.41c.39.39.9.59 1.41.59.51 0 1.02-.2 1.41-.59l7.78-7.78 2.81-2.81c.8-.78.8-2.07 0-2.86zM5.41 20L4 18.59l7.72-7.72 1.47 1.35L5.41 20z\"/>\n",
              "  </svg>\n",
              "      </button>\n",
              "      \n",
              "  <style>\n",
              "    .colab-df-container {\n",
              "      display:flex;\n",
              "      flex-wrap:wrap;\n",
              "      gap: 12px;\n",
              "    }\n",
              "\n",
              "    .colab-df-convert {\n",
              "      background-color: #E8F0FE;\n",
              "      border: none;\n",
              "      border-radius: 50%;\n",
              "      cursor: pointer;\n",
              "      display: none;\n",
              "      fill: #1967D2;\n",
              "      height: 32px;\n",
              "      padding: 0 0 0 0;\n",
              "      width: 32px;\n",
              "    }\n",
              "\n",
              "    .colab-df-convert:hover {\n",
              "      background-color: #E2EBFA;\n",
              "      box-shadow: 0px 1px 2px rgba(60, 64, 67, 0.3), 0px 1px 3px 1px rgba(60, 64, 67, 0.15);\n",
              "      fill: #174EA6;\n",
              "    }\n",
              "\n",
              "    [theme=dark] .colab-df-convert {\n",
              "      background-color: #3B4455;\n",
              "      fill: #D2E3FC;\n",
              "    }\n",
              "\n",
              "    [theme=dark] .colab-df-convert:hover {\n",
              "      background-color: #434B5C;\n",
              "      box-shadow: 0px 1px 3px 1px rgba(0, 0, 0, 0.15);\n",
              "      filter: drop-shadow(0px 1px 2px rgba(0, 0, 0, 0.3));\n",
              "      fill: #FFFFFF;\n",
              "    }\n",
              "  </style>\n",
              "\n",
              "      <script>\n",
              "        const buttonEl =\n",
              "          document.querySelector('#df-b9d7da96-26d2-486f-8c8e-d53c74079c8b button.colab-df-convert');\n",
              "        buttonEl.style.display =\n",
              "          google.colab.kernel.accessAllowed ? 'block' : 'none';\n",
              "\n",
              "        async function convertToInteractive(key) {\n",
              "          const element = document.querySelector('#df-b9d7da96-26d2-486f-8c8e-d53c74079c8b');\n",
              "          const dataTable =\n",
              "            await google.colab.kernel.invokeFunction('convertToInteractive',\n",
              "                                                     [key], {});\n",
              "          if (!dataTable) return;\n",
              "\n",
              "          const docLinkHtml = 'Like what you see? Visit the ' +\n",
              "            '<a target=\"_blank\" href=https://colab.research.google.com/notebooks/data_table.ipynb>data table notebook</a>'\n",
              "            + ' to learn more about interactive tables.';\n",
              "          element.innerHTML = '';\n",
              "          dataTable['output_type'] = 'display_data';\n",
              "          await google.colab.output.renderOutput(dataTable, element);\n",
              "          const docLink = document.createElement('div');\n",
              "          docLink.innerHTML = docLinkHtml;\n",
              "          element.appendChild(docLink);\n",
              "        }\n",
              "      </script>\n",
              "    </div>\n",
              "  </div>\n",
              "  "
            ]
          },
          "metadata": {},
          "execution_count": 57
        }
      ]
    },
    {
      "cell_type": "code",
      "source": [
        "pd.set_option('display.precision',2)\n",
        "pd.set_option('display.float_format', lambda x: '%.2f' % x)\n",
        "inmuebles.describe()"
      ],
      "metadata": {
        "colab": {
          "base_uri": "https://localhost:8080/",
          "height": 300
        },
        "id": "49OSaedxGusc",
        "outputId": "faf29a2d-6d1d-452d-de73-b6c596a66048"
      },
      "execution_count": null,
      "outputs": [
        {
          "output_type": "execute_result",
          "data": {
            "text/plain": [
              "       Habitaciones   Banos      Area  Precio_Millon\n",
              "count       9520.00 9520.00   9520.00        9520.00\n",
              "mean           3.07    2.45    146.66         602.06\n",
              "std            2.05    1.26   1731.38         704.60\n",
              "min            1.00    0.00      2.00          60.00\n",
              "25%            2.00    2.00     57.00         250.00\n",
              "50%            3.00    2.00     80.00         409.18\n",
              "75%            3.00    3.00    135.00         680.00\n",
              "max          110.00    9.00 166243.00       16000.00"
            ],
            "text/html": [
              "\n",
              "  <div id=\"df-35ae197e-cc6e-4132-a67d-32af9ba40940\">\n",
              "    <div class=\"colab-df-container\">\n",
              "      <div>\n",
              "<style scoped>\n",
              "    .dataframe tbody tr th:only-of-type {\n",
              "        vertical-align: middle;\n",
              "    }\n",
              "\n",
              "    .dataframe tbody tr th {\n",
              "        vertical-align: top;\n",
              "    }\n",
              "\n",
              "    .dataframe thead th {\n",
              "        text-align: right;\n",
              "    }\n",
              "</style>\n",
              "<table border=\"1\" class=\"dataframe\">\n",
              "  <thead>\n",
              "    <tr style=\"text-align: right;\">\n",
              "      <th></th>\n",
              "      <th>Habitaciones</th>\n",
              "      <th>Banos</th>\n",
              "      <th>Area</th>\n",
              "      <th>Precio_Millon</th>\n",
              "    </tr>\n",
              "  </thead>\n",
              "  <tbody>\n",
              "    <tr>\n",
              "      <th>count</th>\n",
              "      <td>9520.00</td>\n",
              "      <td>9520.00</td>\n",
              "      <td>9520.00</td>\n",
              "      <td>9520.00</td>\n",
              "    </tr>\n",
              "    <tr>\n",
              "      <th>mean</th>\n",
              "      <td>3.07</td>\n",
              "      <td>2.45</td>\n",
              "      <td>146.66</td>\n",
              "      <td>602.06</td>\n",
              "    </tr>\n",
              "    <tr>\n",
              "      <th>std</th>\n",
              "      <td>2.05</td>\n",
              "      <td>1.26</td>\n",
              "      <td>1731.38</td>\n",
              "      <td>704.60</td>\n",
              "    </tr>\n",
              "    <tr>\n",
              "      <th>min</th>\n",
              "      <td>1.00</td>\n",
              "      <td>0.00</td>\n",
              "      <td>2.00</td>\n",
              "      <td>60.00</td>\n",
              "    </tr>\n",
              "    <tr>\n",
              "      <th>25%</th>\n",
              "      <td>2.00</td>\n",
              "      <td>2.00</td>\n",
              "      <td>57.00</td>\n",
              "      <td>250.00</td>\n",
              "    </tr>\n",
              "    <tr>\n",
              "      <th>50%</th>\n",
              "      <td>3.00</td>\n",
              "      <td>2.00</td>\n",
              "      <td>80.00</td>\n",
              "      <td>409.18</td>\n",
              "    </tr>\n",
              "    <tr>\n",
              "      <th>75%</th>\n",
              "      <td>3.00</td>\n",
              "      <td>3.00</td>\n",
              "      <td>135.00</td>\n",
              "      <td>680.00</td>\n",
              "    </tr>\n",
              "    <tr>\n",
              "      <th>max</th>\n",
              "      <td>110.00</td>\n",
              "      <td>9.00</td>\n",
              "      <td>166243.00</td>\n",
              "      <td>16000.00</td>\n",
              "    </tr>\n",
              "  </tbody>\n",
              "</table>\n",
              "</div>\n",
              "      <button class=\"colab-df-convert\" onclick=\"convertToInteractive('df-35ae197e-cc6e-4132-a67d-32af9ba40940')\"\n",
              "              title=\"Convert this dataframe to an interactive table.\"\n",
              "              style=\"display:none;\">\n",
              "        \n",
              "  <svg xmlns=\"http://www.w3.org/2000/svg\" height=\"24px\"viewBox=\"0 0 24 24\"\n",
              "       width=\"24px\">\n",
              "    <path d=\"M0 0h24v24H0V0z\" fill=\"none\"/>\n",
              "    <path d=\"M18.56 5.44l.94 2.06.94-2.06 2.06-.94-2.06-.94-.94-2.06-.94 2.06-2.06.94zm-11 1L8.5 8.5l.94-2.06 2.06-.94-2.06-.94L8.5 2.5l-.94 2.06-2.06.94zm10 10l.94 2.06.94-2.06 2.06-.94-2.06-.94-.94-2.06-.94 2.06-2.06.94z\"/><path d=\"M17.41 7.96l-1.37-1.37c-.4-.4-.92-.59-1.43-.59-.52 0-1.04.2-1.43.59L10.3 9.45l-7.72 7.72c-.78.78-.78 2.05 0 2.83L4 21.41c.39.39.9.59 1.41.59.51 0 1.02-.2 1.41-.59l7.78-7.78 2.81-2.81c.8-.78.8-2.07 0-2.86zM5.41 20L4 18.59l7.72-7.72 1.47 1.35L5.41 20z\"/>\n",
              "  </svg>\n",
              "      </button>\n",
              "      \n",
              "  <style>\n",
              "    .colab-df-container {\n",
              "      display:flex;\n",
              "      flex-wrap:wrap;\n",
              "      gap: 12px;\n",
              "    }\n",
              "\n",
              "    .colab-df-convert {\n",
              "      background-color: #E8F0FE;\n",
              "      border: none;\n",
              "      border-radius: 50%;\n",
              "      cursor: pointer;\n",
              "      display: none;\n",
              "      fill: #1967D2;\n",
              "      height: 32px;\n",
              "      padding: 0 0 0 0;\n",
              "      width: 32px;\n",
              "    }\n",
              "\n",
              "    .colab-df-convert:hover {\n",
              "      background-color: #E2EBFA;\n",
              "      box-shadow: 0px 1px 2px rgba(60, 64, 67, 0.3), 0px 1px 3px 1px rgba(60, 64, 67, 0.15);\n",
              "      fill: #174EA6;\n",
              "    }\n",
              "\n",
              "    [theme=dark] .colab-df-convert {\n",
              "      background-color: #3B4455;\n",
              "      fill: #D2E3FC;\n",
              "    }\n",
              "\n",
              "    [theme=dark] .colab-df-convert:hover {\n",
              "      background-color: #434B5C;\n",
              "      box-shadow: 0px 1px 3px 1px rgba(0, 0, 0, 0.15);\n",
              "      filter: drop-shadow(0px 1px 2px rgba(0, 0, 0, 0.3));\n",
              "      fill: #FFFFFF;\n",
              "    }\n",
              "  </style>\n",
              "\n",
              "      <script>\n",
              "        const buttonEl =\n",
              "          document.querySelector('#df-35ae197e-cc6e-4132-a67d-32af9ba40940 button.colab-df-convert');\n",
              "        buttonEl.style.display =\n",
              "          google.colab.kernel.accessAllowed ? 'block' : 'none';\n",
              "\n",
              "        async function convertToInteractive(key) {\n",
              "          const element = document.querySelector('#df-35ae197e-cc6e-4132-a67d-32af9ba40940');\n",
              "          const dataTable =\n",
              "            await google.colab.kernel.invokeFunction('convertToInteractive',\n",
              "                                                     [key], {});\n",
              "          if (!dataTable) return;\n",
              "\n",
              "          const docLinkHtml = 'Like what you see? Visit the ' +\n",
              "            '<a target=\"_blank\" href=https://colab.research.google.com/notebooks/data_table.ipynb>data table notebook</a>'\n",
              "            + ' to learn more about interactive tables.';\n",
              "          element.innerHTML = '';\n",
              "          dataTable['output_type'] = 'display_data';\n",
              "          await google.colab.output.renderOutput(dataTable, element);\n",
              "          const docLink = document.createElement('div');\n",
              "          docLink.innerHTML = docLinkHtml;\n",
              "          element.appendChild(docLink);\n",
              "        }\n",
              "      </script>\n",
              "    </div>\n",
              "  </div>\n",
              "  "
            ]
          },
          "metadata": {},
          "execution_count": 59
        }
      ]
    },
    {
      "cell_type": "code",
      "source": [
        "inmuebles.loc[inmuebles.Habitaciones == 110]"
      ],
      "metadata": {
        "colab": {
          "base_uri": "https://localhost:8080/",
          "height": 142
        },
        "id": "N1uHeds3Htvb",
        "outputId": "6585a305-9d0c-439b-da87-47ab4e7e1b0e"
      },
      "execution_count": null,
      "outputs": [
        {
          "output_type": "execute_result",
          "data": {
            "text/plain": [
              "     Tipo                Descripcion  Habitaciones  Banos  Area    Barrio  \\\n",
              "897  Casa  Casa en venta en La Uribe           110      2   110  La Uribe   \n",
              "\n",
              "         UPZ          Valor Moneda     Precio  Precio_Millon  \n",
              "897  Usaquén  $ 480.000.000      $  480000000         480.00  "
            ],
            "text/html": [
              "\n",
              "  <div id=\"df-c7c8efd8-dfab-4758-b2c8-e1f1522c50ed\">\n",
              "    <div class=\"colab-df-container\">\n",
              "      <div>\n",
              "<style scoped>\n",
              "    .dataframe tbody tr th:only-of-type {\n",
              "        vertical-align: middle;\n",
              "    }\n",
              "\n",
              "    .dataframe tbody tr th {\n",
              "        vertical-align: top;\n",
              "    }\n",
              "\n",
              "    .dataframe thead th {\n",
              "        text-align: right;\n",
              "    }\n",
              "</style>\n",
              "<table border=\"1\" class=\"dataframe\">\n",
              "  <thead>\n",
              "    <tr style=\"text-align: right;\">\n",
              "      <th></th>\n",
              "      <th>Tipo</th>\n",
              "      <th>Descripcion</th>\n",
              "      <th>Habitaciones</th>\n",
              "      <th>Banos</th>\n",
              "      <th>Area</th>\n",
              "      <th>Barrio</th>\n",
              "      <th>UPZ</th>\n",
              "      <th>Valor</th>\n",
              "      <th>Moneda</th>\n",
              "      <th>Precio</th>\n",
              "      <th>Precio_Millon</th>\n",
              "    </tr>\n",
              "  </thead>\n",
              "  <tbody>\n",
              "    <tr>\n",
              "      <th>897</th>\n",
              "      <td>Casa</td>\n",
              "      <td>Casa en venta en La Uribe</td>\n",
              "      <td>110</td>\n",
              "      <td>2</td>\n",
              "      <td>110</td>\n",
              "      <td>La Uribe</td>\n",
              "      <td>Usaquén</td>\n",
              "      <td>$ 480.000.000</td>\n",
              "      <td>$</td>\n",
              "      <td>480000000</td>\n",
              "      <td>480.00</td>\n",
              "    </tr>\n",
              "  </tbody>\n",
              "</table>\n",
              "</div>\n",
              "      <button class=\"colab-df-convert\" onclick=\"convertToInteractive('df-c7c8efd8-dfab-4758-b2c8-e1f1522c50ed')\"\n",
              "              title=\"Convert this dataframe to an interactive table.\"\n",
              "              style=\"display:none;\">\n",
              "        \n",
              "  <svg xmlns=\"http://www.w3.org/2000/svg\" height=\"24px\"viewBox=\"0 0 24 24\"\n",
              "       width=\"24px\">\n",
              "    <path d=\"M0 0h24v24H0V0z\" fill=\"none\"/>\n",
              "    <path d=\"M18.56 5.44l.94 2.06.94-2.06 2.06-.94-2.06-.94-.94-2.06-.94 2.06-2.06.94zm-11 1L8.5 8.5l.94-2.06 2.06-.94-2.06-.94L8.5 2.5l-.94 2.06-2.06.94zm10 10l.94 2.06.94-2.06 2.06-.94-2.06-.94-.94-2.06-.94 2.06-2.06.94z\"/><path d=\"M17.41 7.96l-1.37-1.37c-.4-.4-.92-.59-1.43-.59-.52 0-1.04.2-1.43.59L10.3 9.45l-7.72 7.72c-.78.78-.78 2.05 0 2.83L4 21.41c.39.39.9.59 1.41.59.51 0 1.02-.2 1.41-.59l7.78-7.78 2.81-2.81c.8-.78.8-2.07 0-2.86zM5.41 20L4 18.59l7.72-7.72 1.47 1.35L5.41 20z\"/>\n",
              "  </svg>\n",
              "      </button>\n",
              "      \n",
              "  <style>\n",
              "    .colab-df-container {\n",
              "      display:flex;\n",
              "      flex-wrap:wrap;\n",
              "      gap: 12px;\n",
              "    }\n",
              "\n",
              "    .colab-df-convert {\n",
              "      background-color: #E8F0FE;\n",
              "      border: none;\n",
              "      border-radius: 50%;\n",
              "      cursor: pointer;\n",
              "      display: none;\n",
              "      fill: #1967D2;\n",
              "      height: 32px;\n",
              "      padding: 0 0 0 0;\n",
              "      width: 32px;\n",
              "    }\n",
              "\n",
              "    .colab-df-convert:hover {\n",
              "      background-color: #E2EBFA;\n",
              "      box-shadow: 0px 1px 2px rgba(60, 64, 67, 0.3), 0px 1px 3px 1px rgba(60, 64, 67, 0.15);\n",
              "      fill: #174EA6;\n",
              "    }\n",
              "\n",
              "    [theme=dark] .colab-df-convert {\n",
              "      background-color: #3B4455;\n",
              "      fill: #D2E3FC;\n",
              "    }\n",
              "\n",
              "    [theme=dark] .colab-df-convert:hover {\n",
              "      background-color: #434B5C;\n",
              "      box-shadow: 0px 1px 3px 1px rgba(0, 0, 0, 0.15);\n",
              "      filter: drop-shadow(0px 1px 2px rgba(0, 0, 0, 0.3));\n",
              "      fill: #FFFFFF;\n",
              "    }\n",
              "  </style>\n",
              "\n",
              "      <script>\n",
              "        const buttonEl =\n",
              "          document.querySelector('#df-c7c8efd8-dfab-4758-b2c8-e1f1522c50ed button.colab-df-convert');\n",
              "        buttonEl.style.display =\n",
              "          google.colab.kernel.accessAllowed ? 'block' : 'none';\n",
              "\n",
              "        async function convertToInteractive(key) {\n",
              "          const element = document.querySelector('#df-c7c8efd8-dfab-4758-b2c8-e1f1522c50ed');\n",
              "          const dataTable =\n",
              "            await google.colab.kernel.invokeFunction('convertToInteractive',\n",
              "                                                     [key], {});\n",
              "          if (!dataTable) return;\n",
              "\n",
              "          const docLinkHtml = 'Like what you see? Visit the ' +\n",
              "            '<a target=\"_blank\" href=https://colab.research.google.com/notebooks/data_table.ipynb>data table notebook</a>'\n",
              "            + ' to learn more about interactive tables.';\n",
              "          element.innerHTML = '';\n",
              "          dataTable['output_type'] = 'display_data';\n",
              "          await google.colab.output.renderOutput(dataTable, element);\n",
              "          const docLink = document.createElement('div');\n",
              "          docLink.innerHTML = docLinkHtml;\n",
              "          element.appendChild(docLink);\n",
              "        }\n",
              "      </script>\n",
              "    </div>\n",
              "  </div>\n",
              "  "
            ]
          },
          "metadata": {},
          "execution_count": 60
        }
      ]
    },
    {
      "cell_type": "code",
      "source": [
        "inmuebles.loc[inmuebles.Area == 2]"
      ],
      "metadata": {
        "colab": {
          "base_uri": "https://localhost:8080/",
          "height": 159
        },
        "id": "nwdLaMhrIKIN",
        "outputId": "772336be-a277-42c5-e562-85c29c996247"
      },
      "execution_count": null,
      "outputs": [
        {
          "output_type": "execute_result",
          "data": {
            "text/plain": [
              "             Tipo                            Descripcion  Habitaciones  Banos  \\\n",
              "8401  Apartamento  Apartamento en venta en San Cristobal             3      1   \n",
              "\n",
              "      Area         Barrio      UPZ          Valor Moneda     Precio  \\\n",
              "8401     2  San Cristobal  Sosiego  $ 180.000.000      $  180000000   \n",
              "\n",
              "      Precio_Millon  \n",
              "8401         180.00  "
            ],
            "text/html": [
              "\n",
              "  <div id=\"df-2b50d4ad-f70b-4a28-8a8c-e02a8e817649\">\n",
              "    <div class=\"colab-df-container\">\n",
              "      <div>\n",
              "<style scoped>\n",
              "    .dataframe tbody tr th:only-of-type {\n",
              "        vertical-align: middle;\n",
              "    }\n",
              "\n",
              "    .dataframe tbody tr th {\n",
              "        vertical-align: top;\n",
              "    }\n",
              "\n",
              "    .dataframe thead th {\n",
              "        text-align: right;\n",
              "    }\n",
              "</style>\n",
              "<table border=\"1\" class=\"dataframe\">\n",
              "  <thead>\n",
              "    <tr style=\"text-align: right;\">\n",
              "      <th></th>\n",
              "      <th>Tipo</th>\n",
              "      <th>Descripcion</th>\n",
              "      <th>Habitaciones</th>\n",
              "      <th>Banos</th>\n",
              "      <th>Area</th>\n",
              "      <th>Barrio</th>\n",
              "      <th>UPZ</th>\n",
              "      <th>Valor</th>\n",
              "      <th>Moneda</th>\n",
              "      <th>Precio</th>\n",
              "      <th>Precio_Millon</th>\n",
              "    </tr>\n",
              "  </thead>\n",
              "  <tbody>\n",
              "    <tr>\n",
              "      <th>8401</th>\n",
              "      <td>Apartamento</td>\n",
              "      <td>Apartamento en venta en San Cristobal</td>\n",
              "      <td>3</td>\n",
              "      <td>1</td>\n",
              "      <td>2</td>\n",
              "      <td>San Cristobal</td>\n",
              "      <td>Sosiego</td>\n",
              "      <td>$ 180.000.000</td>\n",
              "      <td>$</td>\n",
              "      <td>180000000</td>\n",
              "      <td>180.00</td>\n",
              "    </tr>\n",
              "  </tbody>\n",
              "</table>\n",
              "</div>\n",
              "      <button class=\"colab-df-convert\" onclick=\"convertToInteractive('df-2b50d4ad-f70b-4a28-8a8c-e02a8e817649')\"\n",
              "              title=\"Convert this dataframe to an interactive table.\"\n",
              "              style=\"display:none;\">\n",
              "        \n",
              "  <svg xmlns=\"http://www.w3.org/2000/svg\" height=\"24px\"viewBox=\"0 0 24 24\"\n",
              "       width=\"24px\">\n",
              "    <path d=\"M0 0h24v24H0V0z\" fill=\"none\"/>\n",
              "    <path d=\"M18.56 5.44l.94 2.06.94-2.06 2.06-.94-2.06-.94-.94-2.06-.94 2.06-2.06.94zm-11 1L8.5 8.5l.94-2.06 2.06-.94-2.06-.94L8.5 2.5l-.94 2.06-2.06.94zm10 10l.94 2.06.94-2.06 2.06-.94-2.06-.94-.94-2.06-.94 2.06-2.06.94z\"/><path d=\"M17.41 7.96l-1.37-1.37c-.4-.4-.92-.59-1.43-.59-.52 0-1.04.2-1.43.59L10.3 9.45l-7.72 7.72c-.78.78-.78 2.05 0 2.83L4 21.41c.39.39.9.59 1.41.59.51 0 1.02-.2 1.41-.59l7.78-7.78 2.81-2.81c.8-.78.8-2.07 0-2.86zM5.41 20L4 18.59l7.72-7.72 1.47 1.35L5.41 20z\"/>\n",
              "  </svg>\n",
              "      </button>\n",
              "      \n",
              "  <style>\n",
              "    .colab-df-container {\n",
              "      display:flex;\n",
              "      flex-wrap:wrap;\n",
              "      gap: 12px;\n",
              "    }\n",
              "\n",
              "    .colab-df-convert {\n",
              "      background-color: #E8F0FE;\n",
              "      border: none;\n",
              "      border-radius: 50%;\n",
              "      cursor: pointer;\n",
              "      display: none;\n",
              "      fill: #1967D2;\n",
              "      height: 32px;\n",
              "      padding: 0 0 0 0;\n",
              "      width: 32px;\n",
              "    }\n",
              "\n",
              "    .colab-df-convert:hover {\n",
              "      background-color: #E2EBFA;\n",
              "      box-shadow: 0px 1px 2px rgba(60, 64, 67, 0.3), 0px 1px 3px 1px rgba(60, 64, 67, 0.15);\n",
              "      fill: #174EA6;\n",
              "    }\n",
              "\n",
              "    [theme=dark] .colab-df-convert {\n",
              "      background-color: #3B4455;\n",
              "      fill: #D2E3FC;\n",
              "    }\n",
              "\n",
              "    [theme=dark] .colab-df-convert:hover {\n",
              "      background-color: #434B5C;\n",
              "      box-shadow: 0px 1px 3px 1px rgba(0, 0, 0, 0.15);\n",
              "      filter: drop-shadow(0px 1px 2px rgba(0, 0, 0, 0.3));\n",
              "      fill: #FFFFFF;\n",
              "    }\n",
              "  </style>\n",
              "\n",
              "      <script>\n",
              "        const buttonEl =\n",
              "          document.querySelector('#df-2b50d4ad-f70b-4a28-8a8c-e02a8e817649 button.colab-df-convert');\n",
              "        buttonEl.style.display =\n",
              "          google.colab.kernel.accessAllowed ? 'block' : 'none';\n",
              "\n",
              "        async function convertToInteractive(key) {\n",
              "          const element = document.querySelector('#df-2b50d4ad-f70b-4a28-8a8c-e02a8e817649');\n",
              "          const dataTable =\n",
              "            await google.colab.kernel.invokeFunction('convertToInteractive',\n",
              "                                                     [key], {});\n",
              "          if (!dataTable) return;\n",
              "\n",
              "          const docLinkHtml = 'Like what you see? Visit the ' +\n",
              "            '<a target=\"_blank\" href=https://colab.research.google.com/notebooks/data_table.ipynb>data table notebook</a>'\n",
              "            + ' to learn more about interactive tables.';\n",
              "          element.innerHTML = '';\n",
              "          dataTable['output_type'] = 'display_data';\n",
              "          await google.colab.output.renderOutput(dataTable, element);\n",
              "          const docLink = document.createElement('div');\n",
              "          docLink.innerHTML = docLinkHtml;\n",
              "          element.appendChild(docLink);\n",
              "        }\n",
              "      </script>\n",
              "    </div>\n",
              "  </div>\n",
              "  "
            ]
          },
          "metadata": {},
          "execution_count": 61
        }
      ]
    },
    {
      "cell_type": "code",
      "source": [
        "inmuebles['Precio_Millon'].plot.hist(bins=100)"
      ],
      "metadata": {
        "colab": {
          "base_uri": "https://localhost:8080/",
          "height": 448
        },
        "id": "2bPNqBCDJCVb",
        "outputId": "372a68cf-d28a-4958-8d30-615044746d31"
      },
      "execution_count": null,
      "outputs": [
        {
          "output_type": "execute_result",
          "data": {
            "text/plain": [
              "<Axes: ylabel='Frequency'>"
            ]
          },
          "metadata": {},
          "execution_count": 64
        },
        {
          "output_type": "display_data",
          "data": {
            "text/plain": [
              "<Figure size 640x480 with 1 Axes>"
            ],
            "image/png": "[encoded data removed]"
          },
          "metadata": {}
        }
      ]
    },
    {
      "cell_type": "code",
      "source": [
        "plt.figure(figsize=(10,6))\n",
        "\n",
        "#A traves de una curva de densidad el comportamiento de esta distribución (kde)\n",
        "grafica = sns.histplot(data=inmuebles, x='Precio_Millon', kde=True, hue='Tipo')\n",
        "\n",
        "grafica.set_title('Distribución del valor de los inmuebles en Bogotá')\n",
        "plt.xlim((50, 1000))\n",
        "#plt.savefig('/content/drive/MyDrive/inmersion_de_datos/valor_millon.png', format='png')\n",
        "\n",
        "plt.show()"
      ],
      "metadata": {
        "colab": {
          "base_uri": "https://localhost:8080/",
          "height": 565
        },
        "id": "2VUni90QJtPD",
        "outputId": "d5fcb5cb-3a03-4a57-828c-39ba3f943cd9"
      },
      "execution_count": 79,
      "outputs": [
        {
          "output_type": "display_data",
          "data": {
            "text/plain": [
              "<Figure size 1000x600 with 1 Axes>"
            ],
            "image/png": "[encoded data removed]"
          },
          "metadata": {}
        }
      ]
    },
    {
      "cell_type": "markdown",
      "source": [
        "Retos 2\n",
        "\n",
        "\n",
        "1.   Estudiar mejor este histograma, seleccionar 3 tipos de inmuebles (relevantes). Refinar el gráfico y sacar una conclusión.\n",
        "2.   Precio del metro cuadrado por barrio y utilizar el gráfico que más se adeque para la visualización de esta variable.\n",
        "\n",
        "\n",
        "\n"
      ],
      "metadata": {
        "id": "yDGGA0a8iK_i"
      }
    },
    {
      "cell_type": "code",
      "source": [
        "#Reto 1\n",
        "\n",
        "plt.figure(figsize=(10,6))\n",
        "\n",
        "#A traves de una curva de densidad el comportamiento de esta distribución (kde)\n",
        "comp_3_principales = inmuebles.loc[(inmuebles['Tipo'] == 'Casa') | (inmuebles['Tipo'] == 'Apartamento') | (inmuebles['Tipo'] == 'Finca')]\n",
        "grafica = sns.histplot(data=comp_3_principales, x='Precio_Millon', kde=True, hue='Tipo')\n",
        "\n",
        "grafica.set_title('Distribución del valor de los inmuebles en Bogotá para 3 tipos de inmueble')\n",
        "plt.xlim((50, 1500))\n",
        "plt.xlabel('Precio en millones de pesos colombianos')\n",
        "plt.ylabel('Número de inmuebles')\n",
        "plt.savefig('/content/drive/MyDrive/inmersion_de_datos/valor_millon.png', format='png')\n",
        "\n",
        "plt.show()"
      ],
      "metadata": {
        "id": "ZSm055lxdDmN",
        "colab": {
          "base_uri": "https://localhost:8080/",
          "height": 565
        },
        "outputId": "4cb3131e-a619-4444-dfce-1f35a063e9c4"
      },
      "execution_count": 90,
      "outputs": [
        {
          "output_type": "display_data",
          "data": {
            "text/plain": [
              "<Figure size 1000x600 with 1 Axes>"
            ],
            "image/png": "[encoded data removed]"
          },
          "metadata": {}
        }
      ]
    },
    {
      "cell_type": "markdown",
      "source": [
        "Como podemos ver la proporción de apartamentos en nuestros datos es mucho mayot que la de casas y fincas, entre las otras dos no hay una diferencia tan clara ya que su proporción es parecida.\n"
      ],
      "metadata": {
        "id": "fBihhUMhqxFD"
      }
    },
    {
      "cell_type": "code",
      "source": [
        "plt.figure(figsize=(15,8))\n",
        "\n",
        "#A traves de una curva de densidad el comportamiento de esta distribución (kde)\n",
        "otros_inmuebles = inmuebles.loc[(inmuebles['Tipo'] == 'Finca') | (inmuebles['Tipo'] == 'Edificio') | (inmuebles['Tipo'] == 'Edificio') | (inmuebles['Tipo'] == 'Local')]\n",
        "grafica = sns.histplot(data=otros_inmuebles, x='Precio_Millon', kde=True, hue='Tipo')\n",
        "\n",
        "grafica.set_title('Distribución del valor de los inmuebles en Bogotá para 3 tipos de inmueble')\n",
        "plt.xlabel('Precio en millones de pesos colombianos')\n",
        "plt.ylabel('Número de inmuebles')\n",
        "plt.savefig('/content/drive/MyDrive/inmersion_de_datos/casas_v_fincas.png', format='png')\n",
        "\n",
        "plt.show()"
      ],
      "metadata": {
        "colab": {
          "base_uri": "https://localhost:8080/",
          "height": 719
        },
        "id": "HPgPcJ95s_j9",
        "outputId": "87f7f254-909a-48f4-bbd2-18ca016984cf"
      },
      "execution_count": 128,
      "outputs": [
        {
          "output_type": "display_data",
          "data": {
            "text/plain": [
              "<Figure size 1500x800 with 1 Axes>"
            ],
            "image/png": "[encoded data removed]"
          },
          "metadata": {}
        }
      ]
    },
    {
      "cell_type": "markdown",
      "source": [
        "Podemos ver que las fincas realmente tampoco son una variable relevante en nuestra base de datos"
      ],
      "metadata": {
        "id": "pcHygUh8toDc"
      }
    },
    {
      "cell_type": "code",
      "source": [
        "#Reto 2: Precio del metro cuadrado por barrio\n",
        "\n",
        "#precio promedio por barrio\n",
        "precio_por_barrio = inmuebles.groupby('Barrio')['Precio_Millon'].mean()\n",
        "precio_por_barrio"
      ],
      "metadata": {
        "colab": {
          "base_uri": "https://localhost:8080/"
        },
        "id": "4Gpq6vUvp7RD",
        "outputId": "373f2cf8-f5f7-4eda-f31e-c9d935f608d7"
      },
      "execution_count": 99,
      "outputs": [
        {
          "output_type": "execute_result",
          "data": {
            "text/plain": [
              "Barrio\n",
              "Alameda              580.00\n",
              "Alhambra             752.35\n",
              "Andes Norte          709.57\n",
              "Antonio Nariño       459.22\n",
              "Barrancas            314.13\n",
              "                      ...  \n",
              "Villa Maria          402.85\n",
              "Villas De Granada    282.30\n",
              "Villemar             303.83\n",
              "Zona Franca          160.00\n",
              "Zona Noroccidental   620.81\n",
              "Name: Precio_Millon, Length: 149, dtype: float64"
            ]
          },
          "metadata": {},
          "execution_count": 99
        }
      ]
    },
    {
      "cell_type": "code",
      "source": [
        "#Precio por metro cuadrado\n",
        "\n",
        "inmuebles['precio_m2'] = inmuebles.Precio_Millon / inmuebles.Area \n",
        "promedio_m2_barrio = inmuebles.groupby('Barrio')['precio_m2'].mean().reset_index().sort_values(by='precio_m2', ascending=False).head(10)\n",
        "\n",
        "#Recordar que los precios estan ya en millones de pesos colombianos\n",
        "plt.figure(figsize=(20,8))\n",
        "grafica2 = sns.barplot(data=promedio_m2_barrio, x='Barrio', y='precio_m2', palette='flare')"
      ],
      "metadata": {
        "colab": {
          "base_uri": "https://localhost:8080/",
          "height": 696
        },
        "id": "Xe7RgKMKpFlV",
        "outputId": "432f6a0a-8784-4bc7-8078-d65e6c24691d"
      },
      "execution_count": 123,
      "outputs": [
        {
          "output_type": "display_data",
          "data": {
            "text/plain": [
              "<Figure size 2000x800 with 1 Axes>"
            ],
            "image/png": "[encoded data removed]"
          },
          "metadata": {}
        }
      ]
    },
    {
      "cell_type": "code",
      "source": [
        "#distribueción\n",
        "plt.figure(figsize=(20,8))\n",
        "grafica3 = sns.histplot(data=inmuebles, x='precio_m2', kde=True, hue='Tipo')\n",
        "plt.xlim((0, 10))"
      ],
      "metadata": {
        "colab": {
          "base_uri": "https://localhost:8080/",
          "height": 717
        },
        "id": "eALz46YZv9uG",
        "outputId": "5815e27f-43f5-4e84-b1c8-839075a50bdb"
      },
      "execution_count": 126,
      "outputs": [
        {
          "output_type": "execute_result",
          "data": {
            "text/plain": [
              "(0.0, 10.0)"
            ]
          },
          "metadata": {},
          "execution_count": 126
        },
        {
          "output_type": "display_data",
          "data": {
            "text/plain": [
              "<Figure size 2000x800 with 1 Axes>"
            ],
            "image/png": "[encoded data removed]"
          },
          "metadata": {}
        }
      ]
    },
    {
      "cell_type": "code",
      "source": [],
      "metadata": {
        "id": "2VhMyWsK36yh"
      },
      "execution_count": null,
      "outputs": []
    }
  ]
}